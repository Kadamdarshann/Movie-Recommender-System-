{
 "cells": [
  {
   "cell_type": "code",
   "execution_count": null,
   "id": "1cd1e75e",
   "metadata": {
    "tags": []
   },
   "outputs": [],
   "source": [
    "import numpy as np\n",
    "import pandas as pd\n",
    "import ast"
   ]
  },
  {
   "cell_type": "code",
   "execution_count": 99,
   "id": "bc2e6030-715f-4542-af22-c3c8037d82b7",
   "metadata": {
    "tags": []
   },
   "outputs": [],
   "source": [
    "movies = pd.read_csv('tmdb_5000_movies.csv')\n",
    "credits = pd.read_csv('tmdb_5000_credits.csv')"
   ]
  },
  {
   "cell_type": "code",
   "execution_count": 100,
   "id": "ae983aa8-e836-400b-ac83-42c387ffc26a",
   "metadata": {
    "tags": []
   },
   "outputs": [
    {
     "data": {
      "text/html": [
       "<div>\n",
       "<style scoped>\n",
       "    .dataframe tbody tr th:only-of-type {\n",
       "        vertical-align: middle;\n",
       "    }\n",
       "\n",
       "    .dataframe tbody tr th {\n",
       "        vertical-align: top;\n",
       "    }\n",
       "\n",
       "    .dataframe thead th {\n",
       "        text-align: right;\n",
       "    }\n",
       "</style>\n",
       "<table border=\"1\" class=\"dataframe\">\n",
       "  <thead>\n",
       "    <tr style=\"text-align: right;\">\n",
       "      <th></th>\n",
       "      <th>budget</th>\n",
       "      <th>genres</th>\n",
       "      <th>homepage</th>\n",
       "      <th>id</th>\n",
       "      <th>keywords</th>\n",
       "      <th>original_language</th>\n",
       "      <th>original_title</th>\n",
       "      <th>overview</th>\n",
       "      <th>popularity</th>\n",
       "      <th>production_companies</th>\n",
       "      <th>production_countries</th>\n",
       "      <th>release_date</th>\n",
       "      <th>revenue</th>\n",
       "      <th>runtime</th>\n",
       "      <th>spoken_languages</th>\n",
       "      <th>status</th>\n",
       "      <th>tagline</th>\n",
       "      <th>title</th>\n",
       "      <th>vote_average</th>\n",
       "      <th>vote_count</th>\n",
       "    </tr>\n",
       "  </thead>\n",
       "  <tbody>\n",
       "    <tr>\n",
       "      <th>0</th>\n",
       "      <td>237000000</td>\n",
       "      <td>[{\"id\": 28, \"name\": \"Action\"}, {\"id\": 12, \"nam...</td>\n",
       "      <td>http://www.avatarmovie.com/</td>\n",
       "      <td>19995</td>\n",
       "      <td>[{\"id\": 1463, \"name\": \"culture clash\"}, {\"id\":...</td>\n",
       "      <td>en</td>\n",
       "      <td>Avatar</td>\n",
       "      <td>In the 22nd century, a paraplegic Marine is di...</td>\n",
       "      <td>150.437577</td>\n",
       "      <td>[{\"name\": \"Ingenious Film Partners\", \"id\": 289...</td>\n",
       "      <td>[{\"iso_3166_1\": \"US\", \"name\": \"United States o...</td>\n",
       "      <td>2009-12-10</td>\n",
       "      <td>2787965087</td>\n",
       "      <td>162.0</td>\n",
       "      <td>[{\"iso_639_1\": \"en\", \"name\": \"English\"}, {\"iso...</td>\n",
       "      <td>Released</td>\n",
       "      <td>Enter the World of Pandora.</td>\n",
       "      <td>Avatar</td>\n",
       "      <td>7.2</td>\n",
       "      <td>11800</td>\n",
       "    </tr>\n",
       "    <tr>\n",
       "      <th>1</th>\n",
       "      <td>300000000</td>\n",
       "      <td>[{\"id\": 12, \"name\": \"Adventure\"}, {\"id\": 14, \"...</td>\n",
       "      <td>http://disney.go.com/disneypictures/pirates/</td>\n",
       "      <td>285</td>\n",
       "      <td>[{\"id\": 270, \"name\": \"ocean\"}, {\"id\": 726, \"na...</td>\n",
       "      <td>en</td>\n",
       "      <td>Pirates of the Caribbean: At World's End</td>\n",
       "      <td>Captain Barbossa, long believed to be dead, ha...</td>\n",
       "      <td>139.082615</td>\n",
       "      <td>[{\"name\": \"Walt Disney Pictures\", \"id\": 2}, {\"...</td>\n",
       "      <td>[{\"iso_3166_1\": \"US\", \"name\": \"United States o...</td>\n",
       "      <td>2007-05-19</td>\n",
       "      <td>961000000</td>\n",
       "      <td>169.0</td>\n",
       "      <td>[{\"iso_639_1\": \"en\", \"name\": \"English\"}]</td>\n",
       "      <td>Released</td>\n",
       "      <td>At the end of the world, the adventure begins.</td>\n",
       "      <td>Pirates of the Caribbean: At World's End</td>\n",
       "      <td>6.9</td>\n",
       "      <td>4500</td>\n",
       "    </tr>\n",
       "    <tr>\n",
       "      <th>2</th>\n",
       "      <td>245000000</td>\n",
       "      <td>[{\"id\": 28, \"name\": \"Action\"}, {\"id\": 12, \"nam...</td>\n",
       "      <td>http://www.sonypictures.com/movies/spectre/</td>\n",
       "      <td>206647</td>\n",
       "      <td>[{\"id\": 470, \"name\": \"spy\"}, {\"id\": 818, \"name...</td>\n",
       "      <td>en</td>\n",
       "      <td>Spectre</td>\n",
       "      <td>A cryptic message from Bond’s past sends him o...</td>\n",
       "      <td>107.376788</td>\n",
       "      <td>[{\"name\": \"Columbia Pictures\", \"id\": 5}, {\"nam...</td>\n",
       "      <td>[{\"iso_3166_1\": \"GB\", \"name\": \"United Kingdom\"...</td>\n",
       "      <td>2015-10-26</td>\n",
       "      <td>880674609</td>\n",
       "      <td>148.0</td>\n",
       "      <td>[{\"iso_639_1\": \"fr\", \"name\": \"Fran\\u00e7ais\"},...</td>\n",
       "      <td>Released</td>\n",
       "      <td>A Plan No One Escapes</td>\n",
       "      <td>Spectre</td>\n",
       "      <td>6.3</td>\n",
       "      <td>4466</td>\n",
       "    </tr>\n",
       "    <tr>\n",
       "      <th>3</th>\n",
       "      <td>250000000</td>\n",
       "      <td>[{\"id\": 28, \"name\": \"Action\"}, {\"id\": 80, \"nam...</td>\n",
       "      <td>http://www.thedarkknightrises.com/</td>\n",
       "      <td>49026</td>\n",
       "      <td>[{\"id\": 849, \"name\": \"dc comics\"}, {\"id\": 853,...</td>\n",
       "      <td>en</td>\n",
       "      <td>The Dark Knight Rises</td>\n",
       "      <td>Following the death of District Attorney Harve...</td>\n",
       "      <td>112.312950</td>\n",
       "      <td>[{\"name\": \"Legendary Pictures\", \"id\": 923}, {\"...</td>\n",
       "      <td>[{\"iso_3166_1\": \"US\", \"name\": \"United States o...</td>\n",
       "      <td>2012-07-16</td>\n",
       "      <td>1084939099</td>\n",
       "      <td>165.0</td>\n",
       "      <td>[{\"iso_639_1\": \"en\", \"name\": \"English\"}]</td>\n",
       "      <td>Released</td>\n",
       "      <td>The Legend Ends</td>\n",
       "      <td>The Dark Knight Rises</td>\n",
       "      <td>7.6</td>\n",
       "      <td>9106</td>\n",
       "    </tr>\n",
       "    <tr>\n",
       "      <th>4</th>\n",
       "      <td>260000000</td>\n",
       "      <td>[{\"id\": 28, \"name\": \"Action\"}, {\"id\": 12, \"nam...</td>\n",
       "      <td>http://movies.disney.com/john-carter</td>\n",
       "      <td>49529</td>\n",
       "      <td>[{\"id\": 818, \"name\": \"based on novel\"}, {\"id\":...</td>\n",
       "      <td>en</td>\n",
       "      <td>John Carter</td>\n",
       "      <td>John Carter is a war-weary, former military ca...</td>\n",
       "      <td>43.926995</td>\n",
       "      <td>[{\"name\": \"Walt Disney Pictures\", \"id\": 2}]</td>\n",
       "      <td>[{\"iso_3166_1\": \"US\", \"name\": \"United States o...</td>\n",
       "      <td>2012-03-07</td>\n",
       "      <td>284139100</td>\n",
       "      <td>132.0</td>\n",
       "      <td>[{\"iso_639_1\": \"en\", \"name\": \"English\"}]</td>\n",
       "      <td>Released</td>\n",
       "      <td>Lost in our world, found in another.</td>\n",
       "      <td>John Carter</td>\n",
       "      <td>6.1</td>\n",
       "      <td>2124</td>\n",
       "    </tr>\n",
       "  </tbody>\n",
       "</table>\n",
       "</div>"
      ],
      "text/plain": [
       "      budget                                             genres  \\\n",
       "0  237000000  [{\"id\": 28, \"name\": \"Action\"}, {\"id\": 12, \"nam...   \n",
       "1  300000000  [{\"id\": 12, \"name\": \"Adventure\"}, {\"id\": 14, \"...   \n",
       "2  245000000  [{\"id\": 28, \"name\": \"Action\"}, {\"id\": 12, \"nam...   \n",
       "3  250000000  [{\"id\": 28, \"name\": \"Action\"}, {\"id\": 80, \"nam...   \n",
       "4  260000000  [{\"id\": 28, \"name\": \"Action\"}, {\"id\": 12, \"nam...   \n",
       "\n",
       "                                       homepage      id  \\\n",
       "0                   http://www.avatarmovie.com/   19995   \n",
       "1  http://disney.go.com/disneypictures/pirates/     285   \n",
       "2   http://www.sonypictures.com/movies/spectre/  206647   \n",
       "3            http://www.thedarkknightrises.com/   49026   \n",
       "4          http://movies.disney.com/john-carter   49529   \n",
       "\n",
       "                                            keywords original_language  \\\n",
       "0  [{\"id\": 1463, \"name\": \"culture clash\"}, {\"id\":...                en   \n",
       "1  [{\"id\": 270, \"name\": \"ocean\"}, {\"id\": 726, \"na...                en   \n",
       "2  [{\"id\": 470, \"name\": \"spy\"}, {\"id\": 818, \"name...                en   \n",
       "3  [{\"id\": 849, \"name\": \"dc comics\"}, {\"id\": 853,...                en   \n",
       "4  [{\"id\": 818, \"name\": \"based on novel\"}, {\"id\":...                en   \n",
       "\n",
       "                             original_title  \\\n",
       "0                                    Avatar   \n",
       "1  Pirates of the Caribbean: At World's End   \n",
       "2                                   Spectre   \n",
       "3                     The Dark Knight Rises   \n",
       "4                               John Carter   \n",
       "\n",
       "                                            overview  popularity  \\\n",
       "0  In the 22nd century, a paraplegic Marine is di...  150.437577   \n",
       "1  Captain Barbossa, long believed to be dead, ha...  139.082615   \n",
       "2  A cryptic message from Bond’s past sends him o...  107.376788   \n",
       "3  Following the death of District Attorney Harve...  112.312950   \n",
       "4  John Carter is a war-weary, former military ca...   43.926995   \n",
       "\n",
       "                                production_companies  \\\n",
       "0  [{\"name\": \"Ingenious Film Partners\", \"id\": 289...   \n",
       "1  [{\"name\": \"Walt Disney Pictures\", \"id\": 2}, {\"...   \n",
       "2  [{\"name\": \"Columbia Pictures\", \"id\": 5}, {\"nam...   \n",
       "3  [{\"name\": \"Legendary Pictures\", \"id\": 923}, {\"...   \n",
       "4        [{\"name\": \"Walt Disney Pictures\", \"id\": 2}]   \n",
       "\n",
       "                                production_countries release_date     revenue  \\\n",
       "0  [{\"iso_3166_1\": \"US\", \"name\": \"United States o...   2009-12-10  2787965087   \n",
       "1  [{\"iso_3166_1\": \"US\", \"name\": \"United States o...   2007-05-19   961000000   \n",
       "2  [{\"iso_3166_1\": \"GB\", \"name\": \"United Kingdom\"...   2015-10-26   880674609   \n",
       "3  [{\"iso_3166_1\": \"US\", \"name\": \"United States o...   2012-07-16  1084939099   \n",
       "4  [{\"iso_3166_1\": \"US\", \"name\": \"United States o...   2012-03-07   284139100   \n",
       "\n",
       "   runtime                                   spoken_languages    status  \\\n",
       "0    162.0  [{\"iso_639_1\": \"en\", \"name\": \"English\"}, {\"iso...  Released   \n",
       "1    169.0           [{\"iso_639_1\": \"en\", \"name\": \"English\"}]  Released   \n",
       "2    148.0  [{\"iso_639_1\": \"fr\", \"name\": \"Fran\\u00e7ais\"},...  Released   \n",
       "3    165.0           [{\"iso_639_1\": \"en\", \"name\": \"English\"}]  Released   \n",
       "4    132.0           [{\"iso_639_1\": \"en\", \"name\": \"English\"}]  Released   \n",
       "\n",
       "                                          tagline  \\\n",
       "0                     Enter the World of Pandora.   \n",
       "1  At the end of the world, the adventure begins.   \n",
       "2                           A Plan No One Escapes   \n",
       "3                                 The Legend Ends   \n",
       "4            Lost in our world, found in another.   \n",
       "\n",
       "                                      title  vote_average  vote_count  \n",
       "0                                    Avatar           7.2       11800  \n",
       "1  Pirates of the Caribbean: At World's End           6.9        4500  \n",
       "2                                   Spectre           6.3        4466  \n",
       "3                     The Dark Knight Rises           7.6        9106  \n",
       "4                               John Carter           6.1        2124  "
      ]
     },
     "execution_count": 100,
     "metadata": {},
     "output_type": "execute_result"
    }
   ],
   "source": [
    "movies.head()"
   ]
  },
  {
   "cell_type": "code",
   "execution_count": 101,
   "id": "41bb9f68-012b-415e-ad0a-2453d10b6d52",
   "metadata": {
    "tags": []
   },
   "outputs": [],
   "source": [
    "movies = movies.merge(credits,on = 'title')"
   ]
  },
  {
   "cell_type": "code",
   "execution_count": 102,
   "id": "33b44883-06f9-449c-bd6b-d97a583d3404",
   "metadata": {
    "tags": []
   },
   "outputs": [
    {
     "data": {
      "text/html": [
       "<div>\n",
       "<style scoped>\n",
       "    .dataframe tbody tr th:only-of-type {\n",
       "        vertical-align: middle;\n",
       "    }\n",
       "\n",
       "    .dataframe tbody tr th {\n",
       "        vertical-align: top;\n",
       "    }\n",
       "\n",
       "    .dataframe thead th {\n",
       "        text-align: right;\n",
       "    }\n",
       "</style>\n",
       "<table border=\"1\" class=\"dataframe\">\n",
       "  <thead>\n",
       "    <tr style=\"text-align: right;\">\n",
       "      <th></th>\n",
       "      <th>movie_id</th>\n",
       "      <th>title</th>\n",
       "      <th>cast</th>\n",
       "      <th>crew</th>\n",
       "    </tr>\n",
       "  </thead>\n",
       "  <tbody>\n",
       "    <tr>\n",
       "      <th>0</th>\n",
       "      <td>19995</td>\n",
       "      <td>Avatar</td>\n",
       "      <td>[{\"cast_id\": 242, \"character\": \"Jake Sully\", \"...</td>\n",
       "      <td>[{\"credit_id\": \"52fe48009251416c750aca23\", \"de...</td>\n",
       "    </tr>\n",
       "  </tbody>\n",
       "</table>\n",
       "</div>"
      ],
      "text/plain": [
       "   movie_id   title                                               cast  \\\n",
       "0     19995  Avatar  [{\"cast_id\": 242, \"character\": \"Jake Sully\", \"...   \n",
       "\n",
       "                                                crew  \n",
       "0  [{\"credit_id\": \"52fe48009251416c750aca23\", \"de...  "
      ]
     },
     "execution_count": 102,
     "metadata": {},
     "output_type": "execute_result"
    }
   ],
   "source": [
    "credits.head(1)"
   ]
  },
  {
   "cell_type": "code",
   "execution_count": 103,
   "id": "5273c2f7-ffb4-45f3-91fa-2b3268a68cd2",
   "metadata": {
    "tags": []
   },
   "outputs": [
    {
     "data": {
      "text/html": [
       "<div>\n",
       "<style scoped>\n",
       "    .dataframe tbody tr th:only-of-type {\n",
       "        vertical-align: middle;\n",
       "    }\n",
       "\n",
       "    .dataframe tbody tr th {\n",
       "        vertical-align: top;\n",
       "    }\n",
       "\n",
       "    .dataframe thead th {\n",
       "        text-align: right;\n",
       "    }\n",
       "</style>\n",
       "<table border=\"1\" class=\"dataframe\">\n",
       "  <thead>\n",
       "    <tr style=\"text-align: right;\">\n",
       "      <th></th>\n",
       "      <th>budget</th>\n",
       "      <th>genres</th>\n",
       "      <th>homepage</th>\n",
       "      <th>id</th>\n",
       "      <th>keywords</th>\n",
       "      <th>original_language</th>\n",
       "      <th>original_title</th>\n",
       "      <th>overview</th>\n",
       "      <th>popularity</th>\n",
       "      <th>production_companies</th>\n",
       "      <th>...</th>\n",
       "      <th>runtime</th>\n",
       "      <th>spoken_languages</th>\n",
       "      <th>status</th>\n",
       "      <th>tagline</th>\n",
       "      <th>title</th>\n",
       "      <th>vote_average</th>\n",
       "      <th>vote_count</th>\n",
       "      <th>movie_id</th>\n",
       "      <th>cast</th>\n",
       "      <th>crew</th>\n",
       "    </tr>\n",
       "  </thead>\n",
       "  <tbody>\n",
       "    <tr>\n",
       "      <th>0</th>\n",
       "      <td>237000000</td>\n",
       "      <td>[{\"id\": 28, \"name\": \"Action\"}, {\"id\": 12, \"nam...</td>\n",
       "      <td>http://www.avatarmovie.com/</td>\n",
       "      <td>19995</td>\n",
       "      <td>[{\"id\": 1463, \"name\": \"culture clash\"}, {\"id\":...</td>\n",
       "      <td>en</td>\n",
       "      <td>Avatar</td>\n",
       "      <td>In the 22nd century, a paraplegic Marine is di...</td>\n",
       "      <td>150.437577</td>\n",
       "      <td>[{\"name\": \"Ingenious Film Partners\", \"id\": 289...</td>\n",
       "      <td>...</td>\n",
       "      <td>162.0</td>\n",
       "      <td>[{\"iso_639_1\": \"en\", \"name\": \"English\"}, {\"iso...</td>\n",
       "      <td>Released</td>\n",
       "      <td>Enter the World of Pandora.</td>\n",
       "      <td>Avatar</td>\n",
       "      <td>7.2</td>\n",
       "      <td>11800</td>\n",
       "      <td>19995</td>\n",
       "      <td>[{\"cast_id\": 242, \"character\": \"Jake Sully\", \"...</td>\n",
       "      <td>[{\"credit_id\": \"52fe48009251416c750aca23\", \"de...</td>\n",
       "    </tr>\n",
       "  </tbody>\n",
       "</table>\n",
       "<p>1 rows × 23 columns</p>\n",
       "</div>"
      ],
      "text/plain": [
       "      budget                                             genres  \\\n",
       "0  237000000  [{\"id\": 28, \"name\": \"Action\"}, {\"id\": 12, \"nam...   \n",
       "\n",
       "                      homepage     id  \\\n",
       "0  http://www.avatarmovie.com/  19995   \n",
       "\n",
       "                                            keywords original_language  \\\n",
       "0  [{\"id\": 1463, \"name\": \"culture clash\"}, {\"id\":...                en   \n",
       "\n",
       "  original_title                                           overview  \\\n",
       "0         Avatar  In the 22nd century, a paraplegic Marine is di...   \n",
       "\n",
       "   popularity                               production_companies  ... runtime  \\\n",
       "0  150.437577  [{\"name\": \"Ingenious Film Partners\", \"id\": 289...  ...   162.0   \n",
       "\n",
       "                                    spoken_languages    status  \\\n",
       "0  [{\"iso_639_1\": \"en\", \"name\": \"English\"}, {\"iso...  Released   \n",
       "\n",
       "                       tagline   title vote_average vote_count movie_id  \\\n",
       "0  Enter the World of Pandora.  Avatar          7.2      11800    19995   \n",
       "\n",
       "                                                cast  \\\n",
       "0  [{\"cast_id\": 242, \"character\": \"Jake Sully\", \"...   \n",
       "\n",
       "                                                crew  \n",
       "0  [{\"credit_id\": \"52fe48009251416c750aca23\", \"de...  \n",
       "\n",
       "[1 rows x 23 columns]"
      ]
     },
     "execution_count": 103,
     "metadata": {},
     "output_type": "execute_result"
    }
   ],
   "source": [
    "movies.head(1)"
   ]
  },
  {
   "cell_type": "code",
   "execution_count": 104,
   "id": "ae1e9c1d-e35e-451f-99e8-618bc23536de",
   "metadata": {
    "tags": []
   },
   "outputs": [],
   "source": [
    "#genre \n",
    "#id \n",
    "#keywords\n",
    "#cast\n",
    "#crew\n",
    "#overview\n",
    "#title"
   ]
  },
  {
   "cell_type": "code",
   "execution_count": 105,
   "id": "339e5f67-6d4c-4482-8dbc-c8a2d9b08a43",
   "metadata": {
    "tags": []
   },
   "outputs": [],
   "source": [
    "movies1=movies[['movie_id','title','overview','genres','keywords','cast','crew']]"
   ]
  },
  {
   "cell_type": "code",
   "execution_count": 106,
   "id": "ea876793-97ea-47b9-9d22-bb062b9f912b",
   "metadata": {
    "tags": []
   },
   "outputs": [
    {
     "name": "stdout",
     "output_type": "stream",
     "text": [
      "<class 'pandas.core.frame.DataFrame'>\n",
      "RangeIndex: 4809 entries, 0 to 4808\n",
      "Data columns (total 7 columns):\n",
      " #   Column    Non-Null Count  Dtype \n",
      "---  ------    --------------  ----- \n",
      " 0   movie_id  4809 non-null   int64 \n",
      " 1   title     4809 non-null   object\n",
      " 2   overview  4806 non-null   object\n",
      " 3   genres    4809 non-null   object\n",
      " 4   keywords  4809 non-null   object\n",
      " 5   cast      4809 non-null   object\n",
      " 6   crew      4809 non-null   object\n",
      "dtypes: int64(1), object(6)\n",
      "memory usage: 263.1+ KB\n"
     ]
    }
   ],
   "source": [
    "movies1.info()"
   ]
  },
  {
   "cell_type": "markdown",
   "id": "b88ff5f7-ae4f-4b1b-b037-57d262dbc96e",
   "metadata": {},
   "source": [
    "movies.duplicated().sum()"
   ]
  },
  {
   "cell_type": "code",
   "execution_count": 107,
   "id": "9577482c-ab36-4f93-868d-389b7ca0e72f",
   "metadata": {
    "tags": []
   },
   "outputs": [
    {
     "data": {
      "text/html": [
       "<div>\n",
       "<style scoped>\n",
       "    .dataframe tbody tr th:only-of-type {\n",
       "        vertical-align: middle;\n",
       "    }\n",
       "\n",
       "    .dataframe tbody tr th {\n",
       "        vertical-align: top;\n",
       "    }\n",
       "\n",
       "    .dataframe thead th {\n",
       "        text-align: right;\n",
       "    }\n",
       "</style>\n",
       "<table border=\"1\" class=\"dataframe\">\n",
       "  <thead>\n",
       "    <tr style=\"text-align: right;\">\n",
       "      <th></th>\n",
       "      <th>movie_id</th>\n",
       "      <th>title</th>\n",
       "      <th>overview</th>\n",
       "      <th>genres</th>\n",
       "      <th>keywords</th>\n",
       "      <th>cast</th>\n",
       "      <th>crew</th>\n",
       "    </tr>\n",
       "  </thead>\n",
       "  <tbody>\n",
       "    <tr>\n",
       "      <th>0</th>\n",
       "      <td>19995</td>\n",
       "      <td>Avatar</td>\n",
       "      <td>In the 22nd century, a paraplegic Marine is di...</td>\n",
       "      <td>[{\"id\": 28, \"name\": \"Action\"}, {\"id\": 12, \"nam...</td>\n",
       "      <td>[{\"id\": 1463, \"name\": \"culture clash\"}, {\"id\":...</td>\n",
       "      <td>[{\"cast_id\": 242, \"character\": \"Jake Sully\", \"...</td>\n",
       "      <td>[{\"credit_id\": \"52fe48009251416c750aca23\", \"de...</td>\n",
       "    </tr>\n",
       "    <tr>\n",
       "      <th>1</th>\n",
       "      <td>285</td>\n",
       "      <td>Pirates of the Caribbean: At World's End</td>\n",
       "      <td>Captain Barbossa, long believed to be dead, ha...</td>\n",
       "      <td>[{\"id\": 12, \"name\": \"Adventure\"}, {\"id\": 14, \"...</td>\n",
       "      <td>[{\"id\": 270, \"name\": \"ocean\"}, {\"id\": 726, \"na...</td>\n",
       "      <td>[{\"cast_id\": 4, \"character\": \"Captain Jack Spa...</td>\n",
       "      <td>[{\"credit_id\": \"52fe4232c3a36847f800b579\", \"de...</td>\n",
       "    </tr>\n",
       "    <tr>\n",
       "      <th>2</th>\n",
       "      <td>206647</td>\n",
       "      <td>Spectre</td>\n",
       "      <td>A cryptic message from Bond’s past sends him o...</td>\n",
       "      <td>[{\"id\": 28, \"name\": \"Action\"}, {\"id\": 12, \"nam...</td>\n",
       "      <td>[{\"id\": 470, \"name\": \"spy\"}, {\"id\": 818, \"name...</td>\n",
       "      <td>[{\"cast_id\": 1, \"character\": \"James Bond\", \"cr...</td>\n",
       "      <td>[{\"credit_id\": \"54805967c3a36829b5002c41\", \"de...</td>\n",
       "    </tr>\n",
       "    <tr>\n",
       "      <th>3</th>\n",
       "      <td>49026</td>\n",
       "      <td>The Dark Knight Rises</td>\n",
       "      <td>Following the death of District Attorney Harve...</td>\n",
       "      <td>[{\"id\": 28, \"name\": \"Action\"}, {\"id\": 80, \"nam...</td>\n",
       "      <td>[{\"id\": 849, \"name\": \"dc comics\"}, {\"id\": 853,...</td>\n",
       "      <td>[{\"cast_id\": 2, \"character\": \"Bruce Wayne / Ba...</td>\n",
       "      <td>[{\"credit_id\": \"52fe4781c3a36847f81398c3\", \"de...</td>\n",
       "    </tr>\n",
       "    <tr>\n",
       "      <th>4</th>\n",
       "      <td>49529</td>\n",
       "      <td>John Carter</td>\n",
       "      <td>John Carter is a war-weary, former military ca...</td>\n",
       "      <td>[{\"id\": 28, \"name\": \"Action\"}, {\"id\": 12, \"nam...</td>\n",
       "      <td>[{\"id\": 818, \"name\": \"based on novel\"}, {\"id\":...</td>\n",
       "      <td>[{\"cast_id\": 5, \"character\": \"John Carter\", \"c...</td>\n",
       "      <td>[{\"credit_id\": \"52fe479ac3a36847f813eaa3\", \"de...</td>\n",
       "    </tr>\n",
       "  </tbody>\n",
       "</table>\n",
       "</div>"
      ],
      "text/plain": [
       "   movie_id                                     title  \\\n",
       "0     19995                                    Avatar   \n",
       "1       285  Pirates of the Caribbean: At World's End   \n",
       "2    206647                                   Spectre   \n",
       "3     49026                     The Dark Knight Rises   \n",
       "4     49529                               John Carter   \n",
       "\n",
       "                                            overview  \\\n",
       "0  In the 22nd century, a paraplegic Marine is di...   \n",
       "1  Captain Barbossa, long believed to be dead, ha...   \n",
       "2  A cryptic message from Bond’s past sends him o...   \n",
       "3  Following the death of District Attorney Harve...   \n",
       "4  John Carter is a war-weary, former military ca...   \n",
       "\n",
       "                                              genres  \\\n",
       "0  [{\"id\": 28, \"name\": \"Action\"}, {\"id\": 12, \"nam...   \n",
       "1  [{\"id\": 12, \"name\": \"Adventure\"}, {\"id\": 14, \"...   \n",
       "2  [{\"id\": 28, \"name\": \"Action\"}, {\"id\": 12, \"nam...   \n",
       "3  [{\"id\": 28, \"name\": \"Action\"}, {\"id\": 80, \"nam...   \n",
       "4  [{\"id\": 28, \"name\": \"Action\"}, {\"id\": 12, \"nam...   \n",
       "\n",
       "                                            keywords  \\\n",
       "0  [{\"id\": 1463, \"name\": \"culture clash\"}, {\"id\":...   \n",
       "1  [{\"id\": 270, \"name\": \"ocean\"}, {\"id\": 726, \"na...   \n",
       "2  [{\"id\": 470, \"name\": \"spy\"}, {\"id\": 818, \"name...   \n",
       "3  [{\"id\": 849, \"name\": \"dc comics\"}, {\"id\": 853,...   \n",
       "4  [{\"id\": 818, \"name\": \"based on novel\"}, {\"id\":...   \n",
       "\n",
       "                                                cast  \\\n",
       "0  [{\"cast_id\": 242, \"character\": \"Jake Sully\", \"...   \n",
       "1  [{\"cast_id\": 4, \"character\": \"Captain Jack Spa...   \n",
       "2  [{\"cast_id\": 1, \"character\": \"James Bond\", \"cr...   \n",
       "3  [{\"cast_id\": 2, \"character\": \"Bruce Wayne / Ba...   \n",
       "4  [{\"cast_id\": 5, \"character\": \"John Carter\", \"c...   \n",
       "\n",
       "                                                crew  \n",
       "0  [{\"credit_id\": \"52fe48009251416c750aca23\", \"de...  \n",
       "1  [{\"credit_id\": \"52fe4232c3a36847f800b579\", \"de...  \n",
       "2  [{\"credit_id\": \"54805967c3a36829b5002c41\", \"de...  \n",
       "3  [{\"credit_id\": \"52fe4781c3a36847f81398c3\", \"de...  \n",
       "4  [{\"credit_id\": \"52fe479ac3a36847f813eaa3\", \"de...  "
      ]
     },
     "execution_count": 107,
     "metadata": {},
     "output_type": "execute_result"
    }
   ],
   "source": [
    "movies1.head()"
   ]
  },
  {
   "cell_type": "code",
   "execution_count": 108,
   "id": "ab526cf8-8251-470c-b67e-a0aecf54c533",
   "metadata": {
    "tags": []
   },
   "outputs": [
    {
     "data": {
      "text/plain": [
       "movie_id    0\n",
       "title       0\n",
       "overview    3\n",
       "genres      0\n",
       "keywords    0\n",
       "cast        0\n",
       "crew        0\n",
       "dtype: int64"
      ]
     },
     "execution_count": 108,
     "metadata": {},
     "output_type": "execute_result"
    }
   ],
   "source": [
    "movies1.isnull().sum()"
   ]
  },
  {
   "cell_type": "code",
   "execution_count": 109,
   "id": "f6a0f610-591b-46b5-9fe6-1fc160c21da8",
   "metadata": {
    "tags": []
   },
   "outputs": [
    {
     "data": {
      "text/plain": [
       "'[{\"id\": 28, \"name\": \"Action\"}, {\"id\": 12, \"name\": \"Adventure\"}, {\"id\": 14, \"name\": \"Fantasy\"}, {\"id\": 878, \"name\": \"Science Fiction\"}]'"
      ]
     },
     "execution_count": 109,
     "metadata": {},
     "output_type": "execute_result"
    }
   ],
   "source": [
    "movies1.iloc[0].genres"
   ]
  },
  {
   "cell_type": "code",
   "execution_count": 110,
   "id": "3b683aee-8769-4a8e-98e4-db12a1ebe753",
   "metadata": {
    "tags": []
   },
   "outputs": [],
   "source": [
    "#([{\"id\": 28, \"name\": \"Action\"}, {\"id\": 12, \"name\": \"Adventure\"}, {\"id\": 14, \"name\": \"Fantasy\"}, {\"id\": 878, \"name\": \"Science Fiction\"}])"
   ]
  },
  {
   "cell_type": "code",
   "execution_count": 111,
   "id": "4838e354-6281-4c67-b3b5-85a3713da5f4",
   "metadata": {
    "tags": []
   },
   "outputs": [],
   "source": [
    "def convert(obj):\n",
    "    L = []\n",
    "    for i in ast.literal_eval(obj):\n",
    "        L.append(i['name'])\n",
    "        return L"
   ]
  },
  {
   "cell_type": "code",
   "execution_count": 112,
   "id": "0d283c69-271c-4677-be68-408550633066",
   "metadata": {
    "tags": []
   },
   "outputs": [
    {
     "name": "stderr",
     "output_type": "stream",
     "text": [
      "C:\\Users\\theophannycitta\\AppData\\Local\\Temp\\ipykernel_9564\\439131351.py:1: SettingWithCopyWarning: \n",
      "A value is trying to be set on a copy of a slice from a DataFrame.\n",
      "Try using .loc[row_indexer,col_indexer] = value instead\n",
      "\n",
      "See the caveats in the documentation: https://pandas.pydata.org/pandas-docs/stable/user_guide/indexing.html#returning-a-view-versus-a-copy\n",
      "  movies1['genres']=movies1['genres'].apply(convert)\n"
     ]
    }
   ],
   "source": [
    "movies1['genres']=movies1['genres'].apply(convert)"
   ]
  },
  {
   "cell_type": "code",
   "execution_count": null,
   "id": "4b6a19c6-7803-433c-a47f-ae84a7e7c576",
   "metadata": {},
   "outputs": [],
   "source": []
  },
  {
   "cell_type": "code",
   "execution_count": 113,
   "id": "f4bc53fa-7de2-4bb8-9ae0-ee139d8fc08a",
   "metadata": {
    "tags": []
   },
   "outputs": [
    {
     "data": {
      "text/html": [
       "<div>\n",
       "<style scoped>\n",
       "    .dataframe tbody tr th:only-of-type {\n",
       "        vertical-align: middle;\n",
       "    }\n",
       "\n",
       "    .dataframe tbody tr th {\n",
       "        vertical-align: top;\n",
       "    }\n",
       "\n",
       "    .dataframe thead th {\n",
       "        text-align: right;\n",
       "    }\n",
       "</style>\n",
       "<table border=\"1\" class=\"dataframe\">\n",
       "  <thead>\n",
       "    <tr style=\"text-align: right;\">\n",
       "      <th></th>\n",
       "      <th>movie_id</th>\n",
       "      <th>title</th>\n",
       "      <th>overview</th>\n",
       "      <th>genres</th>\n",
       "      <th>keywords</th>\n",
       "      <th>cast</th>\n",
       "      <th>crew</th>\n",
       "    </tr>\n",
       "  </thead>\n",
       "  <tbody>\n",
       "    <tr>\n",
       "      <th>0</th>\n",
       "      <td>19995</td>\n",
       "      <td>Avatar</td>\n",
       "      <td>In the 22nd century, a paraplegic Marine is di...</td>\n",
       "      <td>[Action]</td>\n",
       "      <td>[{\"id\": 1463, \"name\": \"culture clash\"}, {\"id\":...</td>\n",
       "      <td>[{\"cast_id\": 242, \"character\": \"Jake Sully\", \"...</td>\n",
       "      <td>[{\"credit_id\": \"52fe48009251416c750aca23\", \"de...</td>\n",
       "    </tr>\n",
       "    <tr>\n",
       "      <th>1</th>\n",
       "      <td>285</td>\n",
       "      <td>Pirates of the Caribbean: At World's End</td>\n",
       "      <td>Captain Barbossa, long believed to be dead, ha...</td>\n",
       "      <td>[Adventure]</td>\n",
       "      <td>[{\"id\": 270, \"name\": \"ocean\"}, {\"id\": 726, \"na...</td>\n",
       "      <td>[{\"cast_id\": 4, \"character\": \"Captain Jack Spa...</td>\n",
       "      <td>[{\"credit_id\": \"52fe4232c3a36847f800b579\", \"de...</td>\n",
       "    </tr>\n",
       "    <tr>\n",
       "      <th>2</th>\n",
       "      <td>206647</td>\n",
       "      <td>Spectre</td>\n",
       "      <td>A cryptic message from Bond’s past sends him o...</td>\n",
       "      <td>[Action]</td>\n",
       "      <td>[{\"id\": 470, \"name\": \"spy\"}, {\"id\": 818, \"name...</td>\n",
       "      <td>[{\"cast_id\": 1, \"character\": \"James Bond\", \"cr...</td>\n",
       "      <td>[{\"credit_id\": \"54805967c3a36829b5002c41\", \"de...</td>\n",
       "    </tr>\n",
       "    <tr>\n",
       "      <th>3</th>\n",
       "      <td>49026</td>\n",
       "      <td>The Dark Knight Rises</td>\n",
       "      <td>Following the death of District Attorney Harve...</td>\n",
       "      <td>[Action]</td>\n",
       "      <td>[{\"id\": 849, \"name\": \"dc comics\"}, {\"id\": 853,...</td>\n",
       "      <td>[{\"cast_id\": 2, \"character\": \"Bruce Wayne / Ba...</td>\n",
       "      <td>[{\"credit_id\": \"52fe4781c3a36847f81398c3\", \"de...</td>\n",
       "    </tr>\n",
       "    <tr>\n",
       "      <th>4</th>\n",
       "      <td>49529</td>\n",
       "      <td>John Carter</td>\n",
       "      <td>John Carter is a war-weary, former military ca...</td>\n",
       "      <td>[Action]</td>\n",
       "      <td>[{\"id\": 818, \"name\": \"based on novel\"}, {\"id\":...</td>\n",
       "      <td>[{\"cast_id\": 5, \"character\": \"John Carter\", \"c...</td>\n",
       "      <td>[{\"credit_id\": \"52fe479ac3a36847f813eaa3\", \"de...</td>\n",
       "    </tr>\n",
       "  </tbody>\n",
       "</table>\n",
       "</div>"
      ],
      "text/plain": [
       "   movie_id                                     title  \\\n",
       "0     19995                                    Avatar   \n",
       "1       285  Pirates of the Caribbean: At World's End   \n",
       "2    206647                                   Spectre   \n",
       "3     49026                     The Dark Knight Rises   \n",
       "4     49529                               John Carter   \n",
       "\n",
       "                                            overview       genres  \\\n",
       "0  In the 22nd century, a paraplegic Marine is di...     [Action]   \n",
       "1  Captain Barbossa, long believed to be dead, ha...  [Adventure]   \n",
       "2  A cryptic message from Bond’s past sends him o...     [Action]   \n",
       "3  Following the death of District Attorney Harve...     [Action]   \n",
       "4  John Carter is a war-weary, former military ca...     [Action]   \n",
       "\n",
       "                                            keywords  \\\n",
       "0  [{\"id\": 1463, \"name\": \"culture clash\"}, {\"id\":...   \n",
       "1  [{\"id\": 270, \"name\": \"ocean\"}, {\"id\": 726, \"na...   \n",
       "2  [{\"id\": 470, \"name\": \"spy\"}, {\"id\": 818, \"name...   \n",
       "3  [{\"id\": 849, \"name\": \"dc comics\"}, {\"id\": 853,...   \n",
       "4  [{\"id\": 818, \"name\": \"based on novel\"}, {\"id\":...   \n",
       "\n",
       "                                                cast  \\\n",
       "0  [{\"cast_id\": 242, \"character\": \"Jake Sully\", \"...   \n",
       "1  [{\"cast_id\": 4, \"character\": \"Captain Jack Spa...   \n",
       "2  [{\"cast_id\": 1, \"character\": \"James Bond\", \"cr...   \n",
       "3  [{\"cast_id\": 2, \"character\": \"Bruce Wayne / Ba...   \n",
       "4  [{\"cast_id\": 5, \"character\": \"John Carter\", \"c...   \n",
       "\n",
       "                                                crew  \n",
       "0  [{\"credit_id\": \"52fe48009251416c750aca23\", \"de...  \n",
       "1  [{\"credit_id\": \"52fe4232c3a36847f800b579\", \"de...  \n",
       "2  [{\"credit_id\": \"54805967c3a36829b5002c41\", \"de...  \n",
       "3  [{\"credit_id\": \"52fe4781c3a36847f81398c3\", \"de...  \n",
       "4  [{\"credit_id\": \"52fe479ac3a36847f813eaa3\", \"de...  "
      ]
     },
     "execution_count": 113,
     "metadata": {},
     "output_type": "execute_result"
    }
   ],
   "source": [
    "movies1.head()"
   ]
  },
  {
   "cell_type": "code",
   "execution_count": 114,
   "id": "648a4bc1-ace5-462f-9983-ab7864345c60",
   "metadata": {
    "tags": []
   },
   "outputs": [
    {
     "name": "stderr",
     "output_type": "stream",
     "text": [
      "C:\\Users\\theophannycitta\\AppData\\Local\\Temp\\ipykernel_9564\\1727438572.py:1: SettingWithCopyWarning: \n",
      "A value is trying to be set on a copy of a slice from a DataFrame.\n",
      "Try using .loc[row_indexer,col_indexer] = value instead\n",
      "\n",
      "See the caveats in the documentation: https://pandas.pydata.org/pandas-docs/stable/user_guide/indexing.html#returning-a-view-versus-a-copy\n",
      "  movies1['keywords']=movies1['keywords'].apply(convert)\n"
     ]
    }
   ],
   "source": [
    "movies1['keywords']=movies1['keywords'].apply(convert)"
   ]
  },
  {
   "cell_type": "code",
   "execution_count": 115,
   "id": "25ae95a8-adc2-4720-b2f0-ccfeac2dd1d2",
   "metadata": {
    "tags": []
   },
   "outputs": [
    {
     "name": "stderr",
     "output_type": "stream",
     "text": [
      "C:\\Users\\theophannycitta\\AppData\\Local\\Temp\\ipykernel_9564\\2507282757.py:1: SettingWithCopyWarning: \n",
      "A value is trying to be set on a copy of a slice from a DataFrame.\n",
      "Try using .loc[row_indexer,col_indexer] = value instead\n",
      "\n",
      "See the caveats in the documentation: https://pandas.pydata.org/pandas-docs/stable/user_guide/indexing.html#returning-a-view-versus-a-copy\n",
      "  movies1['cast']=movies1['cast'].apply(convert3)\n"
     ]
    }
   ],
   "source": [
    "movies1['cast']=movies1['cast'].apply(convert3)"
   ]
  },
  {
   "cell_type": "code",
   "execution_count": 116,
   "id": "1c6b086e-a346-4bc4-8ece-4e0de0ea6b7b",
   "metadata": {
    "tags": []
   },
   "outputs": [],
   "source": [
    "def convert3(obj):\n",
    "    L = []\n",
    "    counter = 0\n",
    "    for i in ast.literal_eval(obj):\n",
    "        if counter !=3:\n",
    "            L.append(i['name'])\n",
    "            counter+=1\n",
    "        else:\n",
    "            break\n",
    "    return L"
   ]
  },
  {
   "cell_type": "code",
   "execution_count": null,
   "id": "bfaf0152-76c2-4ed9-acae-9abbf5c44c3a",
   "metadata": {},
   "outputs": [],
   "source": []
  },
  {
   "cell_type": "code",
   "execution_count": 117,
   "id": "f8f2e039",
   "metadata": {},
   "outputs": [],
   "source": [
    "def fetch_director(obj):\n",
    "    L = []\n",
    "    for i in ast.literal_eval(obj):\n",
    "        if i['job'] == ['director']:\n",
    "            L.append(i['name'])\n",
    "            break\n",
    "    return L"
   ]
  },
  {
   "cell_type": "code",
   "execution_count": 118,
   "id": "5e87beca-b185-414a-9351-eafca079520d",
   "metadata": {},
   "outputs": [
    {
     "name": "stderr",
     "output_type": "stream",
     "text": [
      "C:\\Users\\theophannycitta\\AppData\\Local\\Temp\\ipykernel_9564\\3518060253.py:1: SettingWithCopyWarning: \n",
      "A value is trying to be set on a copy of a slice from a DataFrame.\n",
      "Try using .loc[row_indexer,col_indexer] = value instead\n",
      "\n",
      "See the caveats in the documentation: https://pandas.pydata.org/pandas-docs/stable/user_guide/indexing.html#returning-a-view-versus-a-copy\n",
      "  movies1['crew']=movies1['crew'].apply(fetch_director)\n"
     ]
    }
   ],
   "source": [
    "movies1['crew']=movies1['crew'].apply(fetch_director)"
   ]
  },
  {
   "cell_type": "code",
   "execution_count": 119,
   "id": "aa360096",
   "metadata": {},
   "outputs": [
    {
     "data": {
      "text/html": [
       "<div>\n",
       "<style scoped>\n",
       "    .dataframe tbody tr th:only-of-type {\n",
       "        vertical-align: middle;\n",
       "    }\n",
       "\n",
       "    .dataframe tbody tr th {\n",
       "        vertical-align: top;\n",
       "    }\n",
       "\n",
       "    .dataframe thead th {\n",
       "        text-align: right;\n",
       "    }\n",
       "</style>\n",
       "<table border=\"1\" class=\"dataframe\">\n",
       "  <thead>\n",
       "    <tr style=\"text-align: right;\">\n",
       "      <th></th>\n",
       "      <th>movie_id</th>\n",
       "      <th>title</th>\n",
       "      <th>overview</th>\n",
       "      <th>genres</th>\n",
       "      <th>keywords</th>\n",
       "      <th>cast</th>\n",
       "      <th>crew</th>\n",
       "    </tr>\n",
       "  </thead>\n",
       "  <tbody>\n",
       "    <tr>\n",
       "      <th>0</th>\n",
       "      <td>19995</td>\n",
       "      <td>Avatar</td>\n",
       "      <td>In the 22nd century, a paraplegic Marine is di...</td>\n",
       "      <td>[Action]</td>\n",
       "      <td>[culture clash]</td>\n",
       "      <td>[Sam Worthington, Zoe Saldana, Sigourney Weaver]</td>\n",
       "      <td>[]</td>\n",
       "    </tr>\n",
       "    <tr>\n",
       "      <th>1</th>\n",
       "      <td>285</td>\n",
       "      <td>Pirates of the Caribbean: At World's End</td>\n",
       "      <td>Captain Barbossa, long believed to be dead, ha...</td>\n",
       "      <td>[Adventure]</td>\n",
       "      <td>[ocean]</td>\n",
       "      <td>[Johnny Depp, Orlando Bloom, Keira Knightley]</td>\n",
       "      <td>[]</td>\n",
       "    </tr>\n",
       "    <tr>\n",
       "      <th>2</th>\n",
       "      <td>206647</td>\n",
       "      <td>Spectre</td>\n",
       "      <td>A cryptic message from Bond’s past sends him o...</td>\n",
       "      <td>[Action]</td>\n",
       "      <td>[spy]</td>\n",
       "      <td>[Daniel Craig, Christoph Waltz, Léa Seydoux]</td>\n",
       "      <td>[]</td>\n",
       "    </tr>\n",
       "    <tr>\n",
       "      <th>3</th>\n",
       "      <td>49026</td>\n",
       "      <td>The Dark Knight Rises</td>\n",
       "      <td>Following the death of District Attorney Harve...</td>\n",
       "      <td>[Action]</td>\n",
       "      <td>[dc comics]</td>\n",
       "      <td>[Christian Bale, Michael Caine, Gary Oldman]</td>\n",
       "      <td>[]</td>\n",
       "    </tr>\n",
       "    <tr>\n",
       "      <th>4</th>\n",
       "      <td>49529</td>\n",
       "      <td>John Carter</td>\n",
       "      <td>John Carter is a war-weary, former military ca...</td>\n",
       "      <td>[Action]</td>\n",
       "      <td>[based on novel]</td>\n",
       "      <td>[Taylor Kitsch, Lynn Collins, Samantha Morton]</td>\n",
       "      <td>[]</td>\n",
       "    </tr>\n",
       "  </tbody>\n",
       "</table>\n",
       "</div>"
      ],
      "text/plain": [
       "   movie_id                                     title  \\\n",
       "0     19995                                    Avatar   \n",
       "1       285  Pirates of the Caribbean: At World's End   \n",
       "2    206647                                   Spectre   \n",
       "3     49026                     The Dark Knight Rises   \n",
       "4     49529                               John Carter   \n",
       "\n",
       "                                            overview       genres  \\\n",
       "0  In the 22nd century, a paraplegic Marine is di...     [Action]   \n",
       "1  Captain Barbossa, long believed to be dead, ha...  [Adventure]   \n",
       "2  A cryptic message from Bond’s past sends him o...     [Action]   \n",
       "3  Following the death of District Attorney Harve...     [Action]   \n",
       "4  John Carter is a war-weary, former military ca...     [Action]   \n",
       "\n",
       "           keywords                                              cast crew  \n",
       "0   [culture clash]  [Sam Worthington, Zoe Saldana, Sigourney Weaver]   []  \n",
       "1           [ocean]     [Johnny Depp, Orlando Bloom, Keira Knightley]   []  \n",
       "2             [spy]      [Daniel Craig, Christoph Waltz, Léa Seydoux]   []  \n",
       "3       [dc comics]      [Christian Bale, Michael Caine, Gary Oldman]   []  \n",
       "4  [based on novel]    [Taylor Kitsch, Lynn Collins, Samantha Morton]   []  "
      ]
     },
     "execution_count": 119,
     "metadata": {},
     "output_type": "execute_result"
    }
   ],
   "source": [
    "movies1.head()"
   ]
  },
  {
   "cell_type": "code",
   "execution_count": 120,
   "id": "626dbac4",
   "metadata": {},
   "outputs": [
    {
     "data": {
      "text/plain": [
       "'In the 22nd century, a paraplegic Marine is dispatched to the moon Pandora on a unique mission, but becomes torn between following orders and protecting an alien civilization.'"
      ]
     },
     "execution_count": 120,
     "metadata": {},
     "output_type": "execute_result"
    }
   ],
   "source": [
    "movies1['overview'][0]"
   ]
  },
  {
   "cell_type": "code",
   "execution_count": 121,
   "id": "c9b5871d",
   "metadata": {},
   "outputs": [
    {
     "name": "stderr",
     "output_type": "stream",
     "text": [
      "C:\\Users\\theophannycitta\\AppData\\Local\\Temp\\ipykernel_9564\\3527891328.py:1: SettingWithCopyWarning: \n",
      "A value is trying to be set on a copy of a slice from a DataFrame.\n",
      "Try using .loc[row_indexer,col_indexer] = value instead\n",
      "\n",
      "See the caveats in the documentation: https://pandas.pydata.org/pandas-docs/stable/user_guide/indexing.html#returning-a-view-versus-a-copy\n",
      "  movies1['overview']=movies1['overview'].astype(str).map(lambda x: x.split() if isinstance(x, str) else [])\n"
     ]
    }
   ],
   "source": [
    "movies1['overview']=movies1['overview'].astype(str).map(lambda x: x.split() if isinstance(x, str) else [])"
   ]
  },
  {
   "cell_type": "code",
   "execution_count": 122,
   "id": "661585b8",
   "metadata": {},
   "outputs": [
    {
     "data": {
      "text/html": [
       "<div>\n",
       "<style scoped>\n",
       "    .dataframe tbody tr th:only-of-type {\n",
       "        vertical-align: middle;\n",
       "    }\n",
       "\n",
       "    .dataframe tbody tr th {\n",
       "        vertical-align: top;\n",
       "    }\n",
       "\n",
       "    .dataframe thead th {\n",
       "        text-align: right;\n",
       "    }\n",
       "</style>\n",
       "<table border=\"1\" class=\"dataframe\">\n",
       "  <thead>\n",
       "    <tr style=\"text-align: right;\">\n",
       "      <th></th>\n",
       "      <th>movie_id</th>\n",
       "      <th>title</th>\n",
       "      <th>overview</th>\n",
       "      <th>genres</th>\n",
       "      <th>keywords</th>\n",
       "      <th>cast</th>\n",
       "      <th>crew</th>\n",
       "    </tr>\n",
       "  </thead>\n",
       "  <tbody>\n",
       "    <tr>\n",
       "      <th>0</th>\n",
       "      <td>19995</td>\n",
       "      <td>Avatar</td>\n",
       "      <td>[In, the, 22nd, century,, a, paraplegic, Marin...</td>\n",
       "      <td>[Action]</td>\n",
       "      <td>[culture clash]</td>\n",
       "      <td>[Sam Worthington, Zoe Saldana, Sigourney Weaver]</td>\n",
       "      <td>[]</td>\n",
       "    </tr>\n",
       "    <tr>\n",
       "      <th>1</th>\n",
       "      <td>285</td>\n",
       "      <td>Pirates of the Caribbean: At World's End</td>\n",
       "      <td>[Captain, Barbossa,, long, believed, to, be, d...</td>\n",
       "      <td>[Adventure]</td>\n",
       "      <td>[ocean]</td>\n",
       "      <td>[Johnny Depp, Orlando Bloom, Keira Knightley]</td>\n",
       "      <td>[]</td>\n",
       "    </tr>\n",
       "    <tr>\n",
       "      <th>2</th>\n",
       "      <td>206647</td>\n",
       "      <td>Spectre</td>\n",
       "      <td>[A, cryptic, message, from, Bond’s, past, send...</td>\n",
       "      <td>[Action]</td>\n",
       "      <td>[spy]</td>\n",
       "      <td>[Daniel Craig, Christoph Waltz, Léa Seydoux]</td>\n",
       "      <td>[]</td>\n",
       "    </tr>\n",
       "    <tr>\n",
       "      <th>3</th>\n",
       "      <td>49026</td>\n",
       "      <td>The Dark Knight Rises</td>\n",
       "      <td>[Following, the, death, of, District, Attorney...</td>\n",
       "      <td>[Action]</td>\n",
       "      <td>[dc comics]</td>\n",
       "      <td>[Christian Bale, Michael Caine, Gary Oldman]</td>\n",
       "      <td>[]</td>\n",
       "    </tr>\n",
       "    <tr>\n",
       "      <th>4</th>\n",
       "      <td>49529</td>\n",
       "      <td>John Carter</td>\n",
       "      <td>[John, Carter, is, a, war-weary,, former, mili...</td>\n",
       "      <td>[Action]</td>\n",
       "      <td>[based on novel]</td>\n",
       "      <td>[Taylor Kitsch, Lynn Collins, Samantha Morton]</td>\n",
       "      <td>[]</td>\n",
       "    </tr>\n",
       "  </tbody>\n",
       "</table>\n",
       "</div>"
      ],
      "text/plain": [
       "   movie_id                                     title  \\\n",
       "0     19995                                    Avatar   \n",
       "1       285  Pirates of the Caribbean: At World's End   \n",
       "2    206647                                   Spectre   \n",
       "3     49026                     The Dark Knight Rises   \n",
       "4     49529                               John Carter   \n",
       "\n",
       "                                            overview       genres  \\\n",
       "0  [In, the, 22nd, century,, a, paraplegic, Marin...     [Action]   \n",
       "1  [Captain, Barbossa,, long, believed, to, be, d...  [Adventure]   \n",
       "2  [A, cryptic, message, from, Bond’s, past, send...     [Action]   \n",
       "3  [Following, the, death, of, District, Attorney...     [Action]   \n",
       "4  [John, Carter, is, a, war-weary,, former, mili...     [Action]   \n",
       "\n",
       "           keywords                                              cast crew  \n",
       "0   [culture clash]  [Sam Worthington, Zoe Saldana, Sigourney Weaver]   []  \n",
       "1           [ocean]     [Johnny Depp, Orlando Bloom, Keira Knightley]   []  \n",
       "2             [spy]      [Daniel Craig, Christoph Waltz, Léa Seydoux]   []  \n",
       "3       [dc comics]      [Christian Bale, Michael Caine, Gary Oldman]   []  \n",
       "4  [based on novel]    [Taylor Kitsch, Lynn Collins, Samantha Morton]   []  "
      ]
     },
     "execution_count": 122,
     "metadata": {},
     "output_type": "execute_result"
    }
   ],
   "source": [
    "movies1.head() "
   ]
  },
  {
   "cell_type": "code",
   "execution_count": 123,
   "id": "bbb32dfc",
   "metadata": {},
   "outputs": [
    {
     "name": "stderr",
     "output_type": "stream",
     "text": [
      "C:\\Users\\theophannycitta\\AppData\\Local\\Temp\\ipykernel_9564\\4188666678.py:1: SettingWithCopyWarning: \n",
      "A value is trying to be set on a copy of a slice from a DataFrame.\n",
      "Try using .loc[row_indexer,col_indexer] = value instead\n",
      "\n",
      "See the caveats in the documentation: https://pandas.pydata.org/pandas-docs/stable/user_guide/indexing.html#returning-a-view-versus-a-copy\n",
      "  movies1['genres']=movies1['genres'].map(lambda x: [genres.replace(\" \", \"\") if isinstance(genres, str) else genres for genres in x] if x is not None else [])\n"
     ]
    }
   ],
   "source": [
    "movies1['genres']=movies1['genres'].map(lambda x: [genres.replace(\" \", \"\") if isinstance(genres, str) else genres for genres in x] if x is not None else [])"
   ]
  },
  {
   "cell_type": "code",
   "execution_count": 124,
   "id": "cca5f5a9",
   "metadata": {},
   "outputs": [
    {
     "name": "stderr",
     "output_type": "stream",
     "text": [
      "C:\\Users\\theophannycitta\\AppData\\Local\\Temp\\ipykernel_9564\\2603737000.py:1: SettingWithCopyWarning: \n",
      "A value is trying to be set on a copy of a slice from a DataFrame.\n",
      "Try using .loc[row_indexer,col_indexer] = value instead\n",
      "\n",
      "See the caveats in the documentation: https://pandas.pydata.org/pandas-docs/stable/user_guide/indexing.html#returning-a-view-versus-a-copy\n",
      "  movies1['keywords']=movies1['keywords'].map(lambda x: [keywords.replace(\" \", \"\") if isinstance(keywords, str) else keywords for keywords in x] if x is not None else [])\n",
      "C:\\Users\\theophannycitta\\AppData\\Local\\Temp\\ipykernel_9564\\2603737000.py:2: SettingWithCopyWarning: \n",
      "A value is trying to be set on a copy of a slice from a DataFrame.\n",
      "Try using .loc[row_indexer,col_indexer] = value instead\n",
      "\n",
      "See the caveats in the documentation: https://pandas.pydata.org/pandas-docs/stable/user_guide/indexing.html#returning-a-view-versus-a-copy\n",
      "  movies1['cast']=movies1['cast'].map(lambda x: [cast.replace(\" \", \"\") if isinstance(cast, str) else cast for cast in x] if x is not None else [])\n",
      "C:\\Users\\theophannycitta\\AppData\\Local\\Temp\\ipykernel_9564\\2603737000.py:3: SettingWithCopyWarning: \n",
      "A value is trying to be set on a copy of a slice from a DataFrame.\n",
      "Try using .loc[row_indexer,col_indexer] = value instead\n",
      "\n",
      "See the caveats in the documentation: https://pandas.pydata.org/pandas-docs/stable/user_guide/indexing.html#returning-a-view-versus-a-copy\n",
      "  movies1['crew']=movies1['crew'].map(lambda x: [crew.replace(\" \", \"\") if isinstance(crew, str) else crew for crew in x] if x is not None else [])\n",
      "C:\\Users\\theophannycitta\\AppData\\Local\\Temp\\ipykernel_9564\\2603737000.py:4: SettingWithCopyWarning: \n",
      "A value is trying to be set on a copy of a slice from a DataFrame.\n",
      "Try using .loc[row_indexer,col_indexer] = value instead\n",
      "\n",
      "See the caveats in the documentation: https://pandas.pydata.org/pandas-docs/stable/user_guide/indexing.html#returning-a-view-versus-a-copy\n",
      "  movies1['overview']=movies1['overview'].map(lambda x: [overview.replace(\" \", \"\") if isinstance(overview, str) else overview for overview in x] if x is not None else [])\n"
     ]
    }
   ],
   "source": [
    "movies1['keywords']=movies1['keywords'].map(lambda x: [keywords.replace(\" \", \"\") if isinstance(keywords, str) else keywords for keywords in x] if x is not None else [])\n",
    "movies1['cast']=movies1['cast'].map(lambda x: [cast.replace(\" \", \"\") if isinstance(cast, str) else cast for cast in x] if x is not None else [])\n",
    "movies1['crew']=movies1['crew'].map(lambda x: [crew.replace(\" \", \"\") if isinstance(crew, str) else crew for crew in x] if x is not None else [])\n",
    "movies1['overview']=movies1['overview'].map(lambda x: [overview.replace(\" \", \"\") if isinstance(overview, str) else overview for overview in x] if x is not None else [])\n"
   ]
  },
  {
   "cell_type": "code",
   "execution_count": 125,
   "id": "1617825b",
   "metadata": {},
   "outputs": [
    {
     "name": "stderr",
     "output_type": "stream",
     "text": [
      "C:\\Users\\theophannycitta\\AppData\\Local\\Temp\\ipykernel_9564\\2247476365.py:1: SettingWithCopyWarning: \n",
      "A value is trying to be set on a copy of a slice from a DataFrame.\n",
      "Try using .loc[row_indexer,col_indexer] = value instead\n",
      "\n",
      "See the caveats in the documentation: https://pandas.pydata.org/pandas-docs/stable/user_guide/indexing.html#returning-a-view-versus-a-copy\n",
      "  movies1['tags'] = movies1['overview'] + movies1['genres'] + movies1['keywords']+ movies1['cast']+ movies1['crew']\n"
     ]
    }
   ],
   "source": [
    "movies1['tags'] = movies1['overview'] + movies1['genres'] + movies1['keywords']+ movies1['cast']+ movies1['crew'] "
   ]
  },
  {
   "cell_type": "code",
   "execution_count": 126,
   "id": "f5a53a44",
   "metadata": {},
   "outputs": [
    {
     "data": {
      "text/html": [
       "<div>\n",
       "<style scoped>\n",
       "    .dataframe tbody tr th:only-of-type {\n",
       "        vertical-align: middle;\n",
       "    }\n",
       "\n",
       "    .dataframe tbody tr th {\n",
       "        vertical-align: top;\n",
       "    }\n",
       "\n",
       "    .dataframe thead th {\n",
       "        text-align: right;\n",
       "    }\n",
       "</style>\n",
       "<table border=\"1\" class=\"dataframe\">\n",
       "  <thead>\n",
       "    <tr style=\"text-align: right;\">\n",
       "      <th></th>\n",
       "      <th>movie_id</th>\n",
       "      <th>title</th>\n",
       "      <th>overview</th>\n",
       "      <th>genres</th>\n",
       "      <th>keywords</th>\n",
       "      <th>cast</th>\n",
       "      <th>crew</th>\n",
       "      <th>tags</th>\n",
       "    </tr>\n",
       "  </thead>\n",
       "  <tbody>\n",
       "    <tr>\n",
       "      <th>0</th>\n",
       "      <td>19995</td>\n",
       "      <td>Avatar</td>\n",
       "      <td>[In, the, 22nd, century,, a, paraplegic, Marin...</td>\n",
       "      <td>[Action]</td>\n",
       "      <td>[cultureclash]</td>\n",
       "      <td>[SamWorthington, ZoeSaldana, SigourneyWeaver]</td>\n",
       "      <td>[]</td>\n",
       "      <td>[In, the, 22nd, century,, a, paraplegic, Marin...</td>\n",
       "    </tr>\n",
       "    <tr>\n",
       "      <th>1</th>\n",
       "      <td>285</td>\n",
       "      <td>Pirates of the Caribbean: At World's End</td>\n",
       "      <td>[Captain, Barbossa,, long, believed, to, be, d...</td>\n",
       "      <td>[Adventure]</td>\n",
       "      <td>[ocean]</td>\n",
       "      <td>[JohnnyDepp, OrlandoBloom, KeiraKnightley]</td>\n",
       "      <td>[]</td>\n",
       "      <td>[Captain, Barbossa,, long, believed, to, be, d...</td>\n",
       "    </tr>\n",
       "    <tr>\n",
       "      <th>2</th>\n",
       "      <td>206647</td>\n",
       "      <td>Spectre</td>\n",
       "      <td>[A, cryptic, message, from, Bond’s, past, send...</td>\n",
       "      <td>[Action]</td>\n",
       "      <td>[spy]</td>\n",
       "      <td>[DanielCraig, ChristophWaltz, LéaSeydoux]</td>\n",
       "      <td>[]</td>\n",
       "      <td>[A, cryptic, message, from, Bond’s, past, send...</td>\n",
       "    </tr>\n",
       "    <tr>\n",
       "      <th>3</th>\n",
       "      <td>49026</td>\n",
       "      <td>The Dark Knight Rises</td>\n",
       "      <td>[Following, the, death, of, District, Attorney...</td>\n",
       "      <td>[Action]</td>\n",
       "      <td>[dccomics]</td>\n",
       "      <td>[ChristianBale, MichaelCaine, GaryOldman]</td>\n",
       "      <td>[]</td>\n",
       "      <td>[Following, the, death, of, District, Attorney...</td>\n",
       "    </tr>\n",
       "    <tr>\n",
       "      <th>4</th>\n",
       "      <td>49529</td>\n",
       "      <td>John Carter</td>\n",
       "      <td>[John, Carter, is, a, war-weary,, former, mili...</td>\n",
       "      <td>[Action]</td>\n",
       "      <td>[basedonnovel]</td>\n",
       "      <td>[TaylorKitsch, LynnCollins, SamanthaMorton]</td>\n",
       "      <td>[]</td>\n",
       "      <td>[John, Carter, is, a, war-weary,, former, mili...</td>\n",
       "    </tr>\n",
       "  </tbody>\n",
       "</table>\n",
       "</div>"
      ],
      "text/plain": [
       "   movie_id                                     title  \\\n",
       "0     19995                                    Avatar   \n",
       "1       285  Pirates of the Caribbean: At World's End   \n",
       "2    206647                                   Spectre   \n",
       "3     49026                     The Dark Knight Rises   \n",
       "4     49529                               John Carter   \n",
       "\n",
       "                                            overview       genres  \\\n",
       "0  [In, the, 22nd, century,, a, paraplegic, Marin...     [Action]   \n",
       "1  [Captain, Barbossa,, long, believed, to, be, d...  [Adventure]   \n",
       "2  [A, cryptic, message, from, Bond’s, past, send...     [Action]   \n",
       "3  [Following, the, death, of, District, Attorney...     [Action]   \n",
       "4  [John, Carter, is, a, war-weary,, former, mili...     [Action]   \n",
       "\n",
       "         keywords                                           cast crew  \\\n",
       "0  [cultureclash]  [SamWorthington, ZoeSaldana, SigourneyWeaver]   []   \n",
       "1         [ocean]     [JohnnyDepp, OrlandoBloom, KeiraKnightley]   []   \n",
       "2           [spy]      [DanielCraig, ChristophWaltz, LéaSeydoux]   []   \n",
       "3      [dccomics]      [ChristianBale, MichaelCaine, GaryOldman]   []   \n",
       "4  [basedonnovel]    [TaylorKitsch, LynnCollins, SamanthaMorton]   []   \n",
       "\n",
       "                                                tags  \n",
       "0  [In, the, 22nd, century,, a, paraplegic, Marin...  \n",
       "1  [Captain, Barbossa,, long, believed, to, be, d...  \n",
       "2  [A, cryptic, message, from, Bond’s, past, send...  \n",
       "3  [Following, the, death, of, District, Attorney...  \n",
       "4  [John, Carter, is, a, war-weary,, former, mili...  "
      ]
     },
     "execution_count": 126,
     "metadata": {},
     "output_type": "execute_result"
    }
   ],
   "source": [
    "movies1.head()"
   ]
  },
  {
   "cell_type": "code",
   "execution_count": 127,
   "id": "ece81438",
   "metadata": {},
   "outputs": [],
   "source": [
    "new_df = movies1[[\"movie_id\",\"title\",\"tags\"]]"
   ]
  },
  {
   "cell_type": "code",
   "execution_count": 128,
   "id": "79a5da87",
   "metadata": {},
   "outputs": [
    {
     "name": "stderr",
     "output_type": "stream",
     "text": [
      "C:\\Users\\theophannycitta\\AppData\\Local\\Temp\\ipykernel_9564\\1934066639.py:1: SettingWithCopyWarning: \n",
      "A value is trying to be set on a copy of a slice from a DataFrame.\n",
      "Try using .loc[row_indexer,col_indexer] = value instead\n",
      "\n",
      "See the caveats in the documentation: https://pandas.pydata.org/pandas-docs/stable/user_guide/indexing.html#returning-a-view-versus-a-copy\n",
      "  new_df['tags'] = new_df['tags'].apply(lambda x: \" \".join(x) if isinstance(x, list) else \"\")\n"
     ]
    }
   ],
   "source": [
    "new_df['tags'] = new_df['tags'].apply(lambda x: \" \".join(x) if isinstance(x, list) else \"\")\n"
   ]
  },
  {
   "cell_type": "code",
   "execution_count": 129,
   "id": "dc929dab",
   "metadata": {},
   "outputs": [
    {
     "data": {
      "text/plain": [
       "'In the 22nd century, a paraplegic Marine is dispatched to the moon Pandora on a unique mission, but becomes torn between following orders and protecting an alien civilization. Action cultureclash SamWorthington ZoeSaldana SigourneyWeaver'"
      ]
     },
     "execution_count": 129,
     "metadata": {},
     "output_type": "execute_result"
    }
   ],
   "source": [
    "new_df['tags'][0]"
   ]
  },
  {
   "cell_type": "code",
   "execution_count": 130,
   "id": "7cd198cb",
   "metadata": {},
   "outputs": [
    {
     "data": {
      "text/plain": [
       "0       in the 22nd century, a paraplegic marine is di...\n",
       "1       captain barbossa, long believed to be dead, ha...\n",
       "2       a cryptic message from bond’s past sends him o...\n",
       "3       following the death of district attorney harve...\n",
       "4       john carter is a war-weary, former military ca...\n",
       "                              ...                        \n",
       "4804    el mariachi just wants to play his guitar and ...\n",
       "4805    a newlywed couple's honeymoon is upended by th...\n",
       "4806    \"signed, sealed, delivered\" introduces a dedic...\n",
       "4807    when ambitious new york attorney sam is sent t...\n",
       "4808    ever since the second grade when he first saw ...\n",
       "Name: tags, Length: 4809, dtype: object"
      ]
     },
     "execution_count": 130,
     "metadata": {},
     "output_type": "execute_result"
    }
   ],
   "source": [
    "new_df['tags'].apply(lambda x: x.lower())"
   ]
  },
  {
   "cell_type": "code",
   "execution_count": 131,
   "id": "d4e617fb",
   "metadata": {},
   "outputs": [
    {
     "data": {
      "text/html": [
       "<div>\n",
       "<style scoped>\n",
       "    .dataframe tbody tr th:only-of-type {\n",
       "        vertical-align: middle;\n",
       "    }\n",
       "\n",
       "    .dataframe tbody tr th {\n",
       "        vertical-align: top;\n",
       "    }\n",
       "\n",
       "    .dataframe thead th {\n",
       "        text-align: right;\n",
       "    }\n",
       "</style>\n",
       "<table border=\"1\" class=\"dataframe\">\n",
       "  <thead>\n",
       "    <tr style=\"text-align: right;\">\n",
       "      <th></th>\n",
       "      <th>movie_id</th>\n",
       "      <th>title</th>\n",
       "      <th>tags</th>\n",
       "    </tr>\n",
       "  </thead>\n",
       "  <tbody>\n",
       "    <tr>\n",
       "      <th>0</th>\n",
       "      <td>19995</td>\n",
       "      <td>Avatar</td>\n",
       "      <td>In the 22nd century, a paraplegic Marine is di...</td>\n",
       "    </tr>\n",
       "    <tr>\n",
       "      <th>1</th>\n",
       "      <td>285</td>\n",
       "      <td>Pirates of the Caribbean: At World's End</td>\n",
       "      <td>Captain Barbossa, long believed to be dead, ha...</td>\n",
       "    </tr>\n",
       "    <tr>\n",
       "      <th>2</th>\n",
       "      <td>206647</td>\n",
       "      <td>Spectre</td>\n",
       "      <td>A cryptic message from Bond’s past sends him o...</td>\n",
       "    </tr>\n",
       "    <tr>\n",
       "      <th>3</th>\n",
       "      <td>49026</td>\n",
       "      <td>The Dark Knight Rises</td>\n",
       "      <td>Following the death of District Attorney Harve...</td>\n",
       "    </tr>\n",
       "    <tr>\n",
       "      <th>4</th>\n",
       "      <td>49529</td>\n",
       "      <td>John Carter</td>\n",
       "      <td>John Carter is a war-weary, former military ca...</td>\n",
       "    </tr>\n",
       "  </tbody>\n",
       "</table>\n",
       "</div>"
      ],
      "text/plain": [
       "   movie_id                                     title  \\\n",
       "0     19995                                    Avatar   \n",
       "1       285  Pirates of the Caribbean: At World's End   \n",
       "2    206647                                   Spectre   \n",
       "3     49026                     The Dark Knight Rises   \n",
       "4     49529                               John Carter   \n",
       "\n",
       "                                                tags  \n",
       "0  In the 22nd century, a paraplegic Marine is di...  \n",
       "1  Captain Barbossa, long believed to be dead, ha...  \n",
       "2  A cryptic message from Bond’s past sends him o...  \n",
       "3  Following the death of District Attorney Harve...  \n",
       "4  John Carter is a war-weary, former military ca...  "
      ]
     },
     "execution_count": 131,
     "metadata": {},
     "output_type": "execute_result"
    }
   ],
   "source": [
    "new_df.head()"
   ]
  },
  {
   "cell_type": "code",
   "execution_count": 132,
   "id": "2af6e7a5",
   "metadata": {},
   "outputs": [],
   "source": [
    "from sklearn.feature_extraction.text import CountVectorizer\n",
    "cv = CountVectorizer(max_features=5000,stop_words= 'english')"
   ]
  },
  {
   "cell_type": "code",
   "execution_count": 133,
   "id": "d682ad9a",
   "metadata": {},
   "outputs": [],
   "source": [
    "vectors = cv.fit_transform(new_df['tags']).toarray()"
   ]
  },
  {
   "cell_type": "code",
   "execution_count": 134,
   "id": "2f17b562",
   "metadata": {},
   "outputs": [
    {
     "data": {
      "text/plain": [
       "array([0, 0, 0, ..., 0, 0, 0], dtype=int64)"
      ]
     },
     "execution_count": 134,
     "metadata": {},
     "output_type": "execute_result"
    }
   ],
   "source": [
    "vectors[0]"
   ]
  },
  {
   "cell_type": "code",
   "execution_count": 135,
   "id": "7d093f04",
   "metadata": {},
   "outputs": [
    {
     "data": {
      "text/plain": [
       "dict_keys(['century', 'marine', 'dispatched', 'moon', 'pandora', 'unique', 'mission', 'torn', 'following', 'orders', 'protecting', 'alien', 'civilization', 'action', 'zoesaldana', 'sigourneyweaver', 'captain', 'long', 'believed', 'dead', 'come', 'life', 'headed', 'edge', 'earth', 'turner', 'elizabeth', 'quite', 'adventure', 'ocean', 'johnnydepp', 'orlandobloom', 'keiraknightley', 'message', 'bond', 'past', 'sends', 'trail', 'uncover', 'sinister', 'organization', 'battles', 'political', 'forces', 'secret', 'service', 'alive', 'deceit', 'reveal', 'terrible', 'truth', 'spy', 'danielcraig', 'christophwaltz', 'death', 'district', 'attorney', 'harvey', 'dent', 'batman', 'assumes', 'responsibility', 'crimes', 'protect', 'late', 'reputation', 'hunted', 'gotham', 'city', 'police', 'department', 'years', 'later', 'encounters', 'mysterious', 'kyle', 'villainous', 'new', 'terrorist', 'leader', 'dark', 'knight', 'resurfaces', 'enemy', 'dccomics', 'christianbale', 'michaelcaine', 'garyoldman', 'john', 'carter', 'war', 'military', 'inexplicably', 'transported', 'exotic', 'planet', 'mars', 'reluctantly', 'embroiled', 'epic', 'conflict', 'world', 'brink', 'collapse', 'humanity', 'realizes', 'survival', 'people', 'hands', 'basedonnovel', 'samanthamorton', 'seemingly', 'spider', 'man', 'goes', 'villain', 'including', 'shape', 'superpowers', 'alter', 'ego', 'peter', 'parker', 'deals', 'nemesis', 'eddie', 'gets', 'caught', 'love', 'triangle', 'fantasy', 'tobeymaguire', 'kirstendunst', 'jamesfranco', 'kingdom', 'wanted', 'charming', 'flynn', 'rider', 'hides', 'taken', 'hostage', 'beautiful', 'feisty', 'bound', 'teen', '70', 'feet', 'magical', 'golden', 'hair', 'curious', 'looking', 'ticket', 'locked', 'away', 'strikes', 'deal', 'handsome', 'thief', 'unlikely', 'duo', 'sets', 'packed', 'complete', 'super', 'cop', 'horse', 'gang', 'thugs', 'animation', 'mandymoore', 'tony', 'stark', 'tries', 'program', 'things', 'awry', 'heroes', 'ultimate', 'test', 'fate', 'hangs', 'balance', 'emerges', 'stop', 'plans', 'soon', 'unexpected', 'way', 'global', 'robertdowneyjr', 'chrishemsworth', 'markruffalo', 'harry', 'begins', 'sixth', 'year', 'discovers', 'old', 'book', 'marked', 'property', 'half', 'blood', 'prince', 'learn', 'lord', 'witch', 'danielradcliffe', 'rupertgrint', 'emmawatson', 'actions', 'god', 'like', 'hero', 'left', 'formidable', 'vigilante', 'takes', 'modern', 'day', 'sort', 'really', 'needs', 'superman', 'threat', 'quickly', 'putting', 'mankind', 'greater', 'danger', 'known', 'benaffleck', 'returns', 'discover', 'absence', 'walk', 'free', 'abandoned', 'moved', 'plots', 'revenge', 'millions', 'killed', 'change', 'face', 'forever', 'steel', 'savingtheworld', 'kevinspacey', 'katebosworth', 'continues', 'adventures', 'james', 'casino', 'betrayed', 'woman', 'loved', '007', 'fights', 'make', 'latest', 'personal', 'pursuing', 'determination', 'mr', 'white', 'reveals', 'far', 'complex', 'dangerous', 'imagined', 'killing', 'olgakurylenko', 'jack', 'sparrow', 'works', 'debt', 'jones', 'attempts', 'avoid', 'eternal', 'texas', 'rangers', 'chase', 'led', 'survivor', 'american', 'indian', 'named', 'health', 'ranger', 'mask', 'riding', 'silver', 'teams', 'bring', 'unscrupulous', 'justice', 'young', 'boy', 'learns', 'extraordinary', 'powers', 'journeys', 'came', 'sent', 'emerge', 'save', 'hope', 'amyadams', 'michaelshannon', 'incredible', 'lion', 'lucy', 'susan', 'return', 'aid', 'threatened', 'evil', 'king', 'help', 'colorful', 'cast', 'characters', 'clan', 'embarks', 'quest', 'ensure', 'returned', 'heir', 'threatens', 'safety', 'security', 'nick', 'director', 'international', 'agency', 'finds', 'need', 'team', 'pull', 'disaster', 'spanning', 'globe', 'daring', 'effort', 'sciencefiction', 'newyork', 'chrisevans', 'crosses', 'paths', 'sure', 'ruthless', 'artist', 'using', 'fabled', 'youth', 'aboard', 'queen', 'anne', 'ship', 'pirate', 'doesn', 'know', 'fear', 'sea', 'penélopecruz', 'agents', 'smith', 'tommy', 'lee', 'time', 'seen', '15', 'men', 'black', 'aliens', 'partner', 'stake', 'agent', 'travel', 'right', 'secrets', 'universe', 'told', 'josh', 'future', 'humankind', 'timetravel', 'willsmith', 'tommyleejones', 'joshbrolin', 'immediately', 'events', 'bilbo', 'dwarves', 'try', 'defend', 'mountain', 'treasure', 'claim', 'elves', 'army', 'fueled', 'rise', 'unite', 'middle', 'falls', 'corruption', 'martinfreeman', 'ianmckellen', 'outcast', 'high', 'parents', 'leaving', 'raised', 'uncle', 'ben', 'aunt', 'teenagers', 'trying', 'figure', 'got', 'person', 'today', 'father', 'understand', 'disappearance', 'leading', 'lab', 'dr', 'set', 'collision', 'course', 'altering', 'choices', 'use', 'destiny', 'emmastone', 'soldier', 'robin', 'happens', 'dying', 'robert', 'promises', 'sword', 'family', 'identity', 'romances', 'widow', 'draws', 'town', 'sheriff', 'russellcrowe', 'cateblanchett', 'successfully', 'escaped', 'mountains', 'ring', 'continue', 'journey', 'gold', 'dragon', 'shocking', 'orphan', 'carefree', 'existence', 'jordan', 'college', 'otherworldly', 'north', 'unaware', 'england', 'nicolekidman', 'york', 'ambitious', 'movie', 'producer', 'hired', 'crew', 'skull', 'island', 'encounter', 'kong', 'giant', 'smitten', 'lady', 'naomiwatts', 'jackblack', 'adrienbrody', 'rose', 'tells', 'story', 'lewis', 'bobby', 'april', 'called', 'upper', 'class', 'passengers', 'mother', 'ruth', 'fiancé', 'drifter', 'best', 'friend', 'win', 'tickets', 'game', 'voyage', '20', 'morning', 'drama', 'katewinslet', 'leonardodicaprio', 'age', 'pass', 'act', 'designed', 'activity', 'causing', 'factions', 'america', 'causes', 'battle', 'allies', 'civilwar', 'scarlettjohansson', 'radio', 'signal', 'space', 'comes', 'form', 'waters', 'hawaii', 'lieutenant', 'alex', 'hopper', 'weapons', 'officer', 'assigned', 'paul', 'engage', 'hostile', 'force', 'unimaginable', 'strength', 'taking', 'invaders', 'live', 'potential', 'brother', 'fiancée', 'shane', 'thriller', 'fight', 'park', 'features', 'fully', 'dinosaur', 'monster', 'assignment', 'wrong', 'exposed', 'attacked', 'forcing', 'relocate', 'cause', 'authority', 'position', 'challenged', 'intelligence', 'inside', 'ally', 'trust', 'aided', 'field', 'eve', 'lethal', 'hidden', 'motives', 'judidench', 'javierbardem', 'going', 'major', 'crisis', 'burned', 'decides', 'superhero', 'leaves', 'suffering', 'wake', 'doc', 'feelings', 'mary', 'jane', 'girl', 'childhood', 'apart', 'starts', 'odyssey', 'retribution', 'gwynethpaltrow', 'doncheadle', 'alice', 'individual', '19', 'english', 'nobleman', 'engagement', 'party', 'escapes', 'crowd', 'marriage', 'hole', 'garden', 'unusual', 'rabbit', 'arriving', 'strange', 'surreal', 'place', 'nightmares', 'child', 'filled', 'talking', 'animals', 'queens', 'reason', 'conquer', 'horrific', 'restore', 'throne', 'annehathaway', 'cure', 'treat', 'lines', 'drawn', 'band', 'powerful', 'mutants', 'organized', 'mutant', 'hughjackman', 'halleberry', 'look', 'relationship', 'mike', 'days', 'monsters', 'university', 'friends', 'billycrystal', 'johngoodman', 'stevebuscemi', 'sam', 'normal', 'mind', 'target', 'egypt', 'shialabeouf', 'picks', 'pieces', 'conclusion', 'group', 'businessman', 'scientists', 'attempt', 'push', 'boundaries', 'technology', 'control', 'ancient', 'cross', 'sequel', 'markwahlberg', 'oscar', 'small', 'circus', 'whisked', 'kansas', 'land', 'oz', 'inhabitants', 'great', 'wizard', 'prophecy', 'clutches', 'milakunis', 'rachelweisz', 'busy', 'bad', 'guys', 'spending', 'loves', 'school', 'graduation', 'promise', 'staying', 'uncovers', 'clues', 'obsession', 'jamiefoxx', 'tech', 'son', 'kevin', 'investigates', 'pulled', 'dictator', 'real', 'artificialintelligence', 'garretthedlund', 'jeffbridges', 'oliviawilde', 'star', 'race', 'car', 'lightning', 'pal', 'head', 'compete', 'grand', 'road', 'championship', 'rocky', 'espionage', 'carrace', 'owenwilson', 'centuries', 'warriors', 'green', 'intergalactic', 'order', 'destroy', 'power', 'lie', 'human', 'recruited', 'ryanreynolds', 'petersarsgaard', 'woody', 'buzz', 'rest', 'andy', 'toys', 'haven', 'played', 'accidentally', 'nefarious', 'care', 'center', 'escape', 'home', 'tomhanks', 'timallen', 'grown', 'post', 'apocalyptic', 'connor', 'lead', 'resistance', 'humans', 'increasingly', 'robots', 'marcus', 'wright', 'appears', 'determine', 'antonyelchin', 'shaw', 'seeks', 'vindiesel', 'paulwalker', 'dwaynejohnson', 'united', 'nations', 'investigator', 'gerry', 'lane', 'suddenly', 'plagued', 'turning', 'zombies', 'barely', 'escaping', 'chaos', 'investigate', 'disease', 'follows', 'perilous', 'trek', 'brave', 'dangers', 'odds', 'answers', 'dystopia', 'bradpitt', 'species', 'join', 'younger', '1970s', 'jamesmcavoy', 'michaelfassbender', 'enterprise', 'unstoppable', 'terror', 'stands', 'state', 'score', 'settle', 'kirk', 'leads', 'zone', 'capture', 'weapon', 'mass', 'destruction', 'spacecraft', 'chrispine', 'unwittingly', 'opens', 'fearsome', 'giants', 'unleashed', 'reclaim', 'lost', 'fighting', 'princess', 'thought', 'existed', 'legend', 'chance', 'ewanmcgregor', 'adaptation', 'scott', 'novel', 'lured', 'lavish', 'neighbor', 'jay', 'madness', 'tragedy', 'careymulligan', 'rogue', 'joins', 'capable', 'gift', 'gods', 'allow', 'rule', 'jakegyllenhaal', 'benkingsley', 'monstrous', 'creatures', 'started', 'rising', 'began', 'lives', 'resources', 'end', 'combat', 'special', 'type', 'massive', 'controlled', 'simultaneously', 'pilots', 'minds', 'bridge', 'nearly', 'relentless', 'verge', 'defeat', 'choice', 'turn', 'washed', 'pilot', 'charlie', 'drive', 'legendary', 'stand', 'mounting', 'apocalypse', 'steps', 'adulthood', 'remaining', 'reluctant', 'prime', 'film', 'centers', 'usa', 'role', 'remains', 'johnmalkovich', 'cold', 'wielding', 'search', 'crystal', 'supernatural', 'related', 'mystical', 'captured', 'colleague', 'professor', 'knowledge', 'harrisonford', 'dinosaurs', 'makes', 'jeffreywright', 'scottish', 'ruled', 'daughter', 'accomplished', 'sacred', 'inadvertently', 'brings', 'turmoil', 'eccentric', 'wise', 'ill', 'wish', 'serving', 'comic', 'relief', 'enormous', 'surly', 'scotland', 'explores', 'reaches', 'puts', 'federation', 'karlurban', 'wall', 'robot', 'overrun', 'outer', 'clean', 'developed', 'arrives', 'thinks', 'finally', 'assassination', 'ambassador', 'han', 'inspector', 'detective', 'paris', 'french', 'leaders', 'holds', 'struggles', 'chinese', 'criminal', 'mastermind', 'jackiechan', 'worldwide', 'investigating', 'unprecedented', 'solar', 'core', 'president', 'thomas', 'wilson', 'unstable', 'saving', 'population', 'entire', 'doomed', 'writer', 'jackson', 'stumbles', 'information', 'build', 'wreak', 'havoc', 'johncusack', 'amandapeet', 'chiwetelejiofor', 'christmas', 'spirits', 'miserable', 'current', 'dire', 'awaits', 'does', 'ways', 'faced', 'growing', 'decide', 'hold', 'redemption', 'holiday', 'jimcarrey', 'genetic', 'precious', 'key', 'dynasty', 'channingtatum', 'seanbean', 'having', 'london', 'jungle', 'activities', 'mining', 'africa', 'siblings', 'step', 'peaceful', 'plunged', 'winter', 'children', 'spectacular', 'level', 'plan', 'jenniferlawrence', 'stakes', 'crime', 'lt', 'jim', 'gordon', 'plague', 'streets', 'partnership', 'proves', 'prey', 'reign', 'terrified', 'citizens', 'heathledger', 'aaroneckhart', 'carl', 'spent', 'exploring', 'experiencing', 'passed', 'twist', 'wilderness', 'russell', 'gives', 'christopherplummer', 'murphy', 'wedding', 'mysteriously', 'grows', '11', 'jumps', 'captures', 'covert', 'government', 'placed', 'ragtag', 'sethrogen', 'reesewitherspoon', 'held', 'captive', 'cave', 'billionaire', 'engineer', 'creates', 'suit', 'terrencehoward', 'living', 'walls', 'train', 'station', '1930s', 'fix', 'gadgets', 'keeping', 'running', 'thing', 'connects', 'work', 'unlock', 'believes', 'contains', 'meets', 'george', 'seeking', 'surprising', 'connection', 'memories', 'buried', 'southern', 'inventor', 'loveless', 'civil', 'grant', 'west', 'master', 'disguise', 'thwart', 'kevinkline', 'kennethbranagh', 'archaeologist', 'rick', 'connell', 'travels', 'china', 'emperor', '000', 'pursue', 'domination', 'enlists', 'wife', 'abuse', 'brendanfraser', 'jetli', 'dc', 'comics', 'suicide', 'squad', 'states', 'risk', 'ops', 'missions', 'exchange', 'prison', 'fathersonrelationship', 'stevecarell', 'minutes', 'alpha', 'awakens', 'beginning', 'forced', 'die', 'physical', 'contact', 'thrown', 'tomcruise', 'emilyblunt', 'brendangleeson', 'futuristic', 'polar', 'ice', 'rescues', 'charge', 'trio', 'map', 'kevincostner', 'egyptian', 'desert', 'deep', 'elite', 'joe', 'uses', 'generation', 'corrupt', 'arms', 'dealer', 'prevent', 'dennisquaid', 'marlonwayans', 'riley', 'midwest', 'job', 'san', 'francisco', 'emotions', 'joy', 'anger', 'headquarters', 'everyday', 'struggle', 'adjust', 'ensues', 'main', 'important', 'navigate', 'house', 'dream', 'tiger', 'khan', 'flee', 'self', 'discovery', 'spirited', 'bear', 'billmurray', 'faces', 'pressure', 'press', 'public', 'share', 'unwilling', 'let', 'invention', 'confront', 'enemies', 'marries', 'violent', 'coup', 'murdered', 'snow', 'decade', 'obtain', 'heart', 'castle', 'forest', 'kristenstewart', 'charlizetheron', 'disney', 'iconic', '1959', 'classic', 'sleeping', 'beauty', 'pure', 'hearted', 'idyllic', 'invading', 'harmony', 'rises', 'ultimately', 'suffers', 'betrayal', 'stone', 'bent', 'successor', 'result', 'places', 'curse', 'newborn', 'peace', 'true', 'happiness', 'angelinajolie', 'stay', 'aftermath', 'caesar', 'maintain', 'community', 'intelligent', 'apes', 'andyserkis', 'lovers', 'romance', 'sweeping', 'tale', 'impossible', 'backdrop', 'british', '18th', 'india', 'deeply', 'present', 'joshhartnett', 'based', 'original', 'japan', 'enduring', '3d', 'born', 'samurai', 'seek', 'vengeance', 'treacherous', 'banished', 'kind', 'honor', 'homeland', 'embark', 'challenges', 'series', 'trials', 'ordinary', 'keanureeves', 'steve', 'aka', 'washington', 'attack', 'web', 'intrigue', 'joining', 'expose', 'conspiracy', 'professional', 'assassins', 'silence', 'plot', 'revealed', 'enlist', 'washingtond', 'samuell', 'bored', 'shrek', 'maker', 'feeling', 'twisted', 'version', 'fiona', 'met', 'comedy', 'mikemyers', 'eddiemurphy', 'camerondiaz', 'shared', 'bright', 'scientific', 'genius', 'enigmatic', 'exists', 'memory', 'georgeclooney', 'develops', 'plus', 'sized', 'prodigy', 'brotherbrotherrelationship', 'ralph', 'foot', 'tall', 'video', 'jr', 'destroys', 'wanting', 'prove', 'good', 'guy', 'just', 'lands', 'duty', 'helps', 'enters', 'rush', 'racing', 'tracks', 'von', 'affect', 'johnc', 'reilly', 'ride', 'pole', 'shows', 'wonder', 'believe', 'knew', 'coming', 'immense', 'defense', 'prepare', 'women', 'liamhemsworth', 'jeffgoldblum', 'billpullman', 'cusp', 'shy', 'iii', 'passage', 'kill', 'warrior', 'mettle', 'longer', 'wants', 'instead', 'befriends', 'beast', 'names', 'flying', 'gerardbutler', '10', 'saved', 'clear', 'assassin', 'ordered', 'finish', 'adult', 'promised', 'arnoldschwarzenegger', 'clairedanes', 'light', 'abducted', 'discovering', 'chronicles', 'explorers', 'newly', 'discovered', 'vast', 'involved', 'matthewmcconaughey', 'jessicachastain', 'skilled', 'commits', 'corporate', 'targets', 'offered', 'regain', 'task', 'considered', 'idea', 'lossoflover', 'josephgordon', 'levitt', 'ellenpage', 'hit', 'larger', 'tears', 'rag', 'tag', 'volunteers', 'cuts', 'red', 'tape', 'ties', 'foreign', 'greatest', 'eyes', 'quiet', 'swept', 'riddle', 'los', 'angeles', 'street', 'racer', 'suspected', 'big', 'undercover', 'brian', 'sister', 'choose', 'lapd', 'streetgang', 'michellerodriguez', 'benjamin', 'aging', 'bizarre', 'consequences', 'tildaswinton', 'charles', 'took', 'arch', 'working', 'cia', 'nation', 'scale', 'katniss', 'confronts', 'final', 'showdown', 'gale', 'unit', '13', 'stage', 'obsessed', 'destroying', 'mortal', 'traps', 'moral', 'challenge', 'arena', 'hunger', 'games', 'revolution', 'joshhutcherson', 'sorcerer', 'manhattan', 'recruits', 'dave', 'average', 'crash', 'art', 'science', 'magic', 'partners', 'darkness', 'nicolascage', 'cruise', 'traveling', 'atlantic', 'wave', 'begin', 'dramatic', 'kurtrussell', 'richarddreyfuss', 'joshlucas', 'tim', 'mad', 'died', 'amp', 'ambush', 'realm', 'fleeing', 'portal', 'connect', 'worlds', 'opposing', 'sides', 'videogame', 'paulapatton', 'benfoster', 'machines', 'fears', 'unknown', 'warfare', 'cousin', 'painting', 'fantastic', 'simonpegg', 'lifelong', 'friendship', 'danny', 'walker', 'ace', 'fighter', 'entangled', 'nurse', 'johnson', 'rivalry', 'turned', 'devastating', 'pearl', 'harbor', 'history', 'katebeckinsale', 'teenager', 'extraterrestrial', 'transforming', 'heroic', 'clue', 'retrieve', 'persian', 'empire', 'defeating', 'gone', 'colinfarrell', 'valkilmer', 'returning', 'fifth', 'study', 'matters', 'training', 'students', 'dubbed', 'arts', 'fourth', 'tournament', 'ron', 'expert', 'repair', 'image', 'damage', 'miss', 'successful', 'sense', 'purpose', 'jasonbateman', 'scientist', 'unable', 'spread', 'virus', 'daily', 'messages', 'desperate', 'survivors', 'alicebraga', 'wins', 'tour', 'chocolate', 'factory', 'candy', 'londonengland', 'rat', 'dreams', 'chef', 'despite', 'wishes', 'problem', 'beneath', 'restaurant', 'famous', 'apparent', 'visitor', 'kitchen', 'fine', 'passion', 'cooking', 'motion', 'hilarious', 'exciting', 'turns', 'upside', 'driven', 'bruce', 'uncovering', 'underworld', 'liamneeson', 'marty', 'maurice', 'penguins', 'crazy', 'plane', 'benstiller', 'jadapinkettsmith', 'hapless', 'museum', 'night', 'larry', 'breathing', 've', 'institution', 'include', 'close', 'lincoln', 'logan', 'avenge', 'girlfriend', 'lievschreiber', 'zion', 'invasion', 'neo', 'laurencefishburne', 'carrie', 'annemoss', 'anna', 'finding', 'fallen', 'accompanied', 'delivery', 'courage', 'means', 'kristenbell', 'months', 'matrix', 'freed', 'brought', 'speed', 'ability', 'certain', 'pre', 'nasty', 'piece', 'news', 'hits', 'machine', 'digging', 'reach', 'hours', 'prepares', 'source', 'thor', 'cosmos', 'vengeful', 'reunite', 'foster', 'sacrifice', 'natalieportman', 'landscape', 'broken', 'crazed', 'exist', 'rebels', 'run', 'able', 'max', 'words', 'loss', 'path', 'tomhardy', 'harvard', 'evidence', 'underground', 'rome', 'mighty', 'arrogant', 'darkest', 'invade', 'biggest', 'hollywood', 'separated', 'penny', 'beloved', 'owner', 'johntravolta', 'trained', 'mole', 'fly', 'leonard', 'sentenced', 'pet', 'shop', 'samrockwell', 'zeus', 'attempting', 'village', 'fisherman', 'sole', 'parent', 'rages', 'dangerously', 'lack', 'losing', 'imprisoned', 'ferocious', 'brothers', 'ralphfiennes', 'vampire', 'collins', 'changed', '1972', 'estate', 'ruin', 'michellepfeiffer', 'helenabonhamcarter', 'ethan', 'highly', 'committed', 'lawrence', 'visit', 'victorian', 'estranged', 'werewolf', 'savage', 'flesh', 'beniciodeltoro', 'anthonyhopkins', 'barry', 'bee', 'disillusioned', 'lone', 'career', 'making', 'honey', 'trip', 'outside', 'vanessa', 'actually', 'sue', 'renéezellweger', 'po', 'valley', 'alongside', 'fellow', 'kung', 'fu', 'masters', 'furious', 'crane', 'monkey', 'origins', 'succeed', 'martialarts', 'dustinhoffman', 'line', 'aside', 'water', 'air', 'retired', 'hunt', 'sadistic', 'berlin', 'philipseymourhoffman', 'policeman', 'little', 'heavily', 'armed', 'falling', 'country', 'usapresident', 'mom', 'mischievous', 'milo', 'rescue', 'sethgreen', 'joancusack', 'society', 'mouse', 'sid', 'common', 'hang', 'resourceful', 'faithful', 'spike', 'orphanage', '12', 'hook', 'lily', 'rebellious', 'pan', 'dog', 'spring', 'stolen', 'moments', 'clash', 'convinces', 'helen', 'leave', 'husband', 'troy', 'asks', 'sees', 'opportunity', 'ships', 'holding', '50', 'defeated', 'ericbana', 'apple', 'central', 'zoo', 'monte', 'attention', 'animal', 'crashing', 'joined', 'julian', 'europe', 'collection', 'realize', 'want', 'korean', 'dna', 'different', 'identities', 'satellite', 'powered', 'energy', 'piercebrosnan', 'rosamundpike', 'ghost', 'paranormal', 'erin', 'nuclear', 'subway', 'worker', 'melissamccarthy', 'kristenwiig', 'collide', 'nasa', 'dan', 'surface', 'bomb', 'renowned', 'agrees', 'hotshot', 'isn', 'brucewillis', 'billybobthornton', 'kay', 'provide', 'toughest', 'proportions', 'clock', 'convince', 'galaxy', 'raywinstone', 'continuing', 'threats', 'closer', 'bryancranston', 'installment', 'track', 'access', 'russian', 'launch', 'planning', 'strike', 'ends', 'explosion', 'severe', 'bombing', 'jeremyrenner', 'spirit', 'immortal', 'hopes', 'beliefs', 'imagination', 'alecbaldwin', 'judelaw', 'dick', 'loses', 'handle', 'pretty', 'robbing', 'enjoy', 'second', 'thoughts', 'innocent', 'couple', 'hears', 'boss', 'company', 'téaleoni', 'nathan', 'japanese', 'learning', 'respect', 'open', 'trade', 'moses', 'setting', 'slaves', 'terrifying', 'deadly', 'joeledgerton', 'johnturturro', 'bitter', 'rivals', 'thrill', 'farm', 'leonardnimoy', 'genetically', 'nerdy', 'student', 'amazing', 'willemdafoe', 'thrilling', 'chapter', 'races', 'favorite', 'sport', 'pair', 'hundreds', 'wild', 'mythical', 'jessicabiel', 'gritty', 'alternate', '1985', 'glory', 'masked', 'brutally', 'investigation', 'killer', 'reunited', 'doing', 'grave', 'billycrudup', 'carlagugino', 'franchise', 'maverick', 'detectives', 'martin', 'roger', 'square', 'mobster', 'sing', 'slave', 'trading', 'leo', 'smart', 'rookie', 'aim', 'melgibson', 'dannyglover', 'joepesci', 'researcher', 'tragic', 'transform', 'raging', 'angry', 'california', 'jenniferconnelly', 'framed', 'presidential', 'contend', 'depths', 'business', 'underwater', 'buddy', 'doctor', 'stevezahn', 'ross', 'collect', 'mentor', 'hate', 'unleash', 'donaldsutherland', 'ii', 'brooklyn', 'transformed', 'intends', 'device', 'greed', 'terrorism', 'oil', 'heiress', 'notorious', 'submarine', 'supply', 'hanging', 'robertcarlyle', 'royal', 'navy', 'commitment', 'pursuit', 'devoted', 'surgeon', 'paulbettany', 'birth', 'gather', 'robertpattinson', 'taylorlautner', 'penguin', 'dance', 'worse', 'shaken', 'elijahwood', 'robinwilliams', 'pink', 'rage', 'edwardnorton', 'timroth', 'bone', 'nice', 'lucky', 'sophie', 'rebeccahall', 'glass', 'western', 'winning', '500', 'underdog', 'paulgiamatti', 'michaelpeña', 'winds', 'gun', 'dirt', 'courageous', 'waiting', 'play', 'private', 'wind', 'bourne', 'hiding', 'reporter', 'simon', 'operation', 'project', 'newspaper', 'efforts', 'mattdamon', 'juliastiles', 'davidstrathairn', 'lazy', 'chosen', 'trains', 'slacker', 'won', 'easy', 'inner', 'obstacles', 'heist', 'paulrudd', 'michaeldouglas', 'safe', 'annual', 'embarking', 'victor', 'rebellion', 'competition', 'confident', 'promptly', 'relocated', 'manages', 'accidental', 'lot', 'lifetime', 'stevemartin', 'ray', 'divorced', 'perfect', 'ex', 'drop', 'teenage', 'rare', 'weekend', 'storm', 'touches', 'posttraumaticstressdisorder', 'dakotafanning', 'cops', 'miami', 'narcotics', 'cars', 'drug', 'cuba', 'playboy', 'secretly', 'sexy', 'martinlawrence', 'lover', 'outlaw', 'boots', 'tough', 'cat', 'antoniobanderas', 'salmahayek', 'zachgalifianakis', 'loyalty', 'tested', 'skills', 'experience', 'operative', 'elude', 'innocence', 'serve', 'doubt', 'question', 'visions', 'bible', 'intrepid', 'loyal', 'thrust', 'carrying', 'explosive', 'mystery', 'suspects', 'stealing', 'priceless', 'bumbling', 'thompson', 'ahead', 'fortune', 'jamiebell', 'convict', 'northern', 'australia', 'aristocrat', 'inherits', 'ranch', 'stock', 'cattle', 'missionary', 'thousand', 'nova', 'general', 'ready', 'craft', 'lies', 'recover', 'orphaned', 'metro', 'meaning', 'willferrell', 'tinafey', 'potter', 'lived', 'birthday', 'newfound', 'kindly', 'deaths', 'blame', 'recently', 'undead', 'officers', 'kevinbacon', '17th', 'heads', 'rival', 'port', 'governor', 'kidnapped', 'simple', 'exoticisland', 'geoffreyrush', 'famed', 'involving', 'blu', 'jewel', 'kids', 'fit', 'law', 'bird', 'jesseeisenberg', 'lesliemann', 'gifted', 'superheroes', 'anti', 'col', 'william', 'jean', 'scheme', 'patrickstewart', 'opposite', 'mia', 'broke', 'custody', 'authorities', 'backed', 'corner', 'gain', 'freedom', 'brazil', 'large', 'holmes', 'equal', 'conscience', 'advantage', 'lose', 'seize', 'hell', 'battling', 'demons', 'beasts', 'survive', 'accepts', 'construction', 'douglas', 'chip', 'brain', 'virtual', 'reality', 'sharonstone', 'arab', 'aaron', 'experiences', 'previous', 'jason', 'recruit', 'homicidal', 'poison', 'dynamic', 'doublelife', 'donnell', 'creature', 'steal', 'equally', 'cindy', 'lou', 'hall', 'trapped', 'overwhelmed', 'start', 'computer', 'spain', 'unleashing', 'accept', 'plunges', 'thandienewton', 'weather', 'conditions', 'combined', 'fishing', 'boat', 'minute', 'details', 'dianelane', 'screen', 'surfer', 'pose', 'jessicaalba', 'adrift', 'pacific', 'stunt', 'johnny', 'sells', 'soul', 'parts', 'simpson', 'getting', 'offers', 'release', 'evamendes', 'wesbentley', 'truths', 'angels', 'charged', 'missing', 'members', 'witness', 'protection', 'ladies', 'responsible', 'robbery', 'drewbarrymore', 'lucyliu', 'corners', 'android', 'guypearce', 'stuart', 'adorable', 'happily', 'east', 'store', 'michaelj', 'fox', 'geenadavis', 'classes', 'wealthy', 'secretary', 'hard', 'laws', 'lifestyle', 'matt', 'damon', 'jodiefoster', 'bounty', 'hunters', 'riddick', 'champion', 'used', 'forbidden', 'enforcement', 'controversial', 'loving', 'detroit', 'injured', 'cyborg', 'michaelkeaton', 'brilliant', 'driver', 'inspired', 'emilehirsch', 'christinaricci', 'cut', 'bit', 'lisa', 'baseball', 'playing', 'lovetriangle', 'fugitive', 'glamorous', 'amid', 'decades', 'stranger', 'arrival', 'chain', 'knows', 'morganfreeman', 'clone', 'wars', 'noble', 'jedi', 'wide', 'republic', 'galactic', 'anakin', 'skywalker', 'apprentice', 'offspring', 'twin', 'grow', 'haydenchristensen', 'leadership', 'renegade', 'count', 'thousands', 'threaten', 'break', 'senator', 'movement', 'sullivan', 'earn', 'afraid', 'tests', 'emotional', 'limits', 'changing', 'famkejanssen', 'strong', 'prehistoric', 'destroyed', 'olympic', 'marry', 'trick', 'rid', 'julius', 'process', 'ho', 'indians', 'language', 'code', 'sisters', 'eric', 'sara', 'shredder', 'grip', 'politicians', 'grim', 'turtles', 'fearless', 'cameraman', 'unravel', 'diabolical', 'willarnett', 'ryan', 'medical', 'shuttle', 'veteran', 'astronaut', 'command', 'flight', 'routine', 'completely', 'link', 'panic', 'sandrabullock', 'edharris', 'sleepy', 'recent', 'worst', 'mayor', 'townspeople', 'nightmare', 'helicopter', 'facing', 'similar', 'intentions', 'abilities', 'katemara', 'michaelb', 'natural', 'desperately', 'deranged', 'media', 'farmer', 'rebel', 'reunites', 'flame', 'thieves', 'huge', 'hot', 'catherinezeta', 'bliss', 'stuck', 'unbeknownst', 'paid', 'mix', 'wicked', 'vincevaughn', 'alliance', 'tear', 'shailenewoodley', 'biopic', 'filmmaker', 'howard', 'hughes', 'magnate', 'obsessive', 'compulsive', 'disorder', 'tiny', 'journalist', 'seth', 'largest', 'spoiled', 'happy', 'tom', 'dies', 'employee', 'realizing', 'talent', 'fighters', 'frank', 'miller', 'graphic', 'style', '300', 'saga', 'fresh', 'greek', 'greece', 'pits', 'commander', 'lenaheadey', 'chases', 'blue', 'fact', 'greedy', 'schemes', 'possession', 'heaven', 'determined', 'sky', 'match', 'wits', 'venture', 'near', 'rebuild', 'spell', 'kidnaps', 'patrick', 'grace', 'card', 'mcclane', 'calls', 'services', 'hacker', 'bid', 'internet', 'terrorists', 'intent', 'justinlong', 'timothyolyphant', 'creator', 'formed', 'destination', 'bet', 'circle', '1964', 'pro', 'boxer', 'victory', 'explodes', 'scene', 'clay', 'bold', 'entirely', 'african', 'americans', 'confidence', 'belief', 'ali', 'jonvoight', 'conrad', 'sally', 'fish', 'walks', 'door', 'introduces', 'fun', 'hand', 'suspecting', 'bloody', 'holy', 'jeremyirons', 'misadventures', 'searching', 'waitress', 'fulfill', 'mark', 'presumed', 'fierce', 'survived', 'stranded', 'draw', 'resident', 'facility', 'environment', 'location', 'porter', 'architect', 'crossroads', 'twists', 'ellie', 'longtime', 'griffin', 'direction', 'dianekeaton', 'goldiehawn', 'retirement', 'randall', 'pals', 'accomplish', 'countless', 'excitement', 'builds', 'giovanniribisi', 'throws', 'roman', 'generals', 'devious', 'executed', 'gladiator', 'amusement', 'audiences', 'laid', 'waste', 'fame', 'skill', 'joaquinphoenix', 'connienielsen', '21st', 'murder', 'ignoring', 'attacks', 'le', 'banker', 'poker', 'establish', 'financial', 'market', 'italy', 'landing', 'evade', 'sarah', 'targeted', 'send', 'depression', 'era', 'bank', 'robber', 'charm', 'edgar', 'fledgling', 'fbi', 'elusive', 'number', 'melvin', 'bringing', 'cinema', 'employer', 'lucas', 'heroin', 'harlem', 'south', 'asia', 'drugs', 'denzelwashington', 'kept', 'jamieleecurtis', 'ransom', 'walter', 'pam', 'greg', 'cash', 'dad', 'suspicions', 'male', 'descends', 'twins', 'skeptical', 'robertdeniro', 'nypd', 'christopher', 'don', 'sit', 'allen', 'terry', 'background', 'focus', 'closed', 'stumble', 'case', 'touch', 'marshall', 'uncovered', 'selling', 'groups', 'guard', 'jamescaan', 'german', 'hunter', 'brutal', 'mississippi', 'bountyhunter', 'ventures', 'festival', 'cruel', 'rescued', 'gypsy', 'demimoore', 'centered', 'tell', 'room', 'summer', 'davidspade', 'church', 'territory', 'airplane', 'sylvesterstallone', 'jasonstatham', 'dolphlundgren', 'gates', 'rumored', 'revolutionary', 'independence', 'dianekruger', 'egg', 'siennaguillory', 'sailing', 'ira', 'carol', 'crown', 'catherinekeener', 'amandaseyfried', 'tourist', 'venice', 'eye', 'remake', 'anthony', 'written', 'directed', '1999', 'devil', 'body', 'bride', 'christine', 'christianity', 'gabrielbyrne', 'kevinpollak', 'mercenary', 'recovering', 'diamond', 'value', 'rescuing', 'torture', 'refuses', 'fraud', 'mob', 'jonahhill', 'caused', 'accident', 'disfigured', 'edward', 'millionaire', 'ward', 'exploits', 'non', 'deniserichards', 'stories', '19th', 'distant', 'impact', 'single', 'inspire', 'award', 'david', 'mitchell', 'jimbroadbent', 'owl', 'st', 'soldiers', 'assist', 'created', 'books', 'mild', 'mannered', 'resurrected', 'eager', 'say', 'tail', 'benjaminbratt', 'fourteen', 'ago', 'tormented', 'received', 'souls', 'presence', 'mercenaries', 'bunch', 'opened', 'johnhurt', 'cabin', 'hawkins', 'cook', 'teaches', 'expedition', 'research', 'assistant', 'dannymcbride', 'barney', 'trader', 'faster', 'extreme', 'sports', 'point', 'aspiring', 'raising', 'baby', 'whale', 'size', 'harrowing', 'surviving', 'pushed', 'unthinkable', 'despair', 'searches', 'mate', 'cillianmurphy', 'nightclub', 'trouble', 'sell', 'club', 'gangster', 'helping', 'rosariodawson', 'occupation', '2003', 'chief', 'roy', 'site', 'chemical', 'elaborate', 'cover', 'gregkinnear', 'brown', 'corporation', 'dialogue', 'unfortunately', 'kidnapping', 'psychotic', 'kingpin', 'earlier', 'area', 'danielday', 'refuge', 'rape', 'posing', 'priest', 'cody', 'idol', 'talents', 'surf', 'animated', 'produced', 'pictures', 'studios', 'stars', 'voices', 'jeff', 'jon', 'zooeydeschanel', 'ask', 'matthewbroderick', 'bettemidler', 'kidnap', 'shot', 'suffer', 'heavy', 'intense', 'ground', 'jasonisaacs', 'election', 'carolina', 'politics', 'taxi', 'given', 'charlotte', 'miranda', 'married', 'sun', 'samantha', 'vacation', 'retreat', 'remember', 'decided', 'sarahjessicaparker', 'failed', 'el', 'surprise', 'worth', 'diego', 'continent', 'pirates', 'johnleguizamo', 'unexpectedly', 'passes', 'ella', 'mercy', 'stepmother', 'daughters', 'meeting', 'dashing', 'woods', '14', 'watches', 'grief', 'desire', 'susansarandon', 'dentist', 'office', 'friendly', 'sharks', 'dude', 'hungry', 'kings', 'viggomortensen', 'local', 'witches', 'manner', 'carry', 'couldn', 'juliannemoore', 'lara', 'moonlights', 'powell', 'goal', 'funds', 'alan', 'money', 'amanda', 'infamous', 'breaks', 'loose', 'host', 'samneill', 'williamh', 'macy', 'alzheimer', 'slowly', 'consumed', 'feels', 'especially', 'johnlithgow', 'moving', 'brothersisterrelationship', 'nicknolte', 'prisoners', 'moscow', 'methods', 'mexican', 'santa', 'bob', 'insurance', 'raise', 'receives', 'secretidentity', 'nelson', 'adams', 'murderous', 'difficult', 'franklangella', 'needed', 'loganlerman', 'established', 'arrived', 'assassinate', 'typical', 'cowboy', 'camp', 'shift', 'toy', 'collector', 'al', 'mount', 'truly', 'belong', 'toxic', 'pennsylvania', 'million', 'hong', 'meet', 'complicated', 'boys', 'threatening', 'situations', 'duringcreditsstinger', 'zhangziyi', 'claire', 'spencer', 'hearing', 'seeing', 'wonders', 'telling', 'flint', 'rain', 'food', 'billhader', 'annafaris', 'times', 'motor', 'mouthed', 'neighbors', 'denisleary', 'timid', 'magazine', 'photo', 'manager', 'tv', 'dylan', 'natalie', 'traffic', 'kick', 'butt', 'differences', 'humor', 'martial', 'boston', 'irish', 'mafia', 'infiltrate', 'jacknicholson', 'imperial', 'li', 'vietnam', 'budget', 'studio', 'executive', 'filming', 'advice', 'actors', 'scenes', 'production', 'gangs', 'filmmaking', 'disgraced', 'patriarch', 'niece', '40', 'punk', 'civilian', 'demands', 'rachelmcadams', 'accused', 'survives', 'slavery', 'board', 'mysteries', 'theodore', 'jasonlee', 'wounded', 'nazi', 'native', 'germany', 'create', 'shadow', 'unfold', 'player', 'tasked', 'israeli', 'ambition', 'runs', 'll', 'adamsandler', 'experts', '1980s', 'michellemonaghan', 'adopted', 'gradually', 'circumstances', 'belongs', 'haleyjoelosment', 'workaholic', 'evers', 'mansion', 'arrive', 'butler', 'fiction', 'decisions', 'jameswoods', 'cocky', 'sebastian', 'invisible', 'formula', 'eventually', 'drives', 'results', 'elisabethshue', 'seanpenn', 'box', 'woodyharrelson', 'emma', 'outwit', 'bishop', 'prisoner', 'robertredford', 'launched', 'garysinise', 'timrobbins', 'minnesota', 'linda', 'word', 'female', 'richard', 'product', 'andrew', 'youngest', 'perform', 'creative', 'la', 'emergency', 'amy', 'frankie', 'deadliest', 'buy', 'russia', 'conan', 'massacre', 'pain', 'released', 'hills', 'comeback', 'socially', 'poor', 'transporter', 'doll', 'chriscooper', 'sign', 'divorce', 'melissa', 'nature', 'extremely', 'wifehusbandrelationship', 'helenhunt', 'billpaxton', 'caryelwes', 'chuck', 'kelly', 'heading', 'aircraft', 'mates', 'song', 'brittanymurphy', 'documents', 'seaside', 'marie', 'conspire', 'glennclose', '24', 'charismatic', '150', 'las', 'vegas', 'risks', 'tess', 'luck', 'double', 'millajovovich', 'dracula', 'resort', 'aged', 'musical', 'shocked', 'chaotic', 'badly', 'fall', 'lawyer', 'fairy', 'view', 'jamesmarsden', 'verafarmiga', 'outrageous', 'oddball', 'scheming', 'staff', 'workers', 'amateur', 'petty', 'crook', 'caseyaffleck', 'kate', 'britain', 'homes', 'dean', 'victim', 'theft', 'national', 'genehackman', 'jake', 'merylstreep', 'criminals', 'vows', 'asking', 'season', 'rely', 'elliot', 'fast', 'ashtonkutcher', 'divided', 'personality', 'jacques', 'russians', 'germans', 'disappears', 'affections', 'brazilian', 'seannwilliamscott', 'fictional', 'character', 'romantic', 'maid', 'jail', 'sentence', 'sean', 'tokyo', 'low', 'section', 'sungkang', 'receive', 'arthur', 'misfit', 'dawn', 'billnighy', 'reaper', 'parrish', 'agenda', 'lifeanddeath', 'claireforlani', 'wolf', 'eliaskoteas', 'semi', 'autobiographical', 'directors', 'theatre', 'feel', 'spends', 'seven', 'launches', 'juliaroberts', 'canadian', '23', 'date', 'michaelcera', 'rapidly', 'literally', 'resolve', 'hilaryswank', 'sherman', 'specialist', 'seriously', 'separate', 'knowing', 'invited', 'freddieprinzejr', 'sarahmichellegellar', 'matthewlillard', 'ma', 'prostitute', 'possibility', 'stopping', 'urban', 'judge', 'jury', 'deliver', 'brand', 'ranking', 'popular', 'remote', 'allows', 'forward', 'complications', 'arise', 'christopherwalken', '1950s', 'stephen', 'tales', 'horror', 'canine', 'christinaapplegate', 'uncanny', 'instantly', 'bloodthirsty', 'adolescence', 'demon', 'pact', 'ronperlman', 'selmablair', 'serial', 'bay', 'letters', 'built', 'endless', 'television', 'jenniferaniston', 'scout', 'opposition', 'crack', 'suspect', 'event', 'pitted', 'prepared', 'sharp', 'drunken', 'watching', 'thailand', 'stu', 'bachelor', 'planned', 'bradleycooper', 'accepted', 'crooked', 'building', 'dannydevito', 'mismatched', 'suburban', 'lesson', 'lonely', 'older', 'watch', 'social', 'adopts', 'funny', 'wacky', 'sistersisterrelationship', 'scared', 'dinner', 'table', 'hatches', 'happen', 'mile', 'rock', 'robertduvall', 'coach', 'asked', 'inmates', 'guards', 'football', 'chrisrock', 'tropical', 'paradise', 'deserted', 'ups', 'adam', 'grew', 'ones', 'lessons', 'surprises', 'kevinjames', 'analyst', 'dancing', 'music', 'industry', 'marshal', 'daniels', 'patient', 'hospital', 'insane', 'brad', 'families', 'bust', 'airport', 'pride', 'better', 'joanallen', 'nephew', 'fantasies', 'actual', 'views', 'jenniferjasonleigh', 'schoolteacher', 'beach', 'airborne', 'bag', 'creepy', 'jerry', 'rachel', 'strangers', 'happening', 'ruby', 'minded', 'sweetheart', 'invites', 'vance', 'luke', 'isolated', 'hill', 'sleep', 'unfortunate', 'guests', 'interested', 'basketball', 'michael', 'france', 'soccer', 'jeanreno', 'went', 'environmental', 'speaking', 'kathybates', 'european', 'theater', 'sergeant', 'division', 'tank', 'worldwarii', 'transfer', 'fashion', 'editor', 'crashes', 'shut', 'closing', 'danaykroyd', 'justintimberlake', 'teach', 'williamhurt', 'raymond', 'commanding', 'incident', 'capital', 'vice', 'haunted', 'happened', 'didn', 'questions', 'possible', 'appear', 'sight', 'hotel', 'cool', 'adds', 'hoping', 'jill', 'saw', 'cares', 'hara', 'account', 'necessary', 'enter', 'stanley', 'femalenudity', 'cruelty', 'elena', 'comfort', 'county', 'chris', 'annie', 'cubagoodingjr', 'sons', 'nicky', 'patriciaarquette', 'harveykeitel', 'artists', 'performing', 'exorcisms', 'beings', 'mean', 'films', '60s', 'annettebening', 'housing', 'julie', 'photographer', 'elements', 'stalking', 'affair', 'murders', 'radhamitchell', 'missile', 'soviet', 'allied', 'kennedy', 'brucegreenwood', 'robbers', 'jersey', 'kit', 'collapses', 'walking', 'documentary', 'profit', 'tyler', 'forestwhitaker', 'bunny', 'duck', 'tired', 'contract', 'dj', 'escort', 'struggling', 'week', 'shooting', 'inspiration', 'mistress', 'shakespeare', 'willpatton', 'oliviawilliams', 'babe', 'contest', 'vicious', 'cursed', 'tracking', 'astronauts', 'grandfather', 'grandmother', 'block', 'unless', 'pay', 'success', 'helped', 'filmed', 'sub', 'disastrous', 'merchant', 'erupts', 'hearts', 'legacy', 'prize', 'graduate', 'teaching', 'romantically', 'breaking', 'paranoid', 'mental', 'status', 'wait', 'title', 'anderson', 'boyfriend', 'advertising', 'thanksgiving', 'katieholmes', 'alpacino', 'dirty', 'shady', 'monica', 'philosophy', 'psychologist', 'epidemic', 'transforms', 'jeremynortham', 'renerusso', 'piperperabo', 'duke', 'stray', 'kevinhart', 'cunning', 'seanconnery', 'league', 'july', 'cities', 'fails', 'plant', 'ran', 'malcolm', 'revealing', 'document', 'behavior', 'populated', 'roles', 'activist', 'pregnant', 'cliveowen', 'academy', 'wesley', '100', 'marines', 'gas', 'sanfrancisco', 'starting', 'situation', 'henry', 'quirky', 'total', 'short', 'term', 'woo', 'robschneider', 'tracy', 'audition', 'wwii', 'convinced', 'violently', 'troops', 'somebody', 'stellanskarsgård', 'performances', 'reward', 'mariabello', 'recognizes', 'lounge', 'simply', 'courts', '16', 'quick', 'thinking', 'adoption', 'emmaroberts', 'austin', 'highest', 'base', 'dealings', 'afghanistan', 'unforeseen', 'aspirations', 'shark', 'robinson', 'pop', 'singers', 'early', 'umathurman', 'ciaránhinds', 'seal', 'follow', 'fiercely', 'doctors', 'physician', 'katherineheigl', 'upset', 'union', 'solo', 'kgb', 'immigrant', 'tensions', 'terms', 'upperclass', 'bed', 'scary', 'teens', 'frightening', 'timeless', 'passionate', 'period', 'richardgere', 'widowed', 'teacher', 'chowyun', 'fat', 'rampage', 'mickeyrourke', 'accountant', 'beat', 'guilt', 'harrison', 'ford', 'actor', 'instructor', 'solve', 'rapmusic', 'todd', 'dumped', 'eliminate', 'colony', 'attractive', 'roads', 'soundtrack', 'mexico', 'horrifying', 'repressed', 'miley', 'coma', 'pulls', 'ditch', 'answer', 'price', 'robinwright', 'abusive', 'stepfather', 'alternative', 'jenamalone', 'homicide', 'witnesses', 'boxing', 'blind', 'volatile', 'visited', 'finn', 'katehudson', 'delivers', 'stunning', 'comedian', 'jennifergarner', 'cal', 'earned', 'stripes', 'shake', 'records', 'floor', 'plays', 'matter', 'cheating', 'mistaken', 'talented', 'jimmy', 'bly', 'promoter', 'chilling', 'possessed', 'fields', 'suggests', 'tension', 'cup', 'seasoned', 'paulnewman', 'writes', 'bar', 'maggie', 'flees', 'moment', 'females', 'subject', 'smalltown', 'attitude', 'exactly', 'sandy', 'rich', 'occupied', 'jewish', 'nazis', 'wasn', 'supposed', 'did', 'cost', 'granny', 'capt', 'steven', 'deke', 'various', 'wealth', 'looks', 'gorgeous', 'sofia', 'amnesia', 'apartment', 'pool', 'hunting', 'predator', 'stardom', '25', 'singing', 'sparks', 'fought', 'vietnamveteran', 'bigger', 'whitehouse', 'angelabassett', 'picard', 'expected', 'unlike', 'passions', 'picture', 'adultery', 'jamesspader', 'albert', 'joey', 'sold', 'artistic', 'owners', 'michaelbiehn', 'economy', 'preparing', 'countryside', 'davidthewlis', 'auto', 'firm', 'winonaryder', 'response', 'murderer', 'member', 'sophisticated', 'catch', 'arnold', 'dealers', 'budapest', 'stephenrea', 'michaelealy', 'strip', 'senior', 'giving', 'court', 'nearby', 'unwitting', 'hart', 'blackpeople', 'starring', 'rebecca', 'opening', 'jonathan', 'moves', 'instant', 'superstar', 'chrisklein', 'victims', 'lossoffamily', 'christian', 'christianslater', 'dorothy', 'wakes', 'chicago', 'polly', 'prominent', 'novelist', 'yard', 'psychiatrist', 'seductive', 'malenudity', 'bars', 'jimcaviezel', 'lust', 'overthrow', 'tyrannical', 'desires', 'succeeds', 'officials', 'seattle', 'ravaged', 'string', 'killings', 'midst', 'jacob', 'decision', 'approaching', 'confronted', 'gotten', 'kid', 'marlonbrando', 'jasonsegel', 'wesleysnipes', 'jenniferlopez', 'ted', 'historical', 'concerning', 'oscarisaac', 'frankenstein', 'aren', 'fred', 'signs', 'approach', 'expectations', '60', 'coast', 'ed', 'miles', 'markstrong', 'guest', 'attending', 'spiral', 'possibly', 'fiancee', 'crush', 'vampires', 'anthonymackie', 'files', 'cases', 'shadowy', 'davidduchovny', 'colinfirth', 'revolves', 'illegal', 'hear', 'promotion', 'darcy', 'marisatomei', 'maine', 'harbors', 'overcome', 'thomasjane', 'focuses', 'pursues', 'critical', 'generations', '1971', '200', 'calvin', 'gig', 'independent', 'megryan', 'dale', 'jealous', 'competitive', 'constant', 'spanish', 'troubled', 'foil', 'list', 'chronicle', 'louis', 'runner', 'blackmail', 'clinteastwood', 'utah', 'reconcile', 'emilymortimer', 'katherine', 'ann', 'conservative', 'sexual', 'attends', 'knock', 'changes', 'nosed', 'candidate', 'guardian', 'angel', 'rosebyrne', 'jess', 'wing', 'dating', 'blade', 'kriskristofferson', 'mid', 'colorado', 'leathompson', 'campaign', 'politician', 'emmathompson', 'eating', 'operations', 'outbreak', 'terminal', 'audience', 'violence', 'hires', 'davidmorse', 'boring', 'daxshepard', 'salesman', 'therapy', 'catches', 'clubs', 'claims', 'fans', 'players', 'americanfootball', 'spend', 'vatican', 'andiemacdowell', 'celebrity', 'ball', 'drawing', 'numbers', 'rough', 'lisakudrow', 'creation', 'oliver', 'dickens', 'hire', 'dutch', 'van', 'infidelity', 'kristinscottthomas', 'surrounding', 'inspiring', '70s', 'villains', 'grieving', 'featuring', 'intricate', 'gunslinger', 'cartel', 'unfolds', 'chased', 'dress', 'adopt', 'kerrywashington', 'wade', 'rumors', 'hockey', 'rob', 'elvis', 'convention', 'courteneycox', 'shelter', 'deception', 'scandal', 'roll', 'loosely', 'said', 'florida', 'teripolo', 'plenty', 'row', 'gentle', 'possesses', 'execution', 'southernusa', 'bikers', 'sanity', 'chicken', 'spotlight', 'campbell', 'georgia', 'joseph', 'hour', 'color', 'opera', 'lauralinney', 'jobs', 'inspires', 'dea', 'dogs', 'cats', 'flies', 'crossed', 'metal', 'dedicated', 'willed', 'guidance', 'legal', 'june', 'hughgrant', 'neurotic', 'signing', 'march', 'woodyallen', 'couples', 'descend', 'problems', 'cole', 'eugenelevy', 'desolate', 'brien', 'confused', 'pleasure', 'paced', 'gunman', 'helenmirren', 'quarterback', 'replace', 'performance', 'nicholas', 'presents', 'peasant', 'exact', 'strives', 'baltimore', 'arrest', 'says', 'report', 'bargained', 'interviews', 'footage', 'kills', 'musician', 'mixed', 'anthonyanderson', 'neglected', 'parallel', 'everybody', 'lure', 'elliott', 'moore', 'betty', 'tree', 'bodyguard', 'uptight', 'ken', 'informant', 'constantly', 'raid', 'jan', 'cynical', 'potentially', 'willing', 'clients', 'norman', 'speak', 'ritual', 'companions', 'mcphee', 'deputy', 'sensitive', 'network', 'raw', 'warren', 'clark', 'jenniferlovehewitt', 'passenger', 'blow', 'stevenseagal', 'minister', 'funeral', 'ripley', 'owens', 'gary', 'suspicious', 'girls', 'corpse', 'evanrachelwood', 'mistakenly', 'elizabethbanks', 'pageant', 'overnight', 'winner', 'stan', 'reginaking', 'mickey', 'guns', 'goons', 'ryangosling', 'mandela', 'believing', 'historic', 'serves', 'upcoming', 'engaged', 'fired', 'jeffdaniels', 'darylhannah', 'kiefersutherland', '1950', 'honeymoon', 'beverly', 'failing', 'disturbing', 'containing', 'gruesome', 'naturally', 'inherited', 'stress', 'homeless', 'article', 'paper', 'alcoholic', 'golf', 'interview', 'sidekick', 'alike', 'record', 'icecube', 'sailor', 'disappeared', 'patients', '1940s', 'actress', 'pornography', 'jamesgandolfini', '17', 'williams', 'currently', 'occurrences', 'bedroom', 'clerk', 'camera', 'contain', 'acts', 'rayliotta', 'turbulent', 'support', 'appointed', 'battalion', '30', 'subjected', 'experiment', 'hunts', 'religious', 'kellypreston', 'saves', 'iraq', 'author', 'imaginary', 'madison', 'vanishes', 'cutthroat', 'johnkrasinski', 'wyoming', 'trap', 'childabuse', 'harder', 'monk', 'italian', 'handed', 'deceased', 'hometown', 'johnnyknoxville', 'songwriter', 'vision', 'juan', 'client', 'fail', 'tabloid', 'relationships', 'rules', 'thomashadenchurch', 'michelle', 'sick', 'prompting', 'throw', 'jasonbiggs', '2009', 'alabama', 'phil', 'ghosts', 'afterlife', 'therapist', 'kat', 'stretch', 'halloween', 'mccall', 'ultra', 'gangsters', 'chloëgracemoretz', 'fateful', 'mistakes', 'evening', 'issues', 'stages', 'credit', 'includes', 'diva', 'shoot', 'heathergraham', 'tried', 'visits', 'ernest', 'breakdown', 'mere', 'jealousy', 'wang', 'nevada', 'demanding', 'kurt', 'assault', 'clueless', 'roommates', 'michaelangarano', 'irreverent', 'madonna', 'sought', 'sir', 'railroad', 'expects', 'tomwilkinson', 'offer', 'bears', 'neighborhood', 'maybe', 'trial', 'abused', 'martha', 'vineyard', 'walt', 'fastest', 'cher', 'surprisingly', 'sex', 'jackie', 'michigan', '1976', 'nba', 'somewhat', 'seas', 'asylum', 'fan', 'singer', 'terrorizing', 'patrickwilson', 'jonnyleemiller', 'convicts', 'terrorize', 'kermit', 'hood', 'dancer', 'spot', 'voice', 'attraction', 'official', 'wounds', 'attracted', 'culture', 'boarding', 'drinking', 'nightmarish', 'respective', 'hitman', '1979', 'corleone', 'forgiveness', 'andygarcía', 'drew', 'dollars', 'ending', 'standing', 'molly', 'frustrated', 'roommate', 'mattdillon', 'federal', 'louisiana', 'penn', 'bail', 'influence', 'maria', 'christopherlloyd', 'celebration', 'parisian', '20th', 'poet', 'ryanphillippe', 'jessebradford', 'killers', 'length', 'feature', 'movies', 'fake', 'ohio', 'roof', 'songs', 'singleparent', 'grade', 'seniors', 'flower', 'jesse', 'keeps', 'antics', 'mitch', 'bodies', 'gambling', 'minor', 'jonathanrhysmeyers', 'multiple', 'aggressive', 'personalities', 'schizophrenia', 'reeling', 'destined', 'villagers', 'doubts', 'bennett', 'gay', 'think', 'journalism', 'deeds', 'zombie', 'exposes', 'biography', 'write', 'matthew', 'highschool', 'jump', 'celebrate', 'welcome', 'keeper', 'fascinated', 'nun', 'emily', 'vet', 'billy', 'spreading', 'river', 'possess', 'yellow', 'lindsaylohan', 'demand', 'traumatic', 'taste', 'hansel', 'connie', 'sci', 'fi', 'passing', 'eastern', 'tense', 'numerous', 'virginiamadsen', 'occurs', 'silent', 'illness', 'psychiatric', 'variety', 'reunion', 'hasn', 'bonds', 'virginity', 'heather', 'finch', 'adults', 'insists', 'affairs', 'unpredictable', 'foley', 'lovable', 'develop', 'colonel', 'respected', 'suspicion', 'alaska', 'solitary', 'hippie', 'harris', 'merciless', 'waits', 'finished', 'explain', 'grisly', 'roots', 'katie', 'forms', 'il', 'du', 'witted', 'hyun', 'seo', 'nam', 'drunk', 'object', 'receiving', 'severely', 'anjelicahuston', 'guilty', 'steals', 'snake', 'prejudices', 'murray', 'murdering', 'vincentcassel', 'diving', 'fayedunaway', 'misguided', 'sweet', 'reverend', 'convicted', 'valerie', 'sale', 'model', 'chazzpalminteri', 'online', 'lena', 'approaches', 'replaced', 'unsuspecting', 'derek', 'developer', 'sending', 'harold', 'cult', 'amberheard', 'august', '1967', 'perspectives', 'cocaine', 'sheltered', 'arrested', 'indiana', 'affluent', 'aarontaylor', 'injury', 'queenlatifah', 'junior', 'nicole', 'driving', 'tycoon', 'whoopigoldberg', 'marymccormack', 'showing', 'jazz', 'mills', 'shattered', 'pursued', 'employs', 'smooth', 'karen', 'sly', 'entertaining', 'initially', 'fend', '1965', 'addicted', 'tactics', 'residents', 'servant', 'platonic', 'neal', 'dermotmulroney', 'megan', 'employees', 'letter', 'guide', 'julieandrews', 'shoots', 'controlling', 'mounts', 'policebrutality', 'ethanhawke', 'scottglenn', 'ailing', 'regime', 'comedic', 'puppet', 'pregnancy', 'gave', 'combination', 'stephendorff', 'academic', 'reckless', 'ugly', 'customers', 'intertwine', 'ned', 'widower', 'bureaucracy', 'weird', 'diagnosed', 'pot', 'phone', 'kidnappers', 'kimbasinger', 'spoof', 'bully', 'connecticut', 'package', 'horrible', 'linked', 'involves', 'doug', 'pressures', 'laura', 'jennifer', 'lake', 'ashley', 'roberts', 'broadway', 'border', 'destructive', 'remain', 'miracle', 'derekluke', 'unhappy', 'housewife', 'flash', 'charliesheen', 'supermarket', 'hilaryduff', 'alanarkin', 'samuel', 'boyd', 'stewart', 'sexually', 'jungles', 'thug', 'talk', 'mobsters', 'abroad', 'poverty', 'immigrants', 'connected', 'competing', 'montana', 'unorthodox', 'jamal', 'writing', 'scholarship', 'treatment', 'alcohol', 'addiction', 'bobhoskins', 'girlfriends', 'promising', 'totally', 'figures', 'classmate', 'zacefron', 'strict', 'ended', 'brielarson', '2000', 'hopelessly', 'mrs', 'mirandarichardson', 'timothyspall', 'straight', 'laced', 'foul', 'wildly', 'buddies', 'triumphs', 'taylor', 'latin', 'unconventional', 'ashleyjudd', 'barbara', 'solomon', 'pick', 'naive', 'edwardburns', 'dennishopper', 'jaredleto', 'unemployed', 'kim', 'hide', 'pete', 'racial', 'hip', 'hop', 'tribe', 'fathers', 'poetry', 'shannynsossamon', 'fatal', 'psychological', 'tonicollette', 'daniel', 'adolescent', 'pushes', 'thanks', '1955', 'skateboarding', 'campus', 'ana', 'carmen', 'alexapenavega', 'communication', 'hauntedhouse', 'davidarquette', 'nevecampbell', 'fund', 'month', 'julia', 'wrote', 'signed', 'davis', 'trainer', 'colleagues', 'calling', 'circuit', 'dates', 'orleans', 'nanny', 'nialong', 'mutual', 'francis', 'concert', 'motley', 'higher', 'valuable', 'persuade', 'painful', 'stalked', 'hannah', '1960s', 'uprising', 'cancer', 'extra', 'macaulayculkin', 'sidney', 'streetwise', '1960', 'composer', 'forget', 'particularly', 'favors', 'announces', 'rights', 'shares', 'nancy', 'catherinedeneuve', 'faith', 'zoe', 'engaging', 'round', 'vincent', 'biker', 'retelling', 'jasonschwartzman', 'ronnie', 'rachaelleighcook', 'knit', 'followed', 'pawns', 'sharing', 'psychic', 'freak', 'cope', 'chevychase', 'brief', 'adapted', 'regular', 'agree', 'claudevandamme', 'designer', 'sights', 'ideas', 'experienced', 'scam', 'screenwriter', 'shyness', 'bout', 'celebrated', 'performer', 'domestic', 'maya', 'humiliated', 'dealing', 'gene', 'emotionally', 'dennis', 'lights', 'freddie', 'religion', 'truck', 'chad', 'reclusive', 'reading', 'abigailbreslin', 'biographical', 'farewell', 'dolphin', 'lukewilson', 'companion', 'botched', 'colin', 'exorcism', 'condition', 'locate', 'remarkable', 'countries', 'entity', 'williamshatner', 'deforestkelley', 'smoking', 'juliettebinoche', 'shotgun', 'diner', 'sexuality', 'michaelmadsen', 'apparently', 'krueger', 'claiming', 'vincentd', 'onofrio', 'philippe', 'mentally', 'jamie', 'add', 'patriciaclarkson', 'sorority', 'fraternity', 'thirty', 'weeks', 'protest', 'feud', 'michaelsheen', 'diane', 'odd', 'drink', 'medieval', 'misfits', 'jesus', 'amysmart', 'tylerperry', 'bus', 'motorcycle', 'portrait', 'finale', 'catholic', 'trauma', 'alfredmolina', 'wood', 'overcomes', 'genre', 'sarapaxton', 'leslienielsen', 'bike', 'oregon', 'australian', 'baron', 'victoria', 'harriet', 'harsh', 'jigsaw', '1974', 'danish', 'haunt', 'omar', 'muslim', 'viewers', 'amidst', 'missouri', 'idealistic', 'economic', 'ellenburstyn', 'notices', 'rural', 'communist', 'operating', 'owned', 'magician', 'joel', 'intended', 'frozen', 'acting', 'sudden', 'pack', 'paige', 'stevens', 'glenn', 'commercial', 'rogermoore', 'hopedavis', 'disappear', 'drag', 'haunting', 'tortured', 'slum', 'wearing', 'multi', 'brewing', 'lovesickness', 'rugrats', 'dil', 'talks', 'aidanquinn', 'annakendrick', 'dumps', 'vow', 'justin', 'cooper', 'judygreer', 'pays', 'shoes', 'morrischestnut', 'frankiemuniz', 'commit', 'gaelgarcíabernal', 'yakuza', 'deeper', 'emilywatson', 'values', 'loan', 'doorstep', 'dancers', 'freshman', 'cultural', 'jamesremar', 'prom', 'pierre', 'detention', 'esteem', 'winnie', 'classmates', 'principal', 'musicians', 'jenny', 'demonic', 'dwindling', 'infected', 'miner', '18', 'touching', 'gambler', 'tina', 'wrestling', 'disturbed', 'easily', 'secure', 'cameras', 'perry', 'debut', 'palace', 'beats', 'compton', 'meant', 'prestigious', 'camping', 'motel', '1980', 'brooks', 'prejudice', 'studies', 'kathleenturner', 'patrol', 'smuggling', 'parentskidsrelationship', 'entertainer', 'alexisbledel', 'warden', 'crocodile', 'horrors', 'considers', 'jessica', 'independentfilm', 'jews', 'worked', 'mall', 'likes', 'virgin', 'romeo', 'stoner', 'lawman', 'allowing', 'netherlands', 'achieve', 'supervisor', 'mayhem', 'resulting', 'christopherlambert', 'miners', 'depicts', 'elderly', 'christ', 'bush', 'freddy', 'robertenglund', 'ness', 'angela', 'blonde', 'arrangement', 'fling', 'gregorypeck', 'beth', 'newcomer', 'madea', '1997', 'locals', 'eddiegriffin', 'heard', 'olivia', 'hatred', 'operator', 'stopped', 'establishment', 'olympics', 'porn', 'spin', 'marrying', 'unforgettable', 'converge', 'shirleymaclaine', 'stones', 'mega', 'reasons', 'rocket', 'trafficking', 'philadelphia', 'minniedriver', 'diana', 'yacht', 'witnessed', 'becky', 'sleazy', 'morris', 'loser', 'gandhi', 'abandons', 'dolphins', 'painter', 'val', 'garage', 'sound', 'traditional', 'getaway', 'playwright', 'depressed', 'dollar', 'canada', 'education', 'relatives', 'buck', 'bandits', 'basement', 'anniversary', 'chloe', 'farmhouse', 'reconnect', 'dignity', 'intimate', 'stella', 'tayediggs', 'satire', 'recording', 'jerusalem', '1962', 'kumar', 'burns', 'unsolved', 'resist', 'dare', 'partnered', 'privileged', 'michaelmoore', 'olive', 'exclusive', 'monroe', 'newjersey', 'vanessahudgens', 'outback', 'window', 'lola', 'unspeakable', 'frontier', 'kathy', 'tradition', 'ballet', 'backgrounds', 'connections', 'brent', '1973', 'erotic', 'recounts', 'spiritual', 'israel', 'tobinbell', 'contemporary', 'conflicts', 'developing', 'addict', 'parties', 'tvmovie', '1944', 'legends', 'craig', 'womandirector', 'sissyspacek', 'teachers', 'myers', 'filmmakers', 'katy', 'duncan', 'indie', 'ghetto', 'masks', 'suspense', 'leon', 'wordsworth', 'stripper', 'partying', 'examines', 'tai', 'sour', 'jin', 'tae', 'holly', 'vince', 'su', 'labor', 'jew', 'closure', 'folk', 'paula', 'hustler', 'brandon', 'montreal', 'chloësevigny', 'joan', 'yorkshire', 'jeanne', 'episode', 'dre', 'eva', 'lesbian', 'zealand', 'willie', 'warlock', 'mormon', 'focused', 'pastor', 'johnwayne', 'hud', 'alyssa'])"
      ]
     },
     "execution_count": 135,
     "metadata": {},
     "output_type": "execute_result"
    }
   ],
   "source": [
    "cv.vocabulary_.keys()"
   ]
  },
  {
   "cell_type": "code",
   "execution_count": 136,
   "id": "2fe597d3",
   "metadata": {},
   "outputs": [
    {
     "name": "stdout",
     "output_type": "stream",
     "text": [
      "Requirement already satisfied: nltk in c:\\users\\theophannycitta\\anaconda3\\lib\\site-packages (3.8.1)\n",
      "Requirement already satisfied: click in c:\\users\\theophannycitta\\anaconda3\\lib\\site-packages (from nltk) (8.0.4)\n",
      "Requirement already satisfied: joblib in c:\\users\\theophannycitta\\anaconda3\\lib\\site-packages (from nltk) (1.2.0)\n",
      "Requirement already satisfied: regex>=2021.8.3 in c:\\users\\theophannycitta\\anaconda3\\lib\\site-packages (from nltk) (2022.7.9)\n",
      "Requirement already satisfied: tqdm in c:\\users\\theophannycitta\\anaconda3\\lib\\site-packages (from nltk) (4.65.0)\n",
      "Requirement already satisfied: colorama in c:\\users\\theophannycitta\\anaconda3\\lib\\site-packages (from click->nltk) (0.4.6)\n"
     ]
    }
   ],
   "source": [
    "!pip install nltk\n",
    "import nltk"
   ]
  },
  {
   "cell_type": "code",
   "execution_count": 137,
   "id": "c39fbc39",
   "metadata": {},
   "outputs": [],
   "source": [
    "from nltk.stem.porter import PorterStemmer\n",
    "ps = PorterStemmer()"
   ]
  },
  {
   "cell_type": "code",
   "execution_count": 138,
   "id": "5ae95df8",
   "metadata": {},
   "outputs": [],
   "source": [
    "def stem(text):\n",
    "    y=[]\n",
    "    for i in text.split():\n",
    "       y.append(ps.stem(i))\n",
    "    return \" \".join(y)"
   ]
  },
  {
   "cell_type": "code",
   "execution_count": 139,
   "id": "62c1d577",
   "metadata": {},
   "outputs": [
    {
     "data": {
      "text/plain": [
       "'danc'"
      ]
     },
     "execution_count": 139,
     "metadata": {},
     "output_type": "execute_result"
    }
   ],
   "source": [
    "ps.stem('dancing')"
   ]
  },
  {
   "cell_type": "code",
   "execution_count": 140,
   "id": "059aca10",
   "metadata": {},
   "outputs": [
    {
     "name": "stderr",
     "output_type": "stream",
     "text": [
      "C:\\Users\\theophannycitta\\AppData\\Local\\Temp\\ipykernel_9564\\3514595201.py:1: SettingWithCopyWarning: \n",
      "A value is trying to be set on a copy of a slice from a DataFrame.\n",
      "Try using .loc[row_indexer,col_indexer] = value instead\n",
      "\n",
      "See the caveats in the documentation: https://pandas.pydata.org/pandas-docs/stable/user_guide/indexing.html#returning-a-view-versus-a-copy\n",
      "  new_df['tags']=new_df['tags'].apply(stem)\n"
     ]
    }
   ],
   "source": [
    "new_df['tags']=new_df['tags'].apply(stem)"
   ]
  },
  {
   "cell_type": "code",
   "execution_count": 141,
   "id": "465eb6a3",
   "metadata": {},
   "outputs": [],
   "source": [
    "from sklearn.feature_extraction.text import CountVectorizer\n",
    "cv = CountVectorizer(max_features=5000,stop_words= 'english')"
   ]
  },
  {
   "cell_type": "code",
   "execution_count": 142,
   "id": "540f42dd",
   "metadata": {},
   "outputs": [],
   "source": [
    "vectors = cv.fit_transform(new_df['tags']).toarray()"
   ]
  },
  {
   "cell_type": "code",
   "execution_count": 143,
   "id": "e0898128",
   "metadata": {},
   "outputs": [
    {
     "data": {
      "text/plain": [
       "dict_keys(['century', 'marin', 'dispatch', 'moon', 'pandora', 'uniqu', 'mission', 'becom', 'torn', 'follow', 'order', 'protect', 'alien', 'civilization', 'action', 'samworthington', 'zoesaldana', 'sigourneyweav', 'captain', 'long', 'believ', 'dead', 'ha', 'come', 'life', 'head', 'edg', 'earth', 'turner', 'elizabeth', 'noth', 'quit', 'adventur', 'ocean', 'johnnydepp', 'orlandobloom', 'keiraknightley', 'messag', 'bond', 'past', 'send', 'trail', 'uncov', 'sinist', 'organization', 'battl', 'polit', 'forc', 'secret', 'servic', 'alive', 'deceit', 'reveal', 'terribl', 'truth', 'spi', 'danielcraig', 'christophwaltz', 'death', 'district', 'attorney', 'harvey', 'dent', 'batman', 'assum', 'respons', 'crime', 'late', 'reput', 'subsequ', 'hunt', 'gotham', 'citi', 'polic', 'department', 'year', 'later', 'encount', 'mysteri', 'kyle', 'villain', 'new', 'terrorist', 'leader', 'overwhelm', 'dark', 'knight', 'resurfac', 'brand', 'enemy', 'dccomic', 'christianbal', 'michaelcain', 'garyoldman', 'john', 'carter', 'war', 'militari', 'inexplic', 'transport', 'exot', 'planet', 'reluctantli', 'embroil', 'epic', 'conflict', 'world', 'brink', 'collapse', 'rediscov', 'hi', 'human', 'realiz', 'surviv', 'peopl', 'rest', 'hands', 'basedonnovel', 'samanthamorton', 'seemingli', 'spider', 'man', 'goe', 'crop', 'includ', 'shape', 'shift', 'superpow', 'alter', 'ego', 'peter', 'parker', 'deal', 'nemesi', 'eddi', 'caught', 'love', 'triangle', 'fantasi', 'dualident', 'tobeymaguir', 'kirstendunst', 'jamesfranco', 'kingdom', 'bandit', 'flynn', 'rider', 'hide', 'tower', 'taken', 'hostag', 'beauti', 'bound', 'teen', '70', 'feet', 'golden', 'hair', 'curiou', 'look', 'ticket', 'lock', 'away', 'years', 'strike', 'handsom', 'thief', 'unlik', 'duo', 'set', 'pack', 'complet', 'super', 'cop', 'horse', 'gang', 'anim', 'mandymoor', 'toni', 'stark', 'tri', 'program', 'thing', 'awri', 'hero', 'ultim', 'test', 'fate', 'hang', 'aveng', 'stop', 'plans', 'soon', 'allianc', 'unexpect', 'way', 'global', 'adventure', 'robertdowneyjr', 'chrishemsworth', 'markruffalo', 'harri', 'begin', 'sixth', 'discov', 'old', 'book', 'mark', 'properti', 'half', 'blood', 'prince', 'learn', 'lord', 'witch', 'danielradcliff', 'rupertgrint', 'emmawatson', 'fear', 'god', 'lik', 'left', 'city', 'vigilant', 'modern', 'day', 'wrestl', 'sort', 'realli', 'superman', 'threat', 'quickli', 'mankind', 'greater', 'danger', 'known', 'benaffleck', 'return', 'allow', 'luthor', 'walk', 'free', 'wa', 'closest', 'abandon', 'plot', 'reveng', 'million', 'kill', 'chang', 'face', 'forever', 'rid', 'steel', 'savingtheworld', 'kevinspacey', 'katebosworth', 'continu', 'jame', 'casino', 'betray', 'woman', 'loved', '007', 'fight', 'urg', 'make', 'latest', 'pursu', 'determin', 'interrog', 'mr', 'white', 'organ', 'blackmail', 'far', 'complex', 'anyon', 'imagined', 'olgakurylenko', 'jack', 'sparrow', 'work', 'debt', 'jones', 'attempt', 'avoid', 'etern', 'texa', 'ranger', 'chase', 'outlaw', 'led', 'butch', 'ambush', 'survivor', 'american', 'indian', 'nurs', 'health', 'don', 'mask', 'ride', 'silver', 'team', 'bring', 'unscrupul', 'justice', 'young', 'boy', 'extraordinari', 'power', 'thi', 'journey', 'came', 'sent', 'emerg', 'save', 'symbol', 'hope', 'amyadam', 'michaelshannon', 'incred', 'lion', 'luci', 'susan', 'aid', 'princ', 'threaten', 'evil', 'king', 'help', 'color', 'cast', 'characters', 'clan', 'embark', 'quest', 'ensur', 'right', 'heir', 'enemi', 'safeti', 'security', 'nick', 'director', 'intern', 'agenc', 'need', 'pull', 'disaster', 'span', 'globe', 'dare', 'recruit', 'effort', 'begins', 'sciencefict', 'newyork', 'chrisevan', 'cross', 'path', 'sure', 'ruthless', 'artist', 'use', 'fabl', 'youth', 'aboard', 'queen', 'anne', 'revenge', 'ship', 'formid', 'pirat', 'doesn', 'know', 'sea', 'penélopecruz', 'agent', 'smith', 'tommi', 'lee', 'time', 'seen', '15', 'men', 'black', 'aliens', 'partner', 'stake', 'travel', 'univers', 'told', 'themselv', 'josh', 'agency', 'futur', 'humankind', 'timetravel', 'willsmith', 'tommyleejon', 'joshbrolin', 'immedi', 'event', 'desol', 'bilbo', 'defend', 'mountain', 'treasur', 'claim', 'ruin', 'elv', 'meanwhil', 'armi', 'march', 'fuel', 'rise', 'middle', 'fall', 'corrupt', 'martinfreeman', 'ianmckellen', 'outcast', 'high', 'parent', 'leav', 'rais', 'uncl', 'ben', 'aunt', 'like', 'teenagers', 'figur', 'got', 'person', 'today', 'belong', 'father', 'understand', 'parents', 'disappear', 'lead', 'lab', 'dr', 'collis', 'cours', 'alt', 'choic', 'destini', 'andrewgarfield', 'emmaston', 'soldier', 'robin', 'happen', 'die', 'robert', 'promis', 'sword', 'famili', 'identity', 'romanc', 'widow', 'draw', 'town', 'sheriff', 'russellcrow', 'cateblanchett', 'maxvonsydow', 'success', 'escap', 'mountains', 'gain', 'ring', 'gold', 'dragon', 'shock', 'orphan', 'trade', 'carefre', 'exist', 'roam', 'hall', 'jordan', 'colleg', 'otherworldli', 'north', 'unawar', 'destiny', 'england', 'nicolekidman', 'york', 'ambiti', 'movi', 'produc', 'hire', 'crew', 'skull', 'island', 'kong', 'giant', 'ape', 'smitten', 'lady', 'naomiwatt', 'jackblack', 'adrienbrodi', 'rose', 'tell', 'stori', 'lizzi', 'lewi', 'bobbi', 'april', 'titan', 'board', 'depart', 'upper', 'class', 'passeng', 'mother', 'ruth', 'fiancé', 'drifter', 'best', 'friend', 'win', 'game', 'explain', 'voyag', '20', 'drama', 'shipwreck', 'katewinslet', 'leonardodicaprio', 'age', 'collect', 'govern', 'pass', 'act', 'design', 'polar', 'opinion', 'caus', 'faction', 'iron', 'america', 'allies', 'civilwar', 'scarlettjohansson', 'beam', 'radio', 'signal', 'space', 'form', 'sever', 'craft', 'water', 'hawaii', 'lieuten', 'alex', 'hopper', 'weapon', 'offic', 'assign', 'paul', 'engag', 'hostil', 'unimagin', 'strength', 'invaders', 'live', 'potenti', 'brother', 'fiancée', 'admir', 'shane', 'expect', 'thriller', 'park', 'featur', 'fulli', 'dinosaur', 'theme', 'origin', 'envis', 'monster', 'chrispratt', 'brycedallashoward', 'irrfankhan', 'grave', 'wrong', 'attack', 'reloc', 'author', 'posit', 'challeng', 'intellig', 'secur', 'compromis', 'insid', 'alli', 'trust', 'shadow', 'onli', 'field', 'eve', 'lethal', 'hidden', 'motiv', 'judidench', 'javierbardem', 'major', 'ident', 'crisis', 'burn', 'decid', 'superhero', 'suffer', 'wake', 'doc', 'feel', 'mari', 'jane', 'girl', 'sinc', 'childhood', 'apart', 'start', 'odyssey', 'rebuild', 'gwynethpaltrow', 'doncheadl', 'alice', 'individu', '19', 'english', 'nobleman', 'party', 'crowd', 'consid', 'marriag', 'hole', 'garden', 'spot', 'unusu', 'rabbit', 'arriv', 'strang', 'surreal', 'place', 'nightmar', 'child', 'talk', 'animals', 'alic', 'reason', 'conquer', 'horrif', 'restor', 'throne', 'annehathaway', 'cure', 'treat', 'line', 'drawn', 'brotherhood', 'band', 'mutant', 'hughjackman', 'halleberri', 'relationship', 'mike', 'dure', 'friends', 'billycryst', 'johngoodman', 'stevebuscemi', 'sam', 'normal', 'mind', 'target', 'drag', 'egypt', 'shialabeouf', 'meganfox', 'pick', 'vanish', 'group', 'businessman', 'scientist', 'transform', 'push', 'boundari', 'technolog', 'control', 'ancient', 'menac', 'sequel', 'markwahlberg', 'oscar', 'small', 'tim', 'circu', 'whisk', 'kansa', 'land', 'oz', 'inhabit', 'great', 'wizard', 'clutch', 'milakuni', 'rachelweisz', 'bad', 'guy', 'spend', 'loves', 'gwen', 'school', 'graduat', 'stay', 'clue', 'obsess', 'jamiefoxx', 'tech', 'savvi', 'son', 'kevin', 'investig', 'dictat', 'real', 'artificialintellig', 'garretthedlund', 'jeffbridg', 'oliviawild', 'star', 'race', 'car', 'lightn', 'pal', 'compet', 'grand', 'road', 'championship', 'rocki', 'intrigu', 'espionage', 'carrac', 'owenwilson', 'centuries', 'warrior', 'green', 'corp', 'sworn', 'intergalact', 'wear', 'grant', 'destroy', 'balanc', 'universe', 'lie', 'hand', 'ryanreynold', 'petersarsgaard', 'buzz', 'andy', 'toy', 'haven', 'play', 'andi', 'college', 'accident', 'nefari', 'care', 'center', 'togeth', 'home', 'tomhank', 'timallen', 'grown', 'post', 'apocalypt', 'connor', 'resist', 'increasingli', 'domin', 'marcu', 'wright', 'confus', 'foe', 'antonyelchin', 'shaw', 'seek', 'toretto', 'vindiesel', 'paulwalk', 'dwaynejohnson', 'unit', 'nation', 'lane', 'content', 'suddenly', 'plagu', 'infect', 'turn', 'popul', 'rampag', 'zombies', 'bare', 'chaos', 'persuad', 'disease', 'peril', 'trek', 'brave', 'odd', 'answer', 'befor', 'civil', 'falls', 'dystopia', 'bradpitt', 'speci', 'period', 'join', 'younger', 'future', '1970', 'jamesmcavoy', 'michaelfassbend', 'enterpris', 'unstopp', 'terror', 'everyth', 'stand', 'state', 'score', 'kirk', 'captur', 'mass', 'destruction', 'propel', 'friendship', 'sacrific', 'spacecraft', 'chrispin', 'unwittingli', 'open', 'fearsom', 'unleash', 'strive', 'reclaim', 'onc', 'lost', 'people', 'princess', 'thought', 'legend', 'chanc', 'ewanmcgregor', 'adapt', 'scott', 'novel', 'midwestern', 'lure', 'lavish', 'neighbor', 'jay', 'crack', 'rich', 'existence', 'obsession', 'madness', 'tragedi', 'await', 'careymulligan', 'rogu', 'capabl', 'releas', 'sand', 'gift', 'rule', 'jakegyllenha', 'benkingsley', 'legion', 'monstrou', 'creatures', 'began', 'consum', 'humanity', 'resourc', 'end', 'combat', 'special', 'type', 'massiv', 'simultan', 'pilot', 'bridge', 'prove', 'nearli', 'relentless', 'verg', 'defeat', 'heroes', 'washed', 'charli', 'drive', 'legendari', 'mount', 'apocalypse', 'step', 'adulthood', 'remain', 'reluct', 'prime', 'film', 'usa', 'suggest', 'role', 'secrets', 'johnmalkovich', 'cold', 'soviet', 'wield', 'irina', 'search', 'crystal', 'supernatur', 'relat', 'mystic', 'indi', 'colleagu', 'professor', 'knowledg', 'harrisonford', 'jeffreywright', 'scottish', 'daughter', 'accomplish', 'defi', 'sacr', 'custom', 'inadvert', 'turmoil', 'eccentr', 'wise', 'ill', 'fat', 'wish', 'serv', 'comic', 'relief', 'enorm', 'scotland', 'explor', 'reach', 'unchart', 'feder', 'karlurban', 'wall', 'robot', 'overrun', 'outer', 'clean', 'mess', 'develop', 'think', 'final', 'assassin', 'ambassador', 'han', 'inspector', 'detect', 'pari', 'french', 'hold', 'meet', 'authority', 'struggl', 'chines', 'crimin', 'mastermind', 'jackiechan', 'worldwid', 'effect', 'radiat', 'unpreced', 'solar', 'core', 'heat', 'warn', 'presid', 'thoma', 'wilson', 'unstabl', 'prepar', 'population', 'entir', 'writer', 'jackson', 'stumbl', 'build', 'impend', 'cataclysm', 'family', 'erupt', 'wreak', 'havoc', 'johncusack', 'amandapeet', 'chiwetelejiofor', 'miser', 'awaken', 'christma', 'spirit', 'opportun', 'wast', 'current', 'dire', 'doe', 'ways', 'grow', 'bitter', 'redemption', 'holiday', 'jimcarrey', 'genet', 'materi', 'preciou', 'key', 'strateg', 'channingtatum', 'seanbean', 'london', 'jungl', 'activ', 'africa', 'sibl', 'lucy', 'magic', 'peac', 'plung', 'winter', 'magnific', 'children', 'spectacular', 'level', 'plan', 'jenniferlawr', 'lt', 'jim', 'gordon', 'streets', 'partnership', 'prey', 'reign', 'chao', 'terrifi', 'citizen', 'heathledg', 'aaroneckhart', 'carl', 'spent', 'dream', 'experienc', 'fullest', 'twist', 'wilder', 'russell', 'christopherplumm', 'murphi', 'meteor', 'wed', '11', 'jump', 'covert', 'compound', 'confin', 'ragtag', 'monsters', 'sethrogen', 'reesewitherspoon', 'held', 'captiv', 'cave', 'billionair', 'engin', 'creat', 'suit', 'armor', 'terrencehoward', 'train', 'station', '1930', 'paris', 'fix', 'clock', 'gadget', 'connect', 'mechan', 'unlock', 'adventures', 'georg', 'surpris', 'memori', 'buri', 'regard', 'sachabaroncohen', 'southern', 'inventor', 'loveless', 'rekindl', 'west', 'master', 'disguis', 'thwart', 'kevinklin', 'kennethbranagh', 'archaeologist', 'rick', 'connel', 'china', 'pit', 'emperor', '000', 'domination', 'enlist', 'wife', 'cal', 'abus', 'brendanfras', 'jetli', 'dc', 'suicid', 'squad', 'antihero', 'government', 'undertak', 'risk', 'op', 'exchang', 'prison', 'contact', 'flood', 'fathersonrelationship', 'stevecarel', 'drop', 'manag', 'alpha', 'physic', 'thrown', 'loop', 'tomcruis', 'emilyblunt', 'brendangleeson', 'futurist', 'ice', 'melt', 'rescu', 'escape', 'sail', 'trio', 'covet', 'map', 'tattoo', 'kevincostn', 'egyptian', 'desert', 'deep', 'elit', 'joe', 'gener', 'equip', 'arm', 'dealer', 'prevent', 'dennisquaid', 'marlonwayan', 'riley', 'midwest', 'job', 'san', 'francisco', 'guid', 'emot', 'joy', 'anger', 'headquarters', 'advis', 'everyday', 'adjust', 'ensu', 'main', 'import', 'navig', 'hous', 'tiger', 'khan', 'flee', 'jungle', 'self', 'discoveri', 'bear', 'billmurray', 'awar', 'pressur', 'press', 'public', 'share', 'unwil', 'let', 'forg', 'confront', 'enemies', 'marri', 'perform', 'violent', 'coup', 'murder', 'snow', 'decad', 'obtain', 'heart', 'castle', 'forest', 'kristenstewart', 'charlizetheron', 'disney', 'icon', '1959', 'classic', 'sleep', 'beauty', 'beautiful', 'pure', 'idyl', 'invad', 'harmoni', 'stone', 'bent', 'successor', 'result', 'curs', 'newborn', 'infant', 'true', 'happi', 'angelinajoli', 'aliv', 'aftermath', 'wipe', 'caesar', 'maintain', 'commun', 'apes', 'andyserki', 'lover', 'sweep', 'tale', 'imposs', 'backdrop', 'contin', 'centr', 'charact', 'british', '18th', 'centuri', 'coloni', 'india', 'deepli', 'present', 'joshhartnett', 'base', '1941', 'japan', 'endur', '3d', 'born', 'samurai', 'vengeanc', 'treacher', 'banish', 'kind', 'honor', 'homeland', 'seri', 'trial', 'ordinari', 'keanureev', 'steve', 'aka', 'washington', 'web', 'expos', 'conspiraci', 'profession', 'silenc', 'everi', 'revealed', 'th', 'washingtond', 'samuell', 'bore', 'domest', 'shrek', 'pact', 'mak', 'version', 'hunted', 'fiona', 'met', 'comedi', 'mikemy', 'eddiemurphi', 'camerondiaz', 'bright', 'scientif', 'geniu', 'jade', 'fil', 'unearth', 'enigmat', 'somewher', 'georgeclooney', 'brotherbrotherrelationship', 'ralph', 'foot', 'tall', 'pound', 'video', 'jr', 'want', 'good', 'just', 'enter', 'rush', 'track', 'von', 'affect', 'johnc', 'reilli', 'doubt', 'pole', 'wonder', 'fade', 'alway', 'knew', 'recov', 'technology', 'immens', 'defens', 'advanc', 'force', 'women', 'liamhemsworth', 'jeffgoldblum', 'billpullman', 'cusp', 'manhood', 'shi', 'iii', 'longer', 'instead', 'befriend', 'beast', 'fli', 'jaybaruchel', 'gerardbutl', '10', 'clear', 'anyth', 'trace', 'finish', 'nemesis', 'adult', 'arnoldschwarzenegg', 'clairedan', 'light', 'chronicl', 'newli', 'limit', 'vast', 'distanc', 'involv', 'matthewmcconaughey', 'jessicachastain', 'skill', 'commit', 'corpor', 'infiltr', 'offer', 'regain', 'task', 'anoth', 'idea', 'lossoflov', 'josephgordon', 'levitt', 'ellenpag', 'hit', 'larger', 'tear', 'scrambl', 'rag', 'tag', 'volunt', 'cut', 'red', 'tape', 'weak', 'tie', 'foreign', 'greatest', 'catastroph', 'evolv', 'veri', 'eyes', 'enjoy', 'quiet', 'swept', 'riddl', 'lo', 'angel', 'street', 'racer', 'suspect', 'big', 'rig', 'undercov', 'brian', 'sister', 'choos', 'lapd', 'streetgang', 'michellerodriguez', 'benjamin', 'bizarr', 'consequences', 'tildaswinton', 'charl', 'took', 'arch', 'cia', 'scale', 'katniss', 'showdown', 'gale', '13', 'stage', 'mortal', 'moral', 'ani', 'arena', 'hunger', 'games', 'revolut', 'joshhutcherson', 'sorcer', 'manhattan', 'dave', 'averag', 'protégé', 'crash', 'art', 'scienc', 'darkness', 'nicolascag', 'cruis', 'atlant', 'wave', 'dramat', 'lives', 'kurtrussel', 'richarddreyfuss', 'joshluca', 'mad', 'amp', 'realm', 'colon', 'portal', 'worlds', 'destruct', 'oppos', 'videogam', 'paulapatton', 'benfost', 'unknown', 'cousin', 'swallow', 'paint', 'fantast', 'simonpegg', 'lifelong', 'danni', 'walker', 'ace', 'fighter', 'entangl', 'triangl', 'johnson', 'rivalri', 'turned', 'devast', 'pearl', 'harbor', 'histori', 'katebeckinsal', 'teenager', 'extraterrestri', 'heroic', 'retriev', 'persian', 'empire', 'ventur', 'western', 'gone', 'colinfarrel', 'valkilm', 'fifth', 'studi', 'stun', 'choice', 'matter', 'student', 'dub', 'army', 'propheci', 'fourth', 'tournament', 'ron', 'employ', 'expert', 'repair', 'imag', 'weari', 'damag', 'imprison', 'miss', 'successful', 'stick', 'sens', 'purpos', 'slip', 'habits', 'jasonbateman', 'unabl', 'spread', 'viru', 'perhap', 'faith', 'daili', 'desper', 'alicebraga', 'tour', 'chocol', 'factori', 'maker', 'londonengland', 'freddiehighmor', 'rat', 'chef', 'despit', 'problem', 'sewer', 'ideal', 'situat', 'beneath', 'restaur', 'famou', 'august', 'appar', 'visitor', 'kitchen', 'fine', 'restaurant', 'passion', 'cook', 'motion', 'hilari', 'excit', 'upsid', 'ianholm', 'driven', 'tragedy', 'bruce', 'dedic', 'underworld', 'himalaya', 'liamneeson', 'penguin', 'yorker', 'hatch', 'crazi', 'plane', 'benstil', 'jadapinkettsmith', 'hapless', 'museum', 'night', 'larri', 'living', 'breath', 'exhibit', 'transfer', 'institution', 'close', 'lincoln', 'logan', 'girlfriend', 'undergo', 'lievschreib', 'zion', 'invas', 'machin', 'neo', 'laurencefishburn', 'carrie', 'annemoss', 'anna', 'fallen', 'accompani', 'deliveri', 'means', 'kristenbel', 'month', 'depict', 'matrix', 'humans', 'freed', 'brought', 'resistance', 'speed', 'abil', 'code', 'certain', 'pre', 'nasti', 'piec', 'news', 'dig', 'source', 'worri', 'thor', 'veng', 'reunit', 'foster', 'natalieportman', 'landscap', 'broken', 'everyon', 'craze', 'rebel', 'run', 'abl', 'max', 'loss', 'achiev', 'tomhardi', 'harvard', 'evid', 'underground', 'rome', 'mighti', 'arrog', 'darkest', 'bolt', 'biggest', 'hollywood', 'separ', 'belov', 'owner', 'powers', 'johntravolta', 'mileycyru', 'pig', 'mole', 'leonard', 'household', 'shut', 'sentenc', 'pet', 'shop', 'samrockwel', 'villag', 'fisherman', 'sole', 'rage', 'lack', 'lose', 'feroci', 'ralphfienn', 'vampir', '1972', 'estat', 'michellepfeiff', 'helenabonhamcart', 'ethan', 'highli', 'lawrenc', 'visit', 'victorian', 'estrang', 'werewolf', 'moonlight', 'savag', 'flesh', 'beniciodeltoro', 'anthonyhopkin', 'barri', 'bee', 'disillus', 'lone', 'career', 'honey', 'trip', 'outsid', 'barry', 'vanessa', 'actual', 'eat', 'sue', 'renéezellweg', 'po', 'valley', 'alongsid', 'fellow', 'kung', 'fu', 'furiou', 'crane', 'monkey', 'awesom', 'origins', 'succeed', 'martialart', 'dustinhoffman', 'asid', 'enslav', 'air', 'retir', 'duti', 'agents', 'sadist', 'owen', 'berlin', 'philipseymourhoffman', 'vingrham', 'policeman', 'deni', 'littl', 'house', 'heavili', 'president', 'country', 'usapresid', 'martian', 'suddenli', 'abduct', 'mom', 'mischiev', 'milo', 'whi', 'sethgreen', 'joancusack', 'societi', 'sid', 'common', 'spike', 'orphanage', '12', 'hook', 'rebelli', 'forev', 'pan', 'dog', 'genius', 'spring', 'stolen', 'moment', 'changed', 'clash', 'convinc', 'helen', 'husband', 'troy', 'ask', '50', 'greek', 'ericbana', 'appl', 'central', 'zoo', 'penguins', 'mont', 'carlo', 'attract', 'attent', 'gate', 'parti', 'julian', 'europ', 'korean', 'dna', 'replac', 'differ', 'assist', 'exploit', 'satellit', 'piercebrosnan', 'rosamundpik', 'ghost', 'paranorm', 'enthusiast', 'erin', 'abbi', 'nuclear', 'subway', 'worker', 'patti', 'melissamccarthi', 'kristenwiig', 'asteroid', 'collid', 'nasa', 'dan', 'truman', 'surfac', 'bomb', 'renown', 'agre', 'provid', 'hotshot', 'isn', 'brucewilli', 'billybobthornton', 'kay', 'toughest', 'disast', 'proportions', 'absolut', 'galaxi', 'submit', 'descend', 'cain', 'raywinston', 'huge', 'closer', 'bryancranston', 'instal', 'series', 'cruise', 'access', 'russian', 'launch', 'states', 'explos', 'implic', 'jeremyrenn', 'pitch', 'lay', 'immort', 'guardian', 'hopes', 'belief', 'imagin', 'alecbaldwin', 'judelaw', 'dick', 'handl', 'pretti', 'rob', 'second', 'remind', 'hurt', 'innoc', 'coupl', 'hear', 'boss', 'company', 'téaleoni', 'nathan', 'japanes', 'respect', 'principl', 'mose', 'slave', 'deadli', 'joeledgerton', 'johnturturro', 'thrill', 'iowa', 'farm', 'bas', 'reject', 'instinct', 'calm', 'leonardnimoy', 'nerdi', 'amaz', 'willemdafo', 'chapter', 'favorit', 'sport', 'pair', 'chart', 'territori', 'hundr', 'wild', 'peace', 'mythic', 'artifici', 'initi', 'jessicabiel', 'altern', '1985', 'glori', 'costum', 'veteran', 'brutal', 'killer', 'billycrudup', 'carlagugino', 'franchise', 'maverick', 'martin', 'roger', 'squar', 'mobster', 'sing', 'neck', 'leo', 'smart', 'rooki', 'aim', 'melgibson', 'dannyglov', 'joepesci', 'research', 'tragic', 'california', 'jenniferconnelli', 'frame', 'termin', 'presidenti', 'contend', 'jeopard', 'depth', 'busi', 'usual', 'underwat', 'buddy', 'doctor', 'tyrant', 'stevezahn', 'ross', 'eye', 'mentor', 'hate', 'donaldsutherland', 'ii', 'brooklyn', 'hitler', 'intend', 'devic', 'greed', 'oil', 'heiress', 'notori', 'culmin', 'submarin', 'suppli', 'robertcarlyl', 'royal', 'navi', 'pursuit', 'devot', 'surgeon', 'paulbettani', 'birth', 'cullen', 'gather', 'fals', 'alleg', 'robertpattinson', 'taylorlautn', 'dance', 'wors', 'shaken', 'forces', 'elijahwood', 'robinwilliam', 'pink', 'edwardnorton', 'timroth', 'bone', 'nice', 'lucki', 'sophi', 'carri', 'middl', 'rebeccahal', 'hugh', 'glass', '500', 'underdog', 'paulgiamatti', 'michaelpeña', 'wind', 'gun', 'dirt', 'courag', 'welcom', 'wait', 'kowalski', 'privat', 'bourn', 'report', 'simon', 'unveil', 'oper', 'project', 'newspap', 'inform', 'stir', 'dodg', 'mattdamon', 'juliastil', 'davidstrathairn', 'lazi', 'chosen', 'slacker', 'won', 'increas', 'inner', 'ant', 'heist', 'paulrudd', 'michaeldougla', 'safe', 'annual', 'mean', 'victor', 'rebellion', 'competit', 'confid', 'promptli', 'capture', 'fugit', 'lot', 'lifetime', 'stevemartin', 'ray', 'divorc', 'perfect', 'ex', 'wif', 'teenag', 'rare', 'weekend', 'storm', 'touch', 'posttraumaticstressdisord', 'dakotafan', 'buddi', 'miami', 'narcot', 'bullet', 'laugh', 'explod', 'drug', 'cuba', 'playboy', 'secretli', 'sexi', 'martinlawr', 'boot', 'tough', 'cat', 'myth', 'antoniobandera', 'salmahayek', 'zachgalifianaki', 'officer', 'salt', 'loyalti', 'accus', 'experi', 'elud', 'question', 'vision', 'measur', 'intrepid', 'reporter', 'loyal', 'thrust', 'mystery', 'steal', 'priceless', 'bumbl', 'thompson', 'ahead', 'fortune', 'curse', 'jamiebel', 'harry', 'convict', 'northern', 'australia', 'aristocrat', 'inherit', 'ranch', 'stock', 'cattl', 'landscape', 'missionari', 'thousand', 'nova', 'extend', 'readi', 'chance', 'metro', 'willferrel', 'tinafey', 'potter', 'uncle', 'birthday', 'newfound', 'kindli', 'blame', 'recent', 'undead', 'kevinbacon', '17th', 'caribbean', 'butt', 'rival', 'port', 'governor', 'kidnapped', 'exoticisland', 'geoffreyrush', 'fame', 'audreytaut', 'blu', 'jewel', 'kid', 'hurtl', 'amazon', 'fit', 'law', 'bird', 'jesseeisenberg', 'lesliemann', 'anti', 'col', 'william', 'jean', 'scheme', 'patrickstewart', 'dom', 'opposit', 'mia', 'broke', 'custody', 'mani', 'border', 'authorities', 'corner', 'freedom', 'brazil', 'larg', 'equal', 'advantag', 'detective', 'seiz', 'hell', 'demon', 'accept', 'construct', 'dougla', 'chip', 'brain', 'virtual', 'invent', 'mar', 'plant', 'sharonston', 'ad', 'arab', 'devour', 'aaron', 'trigger', 'previou', 'jason', 'freez', 'homicid', 'poison', 'dynam', 'doublelif', 'chriso', 'donnel', 'mutat', 'christmas', 'creatur', 'cindi', 'lou', 'shepherd', 'trap', 'comput', 'spain', 'crisi', 'thandienewton', 'weather', 'condit', 'combin', 'fish', 'boat', 'lif', 'minut', 'dianelan', 'screen', 'surfer', 'pose', 'jessicaalba', 'compani', 'adrift', 'pacif', 'stunt', 'johnni', 'blaze', 'sell', 'soul', 'simpson', 'johnny', 'evamend', 'wesbentley', 'charg', 'member', 'wit', 'killed', 'ladi', 'responsible', 'robberi', 'drewbarrymor', 'lucyliu', 'android', 'guypearc', 'stuart', 'ador', 'happili', 'adopt', 'east', 'mous', 'store', 'george', 'michaelj', 'fox', 'geenadavi', 'wealthi', 'secretari', 'jodi', 'hard', 'enforc', 'immigr', 'luxuri', 'lifestyl', 'unlucki', 'matt', 'damon', 'jodiefost', 'bounti', 'hunters', 'riddick', 'wage', 'champion', 'drone', 'forbidden', 'controversi', 'detroit', 'critic', 'billion', 'count', 'machine', 'cyborg', 'michaelkeaton', 'brilliant', 'driver', 'leagu', 'cost', 'activities', 'inspir', 'emilehirsch', 'christinaricci', 'bit', 'lisa', 'lovetriangl', 'glamor', 'sometim', 'amid', 'vs', 'vital', 'stranger', 'chain', 'morganfreeman', 'clone', 'wars', 'nobl', 'jedi', 'galaxy', 'crumbl', 'ash', 'galact', 'anakin', 'seduc', 'apprentic', 'twin', 'haydenchristensen', 'leadership', 'renegad', 'break', 'senat', 'movement', 'sullivan', 'earn', 'scare', 'business', 'afraid', 'famkejanssen', 'strong', 'prehistor', 'lifetim', 'destroyed', 'olymp', 'portray', 'trick', 'juliu', 'process', 'ho', 'becaus', 'languag', 'er', 'sara', 'settl', 'shredder', 'grip', 'grim', 'ninja', 'turtl', 'fearless', 'cameraman', 'unravel', 'diabol', 'willarnett', 'ryan', 'medic', 'shuttl', 'astronaut', 'command', 'flight', 'routin', 'strikes', 'spiral', 'link', 'rescue', 'panic', 'sandrabullock', 'edharri', 'sleepi', 'volcano', 'worst', 'mayor', 'nightmare', 'helicopt', 'henchmen', 'similar', 'teleport', 'milestel', 'katemara', 'michaelb', 'natur', 'derang', 'media', 'mogul', 'incid', 'things', 'prefer', 'simpl', 'farmer', 'gabriel', 'flame', 'thiev', 'amsterdam', 'hot', 'catherinezeta', 'jon', 'bliss', 'stuck', 'unbeknownst', 'highly', 'paid', 'mix', 'wick', 'comedy', 'vincevaughn', 'shailenewoodley', 'biopic', 'filmmak', 'howard', 'becam', 'compuls', 'tini', 'journalist', 'seth', 'largest', 'fortun', 'angeles', 'spoil', 'thu', 'tom', 'dies', 'talent', 'someth', 'pow', 'criminal', 'christoph', 'frank', 'miller', 'graphic', 'visual', 'style', '300', 'saga', 'fresh', 'lenaheadey', 'blue', 'smurf', 'village', 'fact', 'apple', 'hankazaria', 'greedi', 'possess', 'heaven', 'kick', 'sky', 'match', 'guys', 'custodi', 'near', 'charlie', 'spell', 'kidnap', 'patrick', 'grace', 'jasonpatr', 'card', 'mcclane', 'hacker', 'bid', 'internet', 'intent', 'justinlong', 'timothyolyph', 'creator', 'doom', 'bet', 'circl', '80', 'days', '1964', 'pro', 'boxer', 'victory', 'scene', 'clay', 'bold', 'african', 'proud', 'ali', 'jonvoight', 'conrad', 'salli', 'alon', 'rain', 'door', 'introduc', 'fun', 'suicide', 'bloodi', 'holi', 'crusad', 'jeremyiron', 'misadventur', 'waitress', 'fulfil', 'frog', 'kiss', 'presum', 'fierc', 'strand', 'resid', 'contain', 'facility', 'environment', 'locat', 'porter', 'architect', 'longtim', 'griffin', 'direct', 'warrenbeatti', 'dianekeaton', 'goldiehawn', 'randal', 'happy', 'countless', 'cops', 'giovanniribisi', 'throw', 'roman', 'empir', 'deviou', 'amus', 'pay', 'laid', 'glory', 'joaquinphoenix', 'connienielsen', '21st', 'predict', 'ignor', 'attacks', 'le', 'banker', 'schedul', 'particip', 'stak', 'poker', 'establish', 'financi', 'market', 'attend', 'alreadi', 'itali', 'evad', 'gorilla', 'sarah', 'depression', 'era', 'bank', 'robber', 'charm', 'edgar', 'fledgl', 'fbi', 'elus', 'number', 'melvin', 'cinema', 'luca', 'heroin', 'harlem', 'buy', 'sourc', 'south', 'asia', 'story', 'denzelwashington', 'kept', 'jamieleecurti', 'hijack', 'ransom', 'walter', 'pam', 'greg', 'wound', 'cash', 'dad', 'suspicion', 'male', 'roar', 'skeptic', 'robertdeniro', 'nypd', 'desk', 'sit', 'allen', 'gambl', 'terri', 'background', 'photo', 'focu', 'case', 'narrat', 'marshal', 'eras', 'enrol', 'manufactur', 'guard', 'jamescaan', 'german', 'hunter', 'mississippi', 'bountyhunt', 'festiv', 'cruel', 'gypsi', 'demimoor', 'kuzco', 'summon', 'room', 'summer', 'davidspad', 'church', 'easi', 'airplan', 'sylvesterstallon', 'jasonstatham', 'dolphlundgren', 'rumor', 'revolutionari', 'declar', 'independence', 'dianekrug', 'egg', 'siennaguillori', 'ira', 'carol', 'crown', 'fort', 'catherinekeen', 'amandaseyfri', 'tourist', 'bud', 'remak', 'anthoni', 'written', '1999', 'devil', 'body', 'bride', 'christin', 'christian', 'gabrielbyrn', 'kevinpollak', 'mercenari', 'smuggler', 'diamond', 'valu', 'rip', 'tortur', 'refus', 'cooper', 'fraud', 'mob', 'jonahhil', 'fac', 'formerli', 'accid', 'disfigur', 'edward', 'computer', 'employe', 'millionair', 'ward', 'progress', 'non', 'commiss', 'deniserichard', '19th', 'distant', 'cloud', 'consequ', 'impact', 'weav', 'singl', 'award', 'david', 'jimbroadb', 'barn', 'owl', 'st', 'soldiers', 'ga', 'ruler', 'conspiracy', 'mild', 'mann', 'phillip', 'wash', 'resurrect', 'eager', 'say', 'tail', 'benjaminbratt', 'fourteen', 'ago', 'torment', 'receiv', 'labor', 'battle', 'warm', 'presenc', 'bunch', 'johnhurt', 'cabin', 'loot', 'teach', 'annafriel', 'dannymcbrid', 'barney', 'trader', 'someon', 'members', 'faster', 'extrem', 'point', 'aspir', 'babi', 'whale', 'assault', 'size', 'vengeance', 'harrow', 'unthink', 'despair', 'beliefs', 'mate', 'cillianmurphi', 'hottest', 'nightclub', 'troubl', 'club', 'gangster', 'randyquaid', 'rosariodawson', 'occup', '2003', 'chief', 'roy', 'iraqi', 'rocket', 'site', 'chemic', 'elabor', 'cover', 'gregkinnear', 'brown', 'dialogu', 'campbellscott', 'unfortunately', 'abov', 'psychot', 'kingpin', 'butcher', 'earlier', 'area', 'danielday', 'refug', 'rape', 'priest', 'safety', 'codi', 'surf', 'idol', 'pictur', 'voic', 'jeff', 'zooeydeschanel', 'matthewbroderick', 'bettemidl', 'warlord', 'shot', 'heavi', 'intens', 'ground', 'jasonisaac', 'politician', 'elect', 'repres', 'carolina', 'taxi', 'given', 'miranda', 'sun', 'samantha', 'vacat', 'destin', 'retreat', 'excus', 'rememb', 'sarahjessicapark', 'fail', 'el', 'startl', 'worship', 'nativ', 'worth', 'diego', 'johnleguizamo', 'rayromano', 'unexpectedli', 'ella', 'stepmoth', 'daughters', 'dash', 'woods', 'murdered', '14', 'watch', 'grief', 'stricken', 'observ', 'thirst', 'desir', 'heal', 'susansarandon', 'barrier', 'dentist', 'friendli', 'forget', 'dude', 'hypnot', 'hungri', 'viggomortensen', 'local', 'countri', 'manner', 'howev', 'survive', 'couldn', 'juliannemoor', 'lara', 'society', 'antiqu', 'goal', 'radic', 'fund', 'alan', 'money', 'amanda', 'infam', 'loos', 'host', 'snack', 'samneil', 'williamh', 'maci', 'alzheimer', 'diseas', 'slowli', 'notic', 'subject', 'especi', 'johnlithgow', 'brothersisterrelationship', 'mary', 'nicknolt', 'moscow', 'method', 'davi', 'mexican', 'santa', 'antonio', 'texas', 'bob', 'insur', 'assignment', 'secretident', 'craigt', 'nelson', 'hollyhunt', 'morgan', 'adam', 'difficult', 'franklangella', 'perci', 'loganlerman', 'typic', 'cowboy', 'camp', 'collector', 'al', 'woodi', 'truli', 'runaway', 'toxic', 'pennsylvania', 'hong', 'complic', 'duringcreditssting', 'zhangziyi', 'clair', 'spencer', 'flint', 'food', 'enabl', 'feed', 'billhad', 'annafari', 'manni', 'motor', 'mouth', 'tooth', 'denisleari', 'timid', 'magazin', 'missing', 'aspect', 'tv', 'dylan', 'traffic', 'smile', 'humor', 'martial', 'boston', 'irish', 'mafia', 'favor', 'jacknicholson', 'imperi', 'li', 'vietnam', 'memoir', 'tropic', 'damien', 'budget', 'studio', 'execut', 'actor', 'production', 'gangs', 'disgrac', 'patriarch', 'niec', '40', 'punk', 'civilian', 'demand', 'rachelmcadam', 'slaveri', 'propos', 'dump', 'chipmunk', 'jasonle', 'nazi', 'germani', 'unfold', 'player', 'isra', 'ambit', 'll', 'fake', 'adamsandl', '1980s', 'michellemonaghan', 'gradual', 'circumst', 'profoundli', 'haleyjoelos', 'workahol', 'mansion', 'butler', 'fiction', 'decis', 'reality', 'jameswood', 'cocki', 'sebastian', 'invis', 'formula', 'eventu', 'results', 'elisabethshu', 'investigate', 'seanpenn', 'box', 'outwit', 'bend', 'woodyharrelson', 'emma', 'bishop', 'robertredford', 'garysinis', 'timrobbin', 'minnesota', 'linda', 'word', 'female', 'richard', 'product', 'andrew', 'youngest', 'purchas', 'creativ', 'shatter', 'morn', 'la', 'service', 'ami', 'annehech', 'franki', 'deadliest', 'weapons', 'frankie', 'russia', 'conan', 'hord', 'pain', 'wilderness', 'hills', '1920', 'comeback', 'social', 'poor', 'doll', 'victori', 'lift', 'chriscoop', 'tornado', 'sign', 'paper', 'melissa', 'nature', 'wifehusbandrelationship', 'helenhunt', 'billpaxton', 'caryelw', 'chuck', 'kelly', 'marriage', 'ditch', 'aircraft', 'cargo', 'song', 'tap', 'danc', 'brittanymurphi', 'document', 'seasid', 'briancox', 'conspir', 'glennclos', '24', 'hour', 'charismat', 'roll', 'danny', 'specialist', '150', 'vega', 'reconcil', 'tess', 'luck', 'doubl', 'millajovovich', 'dracula', 'resort', 'ag', 'music', 'realiti', 'environ', 'chaotic', 'lawyer', 'fairi', 'view', 'jamesmarsden', 'verafarmiga', 'irresist', 'outrag', 'staff', 'amateur', 'petti', 'crook', 'caseyaffleck', 'cameron', 'kate', 'britain', 'breakup', 'dean', 'victim', 'theft', 'genehackman', 'divorce', 'jake', 'married', 'merylstreep', 'compos', 'willi', 'vow', 'wood', 'season', 'reli', 'elliot', 'fast', 'ralli', 'ashtonkutch', 'divid', 'jacqu', '2001', 'germans', 'brazilian', 'seannwilliamscott', 'collide', 'romant', 'maid', 'gongli', 'jail', 'sentence', 'sean', 'tokyo', 'low', 'rent', 'section', 'drift', 'sungkang', 'arthur', 'misfit', 'dawn', 'billnighi', 'reaper', 'parrish', 'vacation', 'agenda', 'lifeanddeath', 'claireforlani', 'credit', 'wolf', 'eliaskotea', 'semi', 'autobiograph', 'celebr', 'strip', 'collaps', 'seven', 'juliarobert', 'canadian', '23', 'rockstar', 'date', 'whip', 'michaelcera', 'kieranculkin', 'rapidli', 'liter', 'resolv', 'hilaryswank', 'sherman', 'loose', 'invit', 'freddieprinzejr', 'sarahmichellegellar', 'matthewlillard', 'wasteland', 'ma', 'prostitute', 'possibl', 'urban', 'deliv', 'rank', 'popular', 'remot', 'forward', 'aris', 'regret', 'christopherwalken', '1950s', 'stephen', 'horror', 'canin', 'christinaappleg', 'uncanni', 'instantli', 'bloodthirsti', 'survival', 'adolesc', 'ronperlman', 'selmablair', 'serial', 'bay', 'built', 'endless', 'michaelrapaport', 'televis', 'rate', 'ridicul', 'jenniferaniston', 'sniper', 'scout', 'tactic', 'sharp', 'drunken', 'thailand', 'stu', 'wedding', 'bachelor', 'bradleycoop', 'disord', 'dannydevito', 'mismatch', 'suburban', 'pop', 'lesson', 'older', 'stitch', 'wacki', 'sistersisterrelationship', 'dinner', 'mile', 'rock', 'appoint', 'nail', 'robertduval', 'coach', 'inmat', 'footbal', 'chrisrock', 'burtreynold', 'grew', 'kevinjam', 'promot', 'analyst', 'industri', 'awkward', 'daniel', 'patient', 'hospit', 'brad', 'bust', 'airport', 'embarrass', 'pride', 'better', 'acquir', 'joanallen', 'bronson', 'nephew', 'entertain', 'events', 'killing', 'jenniferjasonleigh', 'plastic', 'pretend', 'assistant', 'beach', 'airborn', 'trouble', 'bag', 'creepi', 'virus', 'jerri', 'rachel', 'energi', 'sweetheart', 'twice', 'object', 'marciagayharden', 'luke', 'isol', 'hill', 'unfortun', 'guest', 'basketbal', 'michael', 'franc', 'soccer', 'expens', 'disappears', 'jeanreno', 'went', 'drastic', 'climat', 'change', 'bar', 'speak', 'kathyb', 'theori', '1945', 'european', 'theater', 'harden', 'sergeant', 'divis', 'tank', 'lines', 'germany', 'worldwarii', 'fashion', 'editor', 'worse', 'boo', 'danaykroyd', 'justintimberlak', 'frontier', 'jamescromwel', 'prospect', 'robinson', 'sabotag', 'williamhurt', 'gulf', 'raymond', 'knock', 'broker', 'vice', 'haunt', 'didn', 'appear', 'dana', 'sight', 'hotel', 'cool', 'blend', 'add', 'jill', 'saw', 'hara', 'animal', 'account', 'necessari', 'hack', 'stanley', 'femalenud', 'elena', 'file', 'comfort', 'union', 'chri', 'anni', 'paradis', 'cubagoodingjr', 'sons', 'sin', 'satan', 'patriciaarquett', 'harveykeitel', 'requir', 'stud', '60s', 'annetteben', 'hospital', 'disrupt', 'julie', 'photograph', 'devis', 'obstacl', 'stalk', 'affair', 'interact', 'radhamitchel', 'missil', 'spark', 'shown', 'perspect', 'brucegreenwood', 'jersey', 'tunnel', 'truck', 'kit', 'structur', 'audienc', 'documentari', 'manipul', 'profit', 'resources', 'tyler', 'barrypepp', 'forestwhitak', 'duck', 'feud', 'tire', 'warner', 'contract', 'dj', 'escort', 'meaning', 'script', 'week', 'shoot', 'mistress', 'muse', 'marioncotillard', 'shakespear', 'willpatton', 'oliviawilliam', 'babe', 'contest', 'injur', 'viciou', 'decim', 'yearn', 'awry', 'grandfath', 'grandmoth', 'block', 'flat', 'unless', 'documentary', 'sub', 'reaction', 'disastr', 'merchant', 'university', 'legaci', 'prize', 'paranoid', 'mental', 'statu', 'crave', 'titl', 'anderson', 'boyfriend', 'grandfather', 'lecter', 'psychopath', '1890', 'advertis', 'kids', 'dread', 'thanksgiv', 'aggress', 'katieholm', 'alpacino', 'double', 'shadi', 'monica', 'sel', 'philosophi', 'psychologist', 'epidem', 'jeremynortham', 'financ', 'renerusso', 'piperperabo', 'duke', 'stray', 'kevinhart', 'cun', 'seanconneri', 'juli', 'dozen', 'conduct', 'fails', 'ran', 'malcolm', 'breed', 'expedit', 'behavior', 'activist', 'miracul', 'pregnant', 'cliveowen', 'academi', 'wesley', 'clad', '100', 'sanfrancisco', 'prompt', 'situation', 'henri', 'quirki', 'total', 'delight', 'short', 'term', 'memory', 'woo', 'robschneid', 'traci', 'audit', 'traumat', 'wwii', 'somebodi', 'stellanskarsgård', 'niece', 'reward', 'mariabello', 'nobodi', 'quarantin', 'transit', 'loung', 'simpli', 'court', '16', 'quick', 'emmarobert', 'austin', 'highest', 'annie', 'assembl', 'afghanistan', 'unforeseen', 'shark', 'singer', 'industry', 'palmer', 'umathurman', 'athlet', 'ciaránhind', 'seal', 'surround', 'physician', 'colehaus', 'romance', 'katherineheigl', 'height', 'upset', 'fragil', 'solo', 'kgb', 'admit', 'cultur', 'tension', 'different', 'upperclass', 'bed', 'scari', 'frighten', 'timeless', 'richardger', 'teacher', 'chowyun', 'bail', 'mickeyrourk', 'beat', 'guilt', 'negoti', 'harrison', 'ford', 'instructor', 'solv', 'rapmus', 'todd', 'elimin', 'spacemarin', 'soundtrack', 'seclud', 'mexico', 'horrifi', 'hideou', 'repress', 'miley', 'coma', 'bodi', 'bridgetfonda', 'dust', 'price', 'render', 'robinwright', 'cope', 'jenamalon', 'dunn', 'blind', 'discovery', 'temper', 'volatil', 'jasonsudeiki', 'finn', 'katehudson', 'simmon', 'comedian', 'facil', 'jennifergarn', 'ricki', 'stripe', 'shake', 'coast', 'floor', 'retain', 'eventually', 'cheat', 'mistaken', 'jimmi', 'chill', 'suppress', 'cup', 'paulnewman', 'bonniehunt', 'write', 'maggi', 'femal', 'smalltown', 'exactli', 'page', 'surface', 'recip', 'criminals', 'occupi', 'jewish', 'wasn', 'suppos', 'did', 'capt', 'ori', 'steven', 'hostage', 'justic', 'deke', 'variou', 'liber', 'wealth', 'gorgeou', 'sofia', 'horribl', 'amnesia', 'pool', 'arctic', 'predat', 'sensat', 'stardom', '25', 'ignit', 'fought', 'vietnamveteran', 'ban', 'building', 'respond', 'bigger', 'whitehous', 'angelabassett', 'picard', 'brentspin', 'expected', 'bloom', 'publish', 'adulteri', 'jamesspad', 'albert', 'joey', 'sold', 'history', 'focus', 'michaelbiehn', 'economi', 'boys', 'dominiccoop', 'islam', 'countrysid', 'austrian', 'davidthewli', 'ronni', 'auto', 'firm', 'winonaryd', 'educ', 'operation', 'inject', 'kelli', 'catch', 'arnold', 'budapest', 'vampire', 'stephenrea', 'michaeleali', 'dreams', 'senior', 'silent', 'orchestr', 'nearbi', 'unwit', 'hart', 'blackpeopl', 'times', 'klein', 'rebecca', 'jonathan', 'instant', 'superstar', 'seriou', 'chrisklein', 'llcoolj', 'lossoffamili', 'freeman', 'ravag', 'countryside', 'christianslat', 'cell', 'dorothi', 'chicago', 'ski', 'polli', 'promin', 'novelist', 'catherin', 'yard', 'psychiatrist', 'entranc', 'seduct', 'malenud', 'array', 'proof', 'jimcaviezel', 'lust', 'overthrow', 'tyrann', 'succe', 'insight', 'advic', 'happens', 'bella', 'seattl', 'string', 'midst', 'jacob', 'gotten', 'marlonbrando', 'jasonsegel', 'wesleysnip', 'jenniferlopez', 'newlyw', 'ted', 'baby', 'histor', 'concern', 'philosoph', 'oscarisaac', 'frankenstein', 'aren', 'bowl', 'fred', 'approach', 'whatev', '60', 'executive', 'hoffman', 'markstrong', 'creature', 'crush', 'anthonymacki', 'shadowi', 'element', 'davidduchovni', 'colinfirth', 'troop', 'revolv', 'rac', 'illeg', 'marisatomei', 'overcom', 'thomasjan', 'office', 'slavery', '1971', '200', 'calvin', 'obscur', 'els', 'gig', 'france', 'independ', 'anonym', 'megryan', 'dale', 'jealous', 'constant', 'strain', 'twenti', 'spanish', 'oppress', 'foil', 'rafael', 'list', 'highway', 'loui', 'runner', 'neil', 'clinteastwood', 'climber', 'utah', 'emilymortim', 'maggiegyllenha', 'katherin', 'ann', 'conserv', 'sexual', 'candid', 'youngster', 'rosebyrn', 'jess', 'wing', 'uncomfort', 'fatal', 'blade', 'kriskristofferson', 'mid', 'colorado', 'patrol', 'guerrilla', 'leathompson', 'campaign', 'wander', 'emmathompson', 'corporation', 'outbreak', 'blow', 'revel', 'thug', 'violenc', 'davidmors', 'daxshepard', 'salesman', 'channel', 'fans', 'americanfootbal', 'hudson', 'vatican', 'andiemacdowel', 'ball', 'rough', 'lisakudrow', 'creation', 'oliv', 'experience', 'targets', 'dutch', 'van', 'infidel', 'kristinscottthoma', 'awe', 'superior', 'griev', 'expectations', 'entrepreneur', 'intric', 'reviv', 'gunsling', 'cartel', 'police', 'dress', 'kerrywashington', 'realis', 'wade', 'hockey', 'elvi', 'imperson', 'partners', 'recently', 'courteneycox', 'shelter', 'scandal', 'said', 'dominicwest', 'florida', 'teripolo', 'lov', 'plenti', 'matur', 'row', 'gentl', 'southernusa', 'michaelclarkeduncan', 'biker', 'hyster', 'chicken', 'spotlight', 'campbel', 'georgia', 'campbell', 'joseph', 'broadcast', 'opera', 'lauralinney', 'odds', 'jobs', 'dea', 'wide', 'venic', 'wil', 'depend', 'guidanc', 'legal', 'june', 'jealou', 'hughgrant', 'switch', 'general', 'woodyallen', 'session', 'examin', 'cole', 'smash', 'baker', 'eugenelevi', 'vastli', 'brien', 'liz', 'zone', 'pleasur', 'italy', 'unexpectedly', 'gunman', 'helenmirren', 'quarterback', 'nichola', 'sour', 'peasant', 'exact', 'baltimor', 'arrest', 'request', 'bargain', 'footag', 'musician', 'anthonyanderson', 'neglect', 'brick', 'parallel', 'everybodi', 'elliott', 'moor', 'betti', 'tree', 'bodyguard', 'uptight', 'ken', 'constantli', 'cause', 'raid', 'jan', 'cynic', 'clients', 'norman', 'ritual', 'deputi', 'sensit', 'network', 'raw', 'warren', 'stockardchan', 'tong', 'clark', 'jenniferlovehewitt', 'stevenseag', 'funeral', 'ripley', 'died', 'exil', 'mostli', 'gari', 'corps', 'evanrachelwood', 'mistakenli', 'elizabethbank', 'triumph', 'pageant', 'overnight', 'winner', 'stan', 'reginak', 'mickey', 'cohen', 'drugs', 'guns', 'prostitut', 'sgt', 'ryangosl', 'mandela', 'racial', 'econom', 'upcom', 'producer', 'spaceship', 'jeffdaniel', 'darylhannah', 'kiefersutherland', 'evalongoria', 'reminisc', '1950', 'honeymoon', 'luc', 'territory', 'beverli', 'basebal', 'gu', 'check', 'disturb', 'crate', 'gruesom', 'stress', 'homeless', 'articl', 'swing', 'golf', 'interview', 'francesmcdormand', 'sidekick', 'alike', 'cube', 'record', 'icecub', 'vampires', 'camgigandet', 'sailor', '1940', 'actress', 'pornographi', 'jamesgandolfini', '17', 'demons', 'companion', 'apartment', 'arrives', 'occurr', 'bedroom', 'clerk', 'camera', 'denni', 'gabrielmacht', 'rayliotta', 'turbul', '1984', 'support', 'heartbreak', 'battalion', '30', 'religi', 'kellypreston', 'iraq', 'imaginari', 'madison', 'shortli', 'cutthroat', 'vegas', 'rambo', 'declin', 'football', 'decor', 'johnkrasinski', 'brothers', 'alilart', 'childabus', 'teens', 'harder', 'lloyd', 'bahama', 'unsavori', 'monk', 'fiance', 'italian', 'remov', 'deceas', 'hometown', 'johnnyknoxvil', 'arrang', 'coming', 'christopherreev', 'experiment', 'juan', 'hitch', 'client', 'tabloid', 'relationships', 'thomashadenchurch', 'michel', 'sick', 'jasonbigg', '2009', 'alabama', 'phil', 'weekli', 'therapist', 'kat', 'stretch', 'halloween', 'mccall', 'ultra', 'impos', 'nowher', 'chloëgracemoretz', 'mistak', 'issu', 'invest', 'su', 'harass', 'maggie', 'employer', 'vivicaa', 'concoct', 'movie', 'diva', 'picture', 'heathergraham', 'associ', 'ernest', 'breakdown', 'mere', 'jealousi', 'chon', 'wang', 'nevada', 'kurt', 'clueless', 'roommat', 'michaelangarano', 'madonna', 'sought', 'liaison', 'sir', 'railroad', 'note', 'tomwilkinson', 'read', 'label', 'thank', 'temporari', 'neighborhood', 'apprehend', 'mayb', 'hopkin', 'character', 'martha', 'vineyard', 'walt', 'fastest', 'cher', 'sex', 'jacki', 'michigan', '1976', 'nba', 'somewhat', 'seas', 'asylum', 'fan', 'acquaint', 'patrickwilson', 'jonnyleemil', 'halfway', 'weaver', 'kermit', 'alik', 'hood', 'dancer', 'distract', 'offici', 'culture', 'charlott', 'haze', 'drink', 'nightmarish', 'alcohol', 'tombereng', 'occur', 'redempt', 'hitman', '1979', 'corleon', 'forgiv', 'andygarcía', 'drew', 'shoe', 'randi', 'perman', 'frustrat', 'mattdillon', 'psycholog', 'idealist', 'louisiana', 'penn', 'influenc', 'retel', 'grandmother', 'maria', 'christopherlloyd', 'parisian', '20th', 'poet', 'stepfath', 'ryanphillipp', 'jessebradford', 'length', 'quentin', 'movies', 'ohio', 'tabl', 'dollar', 'brook', 'dirti', 'roof', 'songs', 'sophie', 'singlepar', 'earli', 'awak', 'grade', 'flower', 'antic', 'mitch', 'minor', 'jonathanrhysmey', 'multipl', 'iren', 'schizophrenia', 'james', 'listen', 'reel', 'glimps', 'plu', 'rod', 'bennett', 'gay', 'journal', 'deed', 'zombi', 'unexplain', 'describ', 'biographi', 'matthew', 'schmidt', 'bohemian', 'highschool', 'betrayal', 'spite', 'russel', 'profil', 'fascin', 'nun', 'emili', 'single', 'impress', 'vet', 'competition', 'fed', 'commerci', 'celebration', 'billi', 'players', 'river', 'annasophiarobb', 'yellow', 'lindsaylohan', 'tast', 'hansel', 'conni', 'suspici', 'sci', 'fi', 'stronger', 'grasp', 'eastern', 'tens', 'numer', 'unsettl', 'virginiamadsen', 'loner', 'rules', 'illness', 'psychiatr', 'protest', 'varieti', 'pawn', 'knit', 'reunion', 'hasn', 'virginity', 'heather', 'finch', 'insist', 'unpredict', 'axel', 'foley', 'lovabl', 'devilish', 'funer', 'atom', 'colonel', 'jone', 'contractor', 'alaska', 'ceo', 'spill', 'solitari', 'hippi', 'model', 'merciless', 'bounc', 'hound', 'malevol', 'crimes', 'grisli', 'root', 'kati', 'loveofone', 'melani', 'saoirseronan', 'il', 'du', 'hyun', 'seo', 'angri', 'nam', 'drunk', 'snatch', 'powerless', 'transplant', 'anjelicahuston', 'snake', 'metal', 'murray', 'capit', 'punish', 'cheerlead', 'cedrictheentertain', 'jimmy', 'vincentcassel', 'dive', 'untim', 'fayedunaway', 'misguid', 'sweet', 'reverend', 'sale', 'chazzpalminteri', 'onlin', 'lena', 'unsuspect', 'derek', 'harold', 'inept', 'colleague', 'tick', 'cult', 'amberheard', 'problems', 'defin', '1967', 'perspectives', 'cocain', 'lifestyle', 'indiana', 'affluent', 'aarontaylor', 'injuri', 'murderer', 'queenlatifah', 'chamber', 'meg', 'junior', 'nicol', 'gore', 'tycoon', 'roller', 'whoopigoldberg', 'marymccormack', 'frequent', 'jazz', 'smooth', 'karen', 'fend', 'violence', '1965', 'addict', 'phenomena', 'blossom', 'servant', 'platon', 'neal', 'dermotmulroney', 'stars', 'publicist', 'couple', 'newly', 'megan', 'loudiamondphillip', 'tel', 'kidnapp', 'letter', 'hors', 'julieandrew', 'judg', 'probabl', 'interfer', 'policebrut', 'ethanhawk', 'scottglenn', 'convent', 'ail', 'regim', 'parodi', 'scream', 'comed', 'puppet', 'roommate', 'gave', 'skills', 'stephendorff', 'academ', 'circumstances', 'reckless', 'insan', 'voice', 'violet', 'coyot', 'ugli', 'intertwin', 'haydenpanettier', 'killers', 'ned', 'victims', 'ensues', 'changes', 'weird', 'families', 'benefit', 'diagnos', 'pot', 'phone', 'kimbasing', 'spoof', 'riot', 'connecticut', 'suburb', 'packag', 'doug', 'laura', 'jennif', 'lake', 'little', 'ashley', 'broadway', 'henrythoma', 'minist', 'drown', 'episod', 'miracl', 'derekluk', 'unhappi', 'ladder', 'profess', 'flash', 'charliesheen', 'redeem', 'supermarket', 'hilaryduff', 'iranian', 'alanarkin', 'samuel', 'boyd', 'stewart', 'abroad', 'madam', 'montana', 'scottspeedman', 'unorthodox', 'jamal', 'scholarship', 'treatment', 'piano', 'bobhoskin', 'hop', 'exam', 'classmat', 'zacefron', 'strict', 'jock', 'students', 'brielarson', 'nomin', '2000', 'hopelessli', 'mirandarichardson', 'timothyspal', 'straight', 'foul', 'wildli', 'taylor', 'marti', 'latin', 'unconvent', 'ashleyjudd', 'barbara', 'lauren', 'virginia', 'visions', 'solomon', 'edwardburn', 'dennishopp', 'jaredleto', 'unemploy', 'kim', 'pete', 'hip', 'mekhiphif', 'tribe', 'poetri', 'shannynsossamon', 'tonicollett', 'decept', 'margaret', 'bulli', '1955', 'skateboard', 'sik', 'campu', 'ana', 'carmen', 'alexapenavega', 'hauntedhous', 'davidarquett', 'nevecampbel', 'schoolteach', 'clayton', 'tangl', 'julia', 'wrote', 'trainer', 'months', 'approaches', 'settler', 'circuit', 'dates', 'orlean', 'attitud', 'nanni', 'nialong', 'mutual', 'franci', 'donovan', 'sink', 'concert', 'seriously', 'magician', 'motley', 'higher', 'valuabl', 'innocence', 'backyard', 'hannah', '1960', 'generation', 'institut', 'cancer', 'extra', 'macaulayculkin', 'sidney', 'reconnect', 'streetwis', 'influenti', 'particularli', 'suspens', 'bridg', 'frantic', 'announc', 'stories', 'eric', 'nanci', 'catherinedeneuv', 'sisters', 'appli', 'zoe', 'round', 'vincent', 'mirasorvino', 'jasonschwartzman', 'queens', 'rachaelleighcook', 'psychic', 'freak', 'chevychas', 'girls', 'brief', 'reflect', 'circle', 'regular', 'berniemac', 'claudevandamm', 'literari', 'guru', 'naiv', 'scam', 'nomad', 'screenwrit', 'shyness', '1980', 'bout', 'sneak', 'clever', 'dilemma', 'clown', 'lambert', 'working', 'maya', 'humili', 'gene', 'religion', 'heavyweight', 'manager', 'photographer', 'chad', 'reclus', 'abigailbreslin', 'biograph', 'happiness', 'farewel', 'dolphin', 'robbery', 'lukewilson', 'protagonist', 'amy', 'trucker', 'walsh', 'botch', 'ishmael', 'colin', 'exorc', 'unsuccess', 'books', 'legacy', 'probe', 'michaelyork', 'saint', 'remark', 'boring', 'drinking', 'tested', 'entiti', 'williamshatn', 'deforestkelley', 'evening', 'cairo', 'juliettebinoch', 'shotgun', 'diner', 'michaelmadsen', 'krueger', 'vincentd', 'onofrio', 'housewif', 'brew', 'decades', 'community', 'jami', 'patriciaclarkson', 'soror', 'fratern', 'thirti', 'films', 'michaelsheen', 'bless', 'diane', 'mediev', 'meticul', 'jesu', 'mirror', 'amysmart', 'dian', 'forth', 'tylerperri', 'millionaire', 'mcphee', 'motorcycl', 'climb', 'portrait', 'finale', 'cathol', 'condition', 'rel', 'trauma', 'alfredmolina', 'sarapaxton', 'leslienielsen', 'adults', 'bike', 'ethic', 'oregon', 'coastal', 'australian', 'strategi', 'baron', 'victoria', 'harriet', 'harsh', 'castl', 'jigsaw', 'philipp', '1974', 'danish', 'festival', 'omar', 'muslim', 'viewer', 'region', 'amidst', 'missouri', 'ellenburstyn', 'rural', 'communist', 'isaiahwashington', 'joel', 'frozen', 'carriefish', 'sudden', 'elli', 'glenn', 'confess', 'rogermoor', 'hopedavi', 'leg', 'phenomenon', 'recreat', 'grad', 'elev', 'seat', 'slum', 'multi', 'lovesick', 'rugrat', 'dil', 'aidanquinn', 'annakendrick', 'avail', 'justin', 'judygr', 'diplomat', 'morrischestnut', 'frankiemuniz', 'gaelgarcíabern', 'yakuza', 'deeper', 'emilywatson', 'loan', 'doorstep', 'freshman', 'melissageorg', 'jamesremar', 'peer', 'prom', 'pierr', 'detent', 'counselor', 'esteem', 'tradit', 'tigger', '1994', 'princip', 'honest', 'poverti', 'jenni', 'jamie', 'miner', 'beg', 'sarahpolley', 'unknowingli', 'smoke', 'maniac', '18', 'prejudic', 'gambler', 'inevit', 'tina', 'helena', 'convers', 'miloventimiglia', 'disput', '1960s', '1977', 'select', 'easili', 'famous', '2002', 'perry', '1970s', 'debut', 'compton', 'meant', 'prestigi', 'motel', 'occasion', 'crimefight', 'rutgerhau', 'highland', 'borrow', 'jesus', 'migrat', 'kathleenturn', 'workers', 'lili', 'smuggl', 'parentskidsrelationship', 'moore', 'alexisbledel', 'warden', 'crocodil', 'shakespeare', 'jessica', 'stroke', 'independentfilm', 'practic', 'jew', 'mall', 'virgin', 'romeo', 'stoner', 'lawman', '1990', 'supervisor', 'mayhem', 'christopherlambert', 'sandi', 'elderli', 'christ', 'bush', 'traffick', 'disappeared', 'freddi', 'robertenglund', 'ness', 'anton', 'bell', 'angela', 'academy', 'fling', 'gregorypeck', 'beth', 'newcom', 'madea', 'appreci', '1997', 'eddiegriffin', 'heard', 'shine', 'lakebel', 'amandabyn', 'bu', 'olivia', 'spin', 'dunde', 'illicit', 'possession', 'allegedli', 'porn', 'kimcattral', 'brendan', 'unforgett', 'converg', 'shirleymaclain', 'zealand', 'mega', 'illustr', 'philadelphia', 'diannewiest', 'minniedriv', 'encourag', 'cleaduval', 'diana', 'yacht', 'acclaim', 'insecur', 'survivors', 'lurk', 'mariah', 'lac', 'mauric', 'becki', 'whim', 'discuss', 'molli', 'sleazi', 'loser', 'gandhi', 'deuc', 'painter', 'rubi', 'val', 'garag', 'sound', 'tarareid', 'getaway', 'playwright', 'depress', 'mitchel', 'canada', 'buck', 'basement', 'jackass', 'anniversari', 'chloe', 'farmhouse', 'intim', 'wheelchair', 'stella', 'tayedigg', 'satir', 'perez', 'funni', 'jerusalem', '1962', 'kumar', 'mail', 'unsolv', 'privileg', 'hitchhik', 'michaelmoor', 'satisfi', 'newjersey', 'vanessahudgen', 'intersect', 'outback', 'window', 'lola', 'marie', 'unspeak', 'melissaleo', 'kathi', 'bobby', 'tori', 'ballet', 'difficulti', 'dorian', 'goon', 'sallyhawkin', 'brent', '1973', 'boredom', 'erot', 'recount', 'whit', 'answers', 'spiritu', 'israel', 'tobinbel', 'contemporari', '2008', 'elite', 'oblig', 'meagangood', 'salon', 'tvmovi', '1944', 'craig', 'womandirector', 'unsur', 'sissyspacek', 'struggle', 'screenplay', 'laws', 'residents', 'basketball', 'teachers', 'legends', 'freddy', 'duncan', 'ghetto', 'leon', 'improv', 'wordsworth', 'stripper', 'performance', 'hooker', 'mikeepp', 'exorcism', 'oddbal', 'tai', 'caleb', 'michellewilliam', 'pierre', 'toronto', 'pimp', 'decision', 'prank', 'jin', 'ta', 'mermaid', 'brucedern', 'holli', 'werner', 'parties', 'ireland', 'brucecampbel', 'holden', 'folk', 'paula', 'hustler', 'brandon', 'marilyn', 'montreal', 'chloësevigni', 'iran', 'underag', 'singh', 'joan', 'wrestler', 'dre', 'eva', 'lesbian', 'backwat', 'warlock', 'mormon', 'tucker', 'exclus', 'pastor', 'johnwayn', 'mica', 'ericrobert', 'obama', 'hud', 'alyssa', 'raju', 'meat'])"
      ]
     },
     "execution_count": 143,
     "metadata": {},
     "output_type": "execute_result"
    }
   ],
   "source": [
    "cv.vocabulary_.keys()"
   ]
  },
  {
   "cell_type": "code",
   "execution_count": 144,
   "id": "0e6a86c3",
   "metadata": {},
   "outputs": [],
   "source": [
    "from sklearn.metrics.pairwise import cosine_similarity"
   ]
  },
  {
   "cell_type": "code",
   "execution_count": 145,
   "id": "396f35e0",
   "metadata": {},
   "outputs": [],
   "source": [
    "similarity = cosine_similarity(vectors)"
   ]
  },
  {
   "cell_type": "code",
   "execution_count": 146,
   "id": "ba6a1ba9",
   "metadata": {},
   "outputs": [
    {
     "data": {
      "text/plain": [
       "[(529, 0.24595492912420727),\n",
       " (4407, 0.23570226039551587),\n",
       " (3609, 0.23333333333333336),\n",
       " (3084, 0.19611613513818404),\n",
       " (2787, 0.18898223650461363)]"
      ]
     },
     "execution_count": 146,
     "metadata": {},
     "output_type": "execute_result"
    }
   ],
   "source": [
    "sorted(list(enumerate(similarity[0])),reverse=True,key=lambda X: X[1])[1:6]"
   ]
  },
  {
   "cell_type": "code",
   "execution_count": 147,
   "id": "536cb0ec",
   "metadata": {},
   "outputs": [],
   "source": [
    "def recommend(movie1):\n",
    "    movie_index = new_df[new_df['title'] == movie1].index[0]\n",
    "    distances = similarity[movie_index]\n",
    "    movies_list = sorted(list(enumerate(distances)),reverse=True,key=lambda X: X[1])[1:6]\n",
    "    \n",
    "    for i in movies_list:\n",
    "        print(new_df.iloc[i[0]].title)"
   ]
  },
  {
   "cell_type": "code",
   "execution_count": 148,
   "id": "93bd3868",
   "metadata": {},
   "outputs": [
    {
     "data": {
      "text/plain": [
       "813"
      ]
     },
     "execution_count": 148,
     "metadata": {},
     "output_type": "execute_result"
    }
   ],
   "source": [
    "new_df[new_df['title'] == 'Superman'].index[0]"
   ]
  },
  {
   "cell_type": "code",
   "execution_count": 149,
   "id": "f6c0a66b",
   "metadata": {},
   "outputs": [
    {
     "name": "stdout",
     "output_type": "stream",
     "text": [
      "Stripes\n",
      "The Legend of Hercules\n",
      "The Diving Bell and the Butterfly\n",
      "How to Fall in Love\n",
      "The Adventures of Elmo in Grouchland\n"
     ]
    }
   ],
   "source": [
    "recommend('Superman')"
   ]
  },
  {
   "cell_type": "code",
   "execution_count": 150,
   "id": "50b33e80",
   "metadata": {},
   "outputs": [
    {
     "data": {
      "text/plain": [
       "'Tears of the Sun'"
      ]
     },
     "execution_count": 150,
     "metadata": {},
     "output_type": "execute_result"
    }
   ],
   "source": [
    "new_df.iloc[529].title"
   ]
  },
  {
   "cell_type": "code",
   "execution_count": 151,
   "id": "b6415cdf",
   "metadata": {},
   "outputs": [],
   "source": [
    "import pickle"
   ]
  },
  {
   "cell_type": "code",
   "execution_count": 152,
   "id": "e773e124",
   "metadata": {},
   "outputs": [],
   "source": [
    "pickle.dump(new_df,open('movies.pkl','wb'))"
   ]
  },
  {
   "cell_type": "code",
   "execution_count": 153,
   "id": "49d5ae95",
   "metadata": {},
   "outputs": [
    {
     "data": {
      "text/plain": [
       "array(['Avatar', \"Pirates of the Caribbean: At World's End\", 'Spectre',\n",
       "       ..., 'Signed, Sealed, Delivered', 'Shanghai Calling',\n",
       "       'My Date with Drew'], dtype=object)"
      ]
     },
     "execution_count": 153,
     "metadata": {},
     "output_type": "execute_result"
    }
   ],
   "source": [
    "new_df[\"title\"].values"
   ]
  },
  {
   "cell_type": "code",
   "execution_count": 154,
   "id": "b0c78fe5",
   "metadata": {},
   "outputs": [],
   "source": [
    "pickle.dump(new_df.to_dict(),open('movies_dict.pkl','wb'))"
   ]
  },
  {
   "cell_type": "code",
   "execution_count": 155,
   "id": "86af0950",
   "metadata": {},
   "outputs": [],
   "source": [
    "pickle.dump(similarity,open('similarity.pkl','wb'))"
   ]
  },
  {
   "cell_type": "code",
   "execution_count": null,
   "id": "0351bca2",
   "metadata": {},
   "outputs": [],
   "source": []
  },
  {
   "cell_type": "code",
   "execution_count": null,
   "id": "fdfc8e4e",
   "metadata": {},
   "outputs": [],
   "source": []
  },
  {
   "cell_type": "code",
   "execution_count": null,
   "id": "4389d865",
   "metadata": {},
   "outputs": [],
   "source": []
  },
  {
   "cell_type": "code",
   "execution_count": null,
   "id": "69068796",
   "metadata": {},
   "outputs": [],
   "source": []
  }
 ],
 "metadata": {
  "kernelspec": {
   "display_name": "Python 3 (ipykernel)",
   "language": "python",
   "name": "python3"
  },
  "language_info": {
   "codemirror_mode": {
    "name": "ipython",
    "version": 3
   },
   "file_extension": ".py",
   "mimetype": "text/x-python",
   "name": "python",
   "nbconvert_exporter": "python",
   "pygments_lexer": "ipython3",
   "version": "3.11.5"
  }
 },
 "nbformat": 4,
 "nbformat_minor": 5
}
